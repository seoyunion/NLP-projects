{
  "nbformat": 4,
  "nbformat_minor": 0,
  "metadata": {
    "colab": {
      "name": "tf-idf 실습.ipynb",
      "provenance": [],
      "collapsed_sections": []
    },
    "kernelspec": {
      "name": "python3",
      "display_name": "Python 3"
    },
    "language_info": {
      "name": "python"
    }
  },
  "cells": [
    {
      "cell_type": "markdown",
      "metadata": {
        "id": "KKfX-YAjbpyf"
      },
      "source": [
        "## 원래 코드: MultinomialNB & TfidfVetorizer"
      ]
    },
    {
      "cell_type": "code",
      "metadata": {
        "colab": {
          "base_uri": "https://localhost:8080/"
        },
        "id": "jEFVxT-cjgJL",
        "outputId": "758ed176-0428-4ac4-ad67-ab7db0807d53"
      },
      "source": [
        "from sklearn.datasets import fetch_20newsgroups\n",
        "from sklearn.feature_extraction.text import TfidfVectorizer\n",
        "from sklearn.naive_bayes import MultinomialNB\n",
        "from sklearn import metrics\n",
        "import numpy as np\n",
        "\n",
        "categories = ['rec.autos', 'rec.motorcycles', 'rec.sport.baseball', 'rec.sport.hockey']\n",
        "newsgroups_train = fetch_20newsgroups(subset='train', remove=('headers', 'footers', 'quotes'), categories=categories)\n",
        "newsgroups_test = fetch_20newsgroups(subset='test', remove=('headers', 'footers', 'quotes'), categories=categories)\n",
        "vectorizer = TfidfVectorizer()\n",
        "vectors = vectorizer.fit_transform(newsgroups_train.data)\n",
        "vectors_test = vectorizer.transform(newsgroups_test.data)\n",
        "\n",
        "# model: MultimomialNB\n",
        "clf = MultinomialNB(alpha=.01)\n",
        "clf.fit(vectors, newsgroups_train.target)\n",
        "pred = clf.predict(vectors_test)\n",
        "#f-1 score\n",
        "metrics.f1_score(newsgroups_test.target, pred, average='macro')"
      ],
      "execution_count": 11,
      "outputs": [
        {
          "output_type": "execute_result",
          "data": {
            "text/plain": [
              "0.8512083976713682"
            ]
          },
          "metadata": {},
          "execution_count": 11
        }
      ]
    },
    {
      "cell_type": "code",
      "metadata": {
        "colab": {
          "base_uri": "https://localhost:8080/"
        },
        "id": "gbEhubgy_xsK",
        "outputId": "294539cc-b473-49f5-90e1-1476f0baf1fd"
      },
      "source": [
        "def show_top10(classifier, vectorizer, categories):\n",
        "  feature_names = np.asarray(vectorizer.get_feature_names())\n",
        "  for i, category in enumerate(categories):\n",
        "    top10 = np.argsort(classifier.coef_[i])[-10:]\n",
        "    print(\"%s: %s\" % (category, \" \".join(feature_names[top10])))\n",
        "\n",
        "show_top10(clf, vectorizer, newsgroups_train.target_names)"
      ],
      "execution_count": 12,
      "outputs": [
        {
          "output_type": "stream",
          "name": "stdout",
          "text": [
            "rec.autos: that is in car you it of and to the\n",
            "rec.motorcycles: for is that in you of it and to the\n",
            "rec.sport.baseball: for was is that in of he and to the\n",
            "rec.sport.hockey: you it is he that of and in to the\n"
          ]
        }
      ]
    },
    {
      "cell_type": "markdown",
      "metadata": {
        "id": "kx-Y6BpiONXg"
      },
      "source": [
        "F-1 score 높이기!"
      ]
    },
    {
      "cell_type": "markdown",
      "metadata": {
        "id": "5wxWIPJSI-EQ"
      },
      "source": [
        "## Try1: Logistic Regresion & TfidfVectorizer"
      ]
    },
    {
      "cell_type": "code",
      "metadata": {
        "colab": {
          "base_uri": "https://localhost:8080/"
        },
        "id": "pr61iMtm_87k",
        "outputId": "15b882b2-e0cd-4047-9af3-f742f33f5a49"
      },
      "source": [
        "from sklearn.datasets import fetch_20newsgroups\n",
        "from sklearn.feature_extraction.text import TfidfVectorizer\n",
        "from sklearn.linear_model import LogisticRegression\n",
        "from sklearn import metrics\n",
        "import numpy as np\n",
        "\n",
        "categories = ['rec.autos', 'rec.motorcycles', 'rec.sport.baseball', 'rec.sport.hockey']\n",
        "newsgroups_train = fetch_20newsgroups(subset='train', remove=('headers', 'footers', 'quotes'), categories=categories)\n",
        "newsgroups_test = fetch_20newsgroups(subset='test', remove=('headers', 'footers', 'quotes'), categories=categories)\n",
        "vectorizer = TfidfVectorizer()\n",
        "vectors = vectorizer.fit_transform(newsgroups_train.data)\n",
        "vectors_test = vectorizer.transform(newsgroups_test.data)\n",
        "\n",
        "# model\n",
        "clf = LogisticRegression()\n",
        "clf.fit(vectors, newsgroups_train.target)\n",
        "pred = clf.predict(vectors_test)\n",
        "#f-1 score\n",
        "metrics.f1_score(newsgroups_test.target, pred, average='macro')"
      ],
      "execution_count": 9,
      "outputs": [
        {
          "output_type": "execute_result",
          "data": {
            "text/plain": [
              "0.8400782291758823"
            ]
          },
          "metadata": {},
          "execution_count": 9
        }
      ]
    },
    {
      "cell_type": "markdown",
      "metadata": {
        "id": "AMXifyzPbT_y"
      },
      "source": [
        "#### 0.8512083976713682 -> 0.8400782291758823\n",
        "#### -> Logistic Regression보다 multinomialNB 사용이 더 좋음"
      ]
    },
    {
      "cell_type": "markdown",
      "metadata": {
        "id": "KAqF9CqPJ4gP"
      },
      "source": [
        "## Try2: 전처리 + MultinomailMB & TfidfVectorizer"
      ]
    },
    {
      "cell_type": "code",
      "metadata": {
        "id": "XfnvJ9iRMIQ1"
      },
      "source": [
        "from sklearn.datasets import fetch_20newsgroups\n",
        "from sklearn.feature_extraction.text import TfidfVectorizer\n",
        "from sklearn.naive_bayes import MultinomialNB\n",
        "from sklearn import metrics\n",
        "import numpy as np\n",
        "import re\n",
        "\n",
        "categories = ['rec.autos', 'rec.motorcycles', 'rec.sport.baseball', 'rec.sport.hockey']\n",
        "newsgroups_train = fetch_20newsgroups(subset='train', remove=('headers', 'footers', 'quotes'), categories=categories)\n",
        "newsgroups_test = fetch_20newsgroups(subset='test', remove=('headers', 'footers', 'quotes'), categories=categories)"
      ],
      "execution_count": 53,
      "outputs": []
    },
    {
      "cell_type": "code",
      "metadata": {
        "id": "Rdzb7a_hL6Pe"
      },
      "source": [
        "# 데이터 특수문자 정제 함수 정의하기\n",
        "def clean_text(data):\n",
        "  clean_text = re.sub('(http|ftp|https)://(?:[-\\w.]|(?:%[\\da-fA-F{2}]))+','',data)\n",
        "  clean_text = re.sub('<[^>]*>','',clean_text)\n",
        "  clean_text = re.sub('[-=+_,.#/\\?;:^\\\\n$@*\\\"※\\n~&%ㆍ!』\\\\‘’“”{}|\\(\\)\\[\\]\\<\\>`\\'》❤♥♡☆★▲◇△▶◆■⊙▦ⓒ●◈·]',' ',clean_text)\n",
        "  clean_text = clean_text.replace(\"\\t\",\" \")\n",
        "  clean_text = clean_text.replace(\"  \",\" \")\n",
        "  return clean_text"
      ],
      "execution_count": 66,
      "outputs": []
    },
    {
      "cell_type": "code",
      "metadata": {
        "id": "N_8YoYExQv6e"
      },
      "source": [
        "# 데이터 정제하기\n",
        "clean_train = []\n",
        "for i in newsgroups_train.data:\n",
        "    clean_train.append(clean_text(i))\n",
        "\n",
        "clean_test = []\n",
        "for i in newsgroups_test.data:\n",
        "    clean_test.append(clean_text(i))"
      ],
      "execution_count": 67,
      "outputs": []
    },
    {
      "cell_type": "markdown",
      "metadata": {
        "id": "q07AtcZoehqL"
      },
      "source": [
        "정제된 데이터 확인"
      ]
    },
    {
      "cell_type": "code",
      "metadata": {
        "colab": {
          "base_uri": "https://localhost:8080/"
        },
        "id": "z6b2Lh7BRBLh",
        "outputId": "e86d9d8c-dfe1-4958-b27d-c9f737ef0f2f"
      },
      "source": [
        "clean_train[:5]"
      ],
      "execution_count": 77,
      "outputs": [
        {
          "output_type": "execute_result",
          "data": {
            "text/plain": [
              "['My friend brought a subaru SVX recently  I had drove it for couples times and I think its a great car esp on snow  However when she took it to a local Subaru dealer for a oil change the bill came out to be about 80 dollars  The dealer told us it is because to change the oil filter on a SVX it is necessary to disassemble a metal cover under the engine and that took an hour of labour At first we think we are being ripped off so she phone to a dealer in Toronto but found out the they are charging roughly the same price  So is there any SVX owner out there that has the same problem  And if the oil change story is true then the engineer of Subaru looks pretty stubid to me By the way the car looks great ',\n",
              " 'Scoring stats for the Swedish NHL players April 5                             Mats Sundin watch   Most points during a season    131 Kent Nilsson Calgary Flames    1980 81  49 82   110 Mats Naslund Montreal Canadiens  1985 86  43 67   109 Mats Sundin Quebec Nordiques   1992 93  43 66   106 Hakan Loob Calgary Flames     1987 88  50 56   104 Kent Nilsson Calgary Flames    1982 83  46 58    99 Kent Nilsson Calgary Flames    1984 85  37 62   Most goals during a season    50 Hakan Loob Calgary Flames     1987 88   49 Kent Nilsson Calgary Flames    1980 81   46 Kent Nilsson Calgary Flames    1982 83   45 Tomas Sandstrom LA Kings     1990 91   43 Mats Naslund Montreal Canadiens  1985 86   43 Mats Sundin Quebec Nordiques   1992 93   Most assists during a season    82 Kent Nilsson Calgary Flames    1980 81   67 Mats Naslund Montreal Canadiens  1985 86   66 Borje Salming Toronto Maple Leafs 1976 77   66 Mats Sundin Quebec Nordiques   1992 93   62 Kent Nilsson Calgary Flames    1984 85   61 Borje Salming Toronto Maple Leafs 1977 78   61 Thomas Steen Winnipeg Jets    1988 89  Ulf Samuelsson watch   Most penalty minutes during a season    243 Ulf Samuelsson Pittsburgh Penguins  1992 93  through 3 25    211 Ulf Samuelsson Pittsburgh Penguins  1990 91   206 Ulf Samuelsson Pittsburgh Penguins  1991 92   184 Kjell Samuelsson Philadelphia Flyers 1988 89   181 Ulf Samuelsson Hartford Whalers   1988 89   174 Ulf Samuelsson Hartford Whalers   1985 86   170 Borje Salming Toronto Maple Leafs  1980 81                                          RL Rk Name       Team J Ps Ht  Wt Born   G A Pts PL Comment                                         1 Mats Sundin    QUE 13 C 6 2 189 2 13 71 43 66 109  7    2 Ulf Dahlen    MIN 22 RW 6 2 195 1 12 67 33 38 71  5     3 Thomas Steen   WIN 25 C 5 10 195 6 8 60 21 43 64  5   4 Johan Garpenlov  SJS 10 LW 5 11 185 3 21 68 21 40 61  5   5 Fredrik Olausson WIN 4 D 6 2 200 10 5 66 13 38 51  4   6 Tomas Sandstrom  LAK 7 LW 6 2 207 9 4 64 22 24 46  2   7 Per Erik Eklund  PHI 9 LW 5 10 175 3 22 63  8 34 42   Injured   8 Calle Johansson  WAS 6 D 5 11 205 2 14 67  6 35 41  1   9 Nicklas Lidstrom DET 5 D 6 2 180 4 28 70  7 33 40  2   10 Tommy Sjodin   MIN 33 D 5 11 190 8 13 65  7 29 36     11 Ulf Samuelsson  PIT 5 D 6 1 195 3 26 64  2 24 26  1   12 Mikael Andersson TBL 34 LW 5 11 185 5 10 66 13 11 24  1   13 Michael Nylander HFD 36 LW 5 11 176 10 3 72  5 16 21  2   14 Roger Johansson  CGY 34 D 6 1 185 4 7 67  4 15 19  1  15 Jan Erixon    NYR 20 LW 6 0 196 7 8 62  5 10 15     16 Peter Andersson  NYR 25 D 6 0 187 8 29 65  4 7 11  1   17 Kjell Samuelsson PIT 28 D 6 6 235 10 18 58  3 6  9  2   18 Tommy Albelin   NJD 6 D 6 1 190 5 21 64  1 5  6     19 Per Djoos     NYR 44 D 5 11 176 5 11 68  1 1  2   Binghampton   20 Niclas Andersson QUE 46 LW 5 8 169 5 20 71  0 1  1   Halifax  21 Thomas Forslund  CGY 27 LW 6 0 185 11 24 68  0 1  1   Salt Lake  22 Patrik Carnback  MON 20 LW 6 0 189 2 1 68  0 0  0   Injured  23 Patrik Kjellberg MON 27 LW 6 2 196 6 17 69  0 0  0   Fredericton                                         RL Rank Last week Rk Rank J Jersey Number Ps Position Born mm dd yy G Goals A Assists Pts Points PL Points scored since Last posted list                                          Goalie stats  Name       Team J Ps Ht  Wt Born                           Tommy Soderstrom PHI 30 G 5 9 163 7 17 69                           T O T A L      \\\\  mm dd  vs  res r w l t sh  sv  GP  MP GA GAA  SOG  SV SV  SO A                                          12 17  PIT 4 5 L 0 1 0 27  22  1  62  5 4 84  27  22 0 815 12 19  CHI 3 1 W 1 1 0 28  27  2 122  6 2 95  55  49 0 891 12 20  TBL 1 4 L 1 2 0 31  27  3 182 10 3 30  86  76 0 884 12 23  PIT 0 4 L 1 3 0 26  22  4 242 14 3 47  112  98 0 875 12 26  WAS 5 5 T 1 3 1 41  36  5 307 19 3 71  153 134 0 876 12 29  LAK 10 2 W 2 3 1 43  41  6 367 21 3 43  196 175 0 893 12 30  SJS 6 2 W 3 3 1 35  33  7 427 23 3 23  231 208 0 900  1 2  CGY 3 7 L 3 4 1 32  26  8 486 29 3 58  263 234 0 890  1 3  EDM 2 2 T 3 4 2 33  31  9 551 31 3 38  296 265 0 895  1 7  WAS 8 2 W 4 4 2 33  31  10 611 33 3 24  329 296 0 900  1 9  NYR 4 3 W 5 4 2 26  23  11 671 36 3 22  355 319 0 899  1 10  EDM 4 0 W 6 4 2 29  29  12 731 36 2 95  384 348 0 906 1  1 14  CGY 4 4 T 6 4 3 27  23  13 796 40 3 02  411 371 0 903  1 16  BOS 5 4 W 7 4 3 37  33  14 856 44 3 08  448 404 0 902  1 17  DET 4 7 L 7 5 3 36  29  15 916 51 3 34  484 433 0 895  1 21  BOS 4 5 L 7 6 3 32  27  16 976 56 3 44  516 460 0 891  1 23  NYI 4 8 L 7 7 3 31  23  17 1036 64 3 71  547 483 0 883  1  1 24  HFD 5 4 W 8 7 3 25  21  18 1098 68 3 72  572 504 0 881  1 30  PIT 2 4 L 8 8 3 35  32  19 1157 71 3 68  607 536 0 883  2 3  NYR 2 2 T 8 8 4 38  36  20 1222 73 3 58  645 572 0 887  2 9  OTT 8 1 W 9 8 4 28  27  21 1282 74 3 46  673 599 0 890  2 11  MTL 0 0 T 9 8 5 23  23  22 1347 74 3 30  696 622 0 894 2  2 13  NJD 4 6 L 9 9 5 32  26  23 1407 80 3 41  728 648 0 890  2 14  NJD 2 5 L 9 10 5 26  21  24 1467 85 3 48  754 669 0 887  2 16  CGY 4 4 T 9 10 6 29  29  25 1512 85 3 37  783 698 0 891  2 18  VAN 3 2 W 10 10 6 30  28  26 1572 87 3 32  813 726 0 893  2 20  MIN 2 5 L 10 11 6 33  28  27 1632 92 3 38  846 754 0 891  2 22  DET 5 5  10 11 6 15  12  28 1653 95 3 45  861 766 0 890  3 2  PIT 5 4 W 11 11 6 22  21  29 1689 96 3 41  883 787 0 891  3 5  WAS 3 0 W 12 11 6 36  36  30 1749 96 3 29  919 823 0 896 3  3 7  NJD 4 7 L 12 12 6 41  35  31 1808 102 3 38  960 858 0 894  3 9  NYI 2 4 L 12 13 6 24  21  32 1867 105 3 37  984 879 0 893  3 11  WAS 6 4 W 13 13 6 28  24  33 1927 109 3 39 1012 903 0 892  3 16  MIN 4 3 W 14 13 6 34  31  34 1987 112 3 38 1046 934 0 893  3 20  PIT 3 9 L 14 14 6 27  20  35 2027 119 3 52 1073 954 0 889  3 21  NJD 2 3 L 14 15 6 27  24  36 2086 122 3 51 1100 978 0 889  3 24  NYR 5 4 W 15 15 6 45  41  37 2146 126 3 52 1145 1019 0 890  2  3 27  QUE 3 8 L 15 16 6 25  19  38 2186 132 3 62 1170 1038 0 887  4 1  LAK 1 3 L 15 17 6 26  23  39 2246 135 3 61 1196 1061 0 887  4 4  TOR 4 0 W 16 17 6 26  26  40 2306 135 3 51 1222 1087 0 890 4                                          res result sh shots sv saves GP Games Played MP Minutes Played GA Goals Against GAA Goals Against Average SOG Shots On Goal SV SaVes SV SaVing Percentage SO ShutOuts A Assists                                         Staffan',\n",
              " 'I had exactly the same problem with a 1981 Horizon  Third gear would just disengage  Engine would rev up  Kind of disconcerting  I sold that car quite a few years back but the memory of that tranny sticks with me  It also had a clutch chatter in first that the dealer could not fix  If the lemon law had been in place then that car would have been covered  I have had several Jap cars since then figuring the Horizon was my contribution to the American Auto Companies  and have never seen any bad behavior with the exception of a Toyota Tercel with a bit of clutch chatter that they did fix on the first try  Anyway from that day forward I have sworn that I would never purchase another American car with a standard  American manufacturers don t have a clue on how to manufacture five speed transmissions and have been doing the automatics much longer and on many more cars However I hate automatics so I am still buying Jap cars  Not sure this is any help but other cars do this too  Cheers Larry             Larry Rogers                   larry rogers dg com      Big Brother           larry boris webo dg com    is Watching           Data General 508 870 8441   The opinions contained herein are my own and do not reflect the opinions of Data General or anyone else but they should ',\n",
              " 'Melido came off the DL today and will start tonight against the Rangers  Now if only he can go the distance so that the bullpen doesn t have to come in     I m outta here like Vladimir  Alan Sepinwall',\n",
              " 'Hello as the subject tells all I am trying to find out what is the formula to calculate the ERA for the pitchers  If any of you baseball fans have it please e mail me at  napoli atc olivetti com  thank you very much ']"
            ]
          },
          "metadata": {},
          "execution_count": 77
        }
      ]
    },
    {
      "cell_type": "code",
      "metadata": {
        "colab": {
          "base_uri": "https://localhost:8080/"
        },
        "id": "MtUcuyIaRb1h",
        "outputId": "5162ebdc-07f0-49dd-e865-8ed7c5e16a00"
      },
      "source": [
        "clean_test[:5]"
      ],
      "execution_count": 78,
      "outputs": [
        {
          "output_type": "execute_result",
          "data": {
            "text/plain": [
              "['  Is there a Chicago Cubs mailing list  If so I d like to join Any help appreciated    ',\n",
              " ' We cannot isolate completely Roger but we can make a pretty good estimate I won t claim to split hairs and say that we can really measure who was better Robby Alomar or Carlos Baerga last year the difference is too close to call But Larkin and Lee Clemens and Morris The differences are too great there  In your measure of the game why should a team that has just won it all ever replace a single player Since they are now clearly best  how can they do better Yet every team can always find someplace where they beleive they can improve the team they can always find a player a little better than one they already have  BTW by my definitions the best player is the one who does the most things to help his team win I will allow that this could vary depending on who else is on the team by having aptitudes one team needs more than others  Baseball is a team game but it is made of individual talents It is absurd to judge the success or failure of an individual by the success or failure of his teammates whom he did not choose at least in most cases  Morris won last year because he played on a team with Joe Carter Robby Alomar Tom Henke Juan Guzman John Olerud et al Clemens lost because he was surrounded by such lesser performers as Herm Winninham Luis Rivera and Jeff Reardon To define the quality of the team as a sum of its components as I do albeit imperfectly is a lesser error than defining the quality of an individual as the mean quality of the team as my reading of your arguments suggests you do ',\n",
              " ' Not bad We had a similar situation Slowpitch softball bases loaded weakest hitter at the plate He hits a line drive over the third baseman s head that hooked and hooked and finally landed ten feet in foul ground almost hitting the fence down that side of the field But the umpire called fair ball I was coaching third yelling at evrybody to move up a base The ump s position  it was still fair when it passed third base  Why the other team didn t immediately protest I ll never know we certainly weren t going to argue about it since every body did manage to advance one base safely  There was also the time when a batted ball ricocheted off my runner from second base leg fielded by the SS steps on second to force the runner from first and throw to first in time for what the umpire called a triple play protest removed when we won the game anyway ',\n",
              " 'Thanks for all the recommendations I have decide to ignore the service indicators and do oil change myself every 3000 miles  Thanks again for all the responses ',\n",
              " '                                         My vivid imagination sez this is almost close enuff  mail to 00cjmelching leo bsuvc bsu edu users neal dod faq dod but    naw  ']"
            ]
          },
          "metadata": {},
          "execution_count": 78
        }
      ]
    },
    {
      "cell_type": "code",
      "metadata": {
        "colab": {
          "base_uri": "https://localhost:8080/"
        },
        "id": "TCUP_pBnIseO",
        "outputId": "1fd16c8a-80fa-4920-defe-9bd545944908"
      },
      "source": [
        "vectorizer = TfidfVectorizer()\n",
        "vectors = vectorizer.fit_transform(clean_train)\n",
        "vectors_test = vectorizer.transform(clean_test)\n",
        "\n",
        "# model\n",
        "clf = MultinomialNB(alpha=0.1) #알파 값 조정\n",
        "clf.fit(vectors, newsgroups_train.target)\n",
        "pred = clf.predict(vectors_test)\n",
        "#f-1 score\n",
        "metrics.f1_score(newsgroups_test.target, pred, average='macro')"
      ],
      "execution_count": 73,
      "outputs": [
        {
          "output_type": "execute_result",
          "data": {
            "text/plain": [
              "0.8735907881440508"
            ]
          },
          "metadata": {},
          "execution_count": 73
        }
      ]
    },
    {
      "cell_type": "markdown",
      "metadata": {
        "id": "GOXfA05DcOp1"
      },
      "source": [
        "#### 0.8512083976713682 -> 0.8735907881440508\n",
        "#### 전처리 후 macro f-1 scroe 약 0.022 증가함."
      ]
    }
  ]
}