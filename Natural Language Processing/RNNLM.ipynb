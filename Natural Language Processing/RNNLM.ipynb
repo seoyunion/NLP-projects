{
  "nbformat": 4,
  "nbformat_minor": 0,
  "metadata": {
    "colab": {
      "name": "Char_RNNLM",
      "provenance": []
    },
    "kernelspec": {
      "name": "python3",
      "display_name": "Python 3"
    },
    "language_info": {
      "name": "python"
    }
  },
  "cells": [
    {
      "cell_type": "code",
      "metadata": {
        "colab": {
          "base_uri": "https://localhost:8080/"
        },
        "id": "nHtYRIe_0XWX",
        "outputId": "e5aeacbd-954b-467e-8117-0f8cecde0108"
      },
      "source": [
        "from google.colab import drive\n",
        "drive.mount('/content/gdrive/')"
      ],
      "execution_count": 3,
      "outputs": [
        {
          "output_type": "stream",
          "name": "stdout",
          "text": [
            "Drive already mounted at /content/gdrive/; to attempt to forcibly remount, call drive.mount(\"/content/gdrive/\", force_remount=True).\n"
          ]
        }
      ]
    },
    {
      "cell_type": "code",
      "metadata": {
        "id": "UQ3ngmcG0YyJ"
      },
      "source": [
        "import os\n",
        "os.chdir('/content/gdrive/My Drive/2021 2학기/자연어처리(정윤경)')"
      ],
      "execution_count": 4,
      "outputs": []
    },
    {
      "cell_type": "markdown",
      "metadata": {
        "id": "RHmuFVIS7XG3"
      },
      "source": [
        "# 1. 글자 단위 RNN 언어 모델(Char RNNLM)"
      ]
    },
    {
      "cell_type": "markdown",
      "metadata": {
        "id": "zPRSqMxJ7glB"
      },
      "source": [
        "이상한나라의 엘리스 다운로드 링크 : http://www.gutenberg.org/files/11/11-0.txt"
      ]
    },
    {
      "cell_type": "markdown",
      "metadata": {
        "id": "tM0VSgtX7mKw"
      },
      "source": [
        "## 1) 데이터에 대한 이해와 전처리"
      ]
    },
    {
      "cell_type": "code",
      "metadata": {
        "id": "6BV2EKIZ62Ki"
      },
      "source": [
        "import numpy as np\n",
        "import urllib.request\n",
        "from tensorflow.keras.utils import to_categorical"
      ],
      "execution_count": 5,
      "outputs": []
    },
    {
      "cell_type": "code",
      "metadata": {
        "id": "Y5nhBdUF7o7-"
      },
      "source": [
        "urllib.request.urlretrieve(\"http://www.gutenberg.org/files/11/11-0.txt\", filename=\"11-0.txt\")\n",
        "f = open('11-0.txt', 'rb')\n",
        "sentences = []\n",
        "for sentence in f: # 데이터를 한 줄씩 읽는다.\n",
        "    sentence = sentence.strip() # strip()을 통해 \\r, \\n을 제거한다.\n",
        "    sentence = sentence.lower() # 소문자화.\n",
        "    sentence = sentence.decode('ascii', 'ignore') # \\xe2\\x80\\x99 등과 같은 바이트 열 제거\n",
        "    if len(sentence) > 0:\n",
        "        sentences.append(sentence)\n",
        "f.close()"
      ],
      "execution_count": 6,
      "outputs": []
    },
    {
      "cell_type": "code",
      "metadata": {
        "colab": {
          "base_uri": "https://localhost:8080/"
        },
        "id": "IGGQDrp37tgj",
        "outputId": "1e321e9b-662f-4047-9bc7-ed8777c8e8d6"
      },
      "source": [
        "sentences[:5]"
      ],
      "execution_count": 7,
      "outputs": [
        {
          "output_type": "execute_result",
          "data": {
            "text/plain": [
              "['the project gutenberg ebook of alices adventures in wonderland, by lewis carroll',\n",
              " 'this ebook is for the use of anyone anywhere in the united states and',\n",
              " 'most other parts of the world at no cost and with almost no restrictions',\n",
              " 'whatsoever. you may copy it, give it away or re-use it under the terms',\n",
              " 'of the project gutenberg license included with this ebook or online at']"
            ]
          },
          "metadata": {},
          "execution_count": 7
        }
      ]
    },
    {
      "cell_type": "code",
      "metadata": {
        "colab": {
          "base_uri": "https://localhost:8080/"
        },
        "id": "2PxKVAIH7wm7",
        "outputId": "10bf8322-41aa-4c0b-b655-e6b5d4006bce"
      },
      "source": [
        "total_data = ' '.join(sentences) #하나의 문자열로 통합\n",
        "print('문자열의 길이 또는 총 글자의 개수: %d' % len(total_data))"
      ],
      "execution_count": 8,
      "outputs": [
        {
          "output_type": "stream",
          "name": "stdout",
          "text": [
            "문자열의 길이 또는 총 글자의 개수: 159484\n"
          ]
        }
      ]
    },
    {
      "cell_type": "code",
      "metadata": {
        "colab": {
          "base_uri": "https://localhost:8080/"
        },
        "id": "nXdLMx-y70cz",
        "outputId": "aefa6629-c074-4126-9328-cbe47bf47f3f"
      },
      "source": [
        "print(total_data[:200])"
      ],
      "execution_count": 9,
      "outputs": [
        {
          "output_type": "stream",
          "name": "stdout",
          "text": [
            "the project gutenberg ebook of alices adventures in wonderland, by lewis carroll this ebook is for the use of anyone anywhere in the united states and most other parts of the world at no cost and with\n"
          ]
        }
      ]
    },
    {
      "cell_type": "code",
      "metadata": {
        "colab": {
          "base_uri": "https://localhost:8080/"
        },
        "id": "uF1yyMwO759J",
        "outputId": "3fa161e7-cbf7-43d2-9bba-213365634a55"
      },
      "source": [
        "char_vocab = sorted(list(set(total_data)))\n",
        "vocab_size = len(char_vocab)\n",
        "print ('글자 집합의 크기 : {}'.format(vocab_size))\n",
        "# 모든 영어 단어는 총 52개의 알파벳으로 표현 가능합니다."
      ],
      "execution_count": 10,
      "outputs": [
        {
          "output_type": "stream",
          "name": "stdout",
          "text": [
            "글자 집합의 크기 : 56\n"
          ]
        }
      ]
    },
    {
      "cell_type": "code",
      "metadata": {
        "colab": {
          "base_uri": "https://localhost:8080/"
        },
        "id": "YhtpmtL19oUf",
        "outputId": "b0a2b56c-a239-480d-e18e-78c52d1e468f"
      },
      "source": [
        "char_to_index = dict((char, index) for index, char in enumerate(char_vocab)) # 글자에 고유한 정수 인덱스 부여\n",
        "print(char_to_index)"
      ],
      "execution_count": 11,
      "outputs": [
        {
          "output_type": "stream",
          "name": "stdout",
          "text": [
            "{' ': 0, '!': 1, '\"': 2, '#': 3, '$': 4, '%': 5, \"'\": 6, '(': 7, ')': 8, '*': 9, ',': 10, '-': 11, '.': 12, '/': 13, '0': 14, '1': 15, '2': 16, '3': 17, '4': 18, '5': 19, '6': 20, '7': 21, '8': 22, '9': 23, ':': 24, ';': 25, '?': 26, '[': 27, ']': 28, '_': 29, 'a': 30, 'b': 31, 'c': 32, 'd': 33, 'e': 34, 'f': 35, 'g': 36, 'h': 37, 'i': 38, 'j': 39, 'k': 40, 'l': 41, 'm': 42, 'n': 43, 'o': 44, 'p': 45, 'q': 46, 'r': 47, 's': 48, 't': 49, 'u': 50, 'v': 51, 'w': 52, 'x': 53, 'y': 54, 'z': 55}\n"
          ]
        }
      ]
    },
    {
      "cell_type": "code",
      "metadata": {
        "id": "e_7Y8sTg90fP"
      },
      "source": [
        "index_to_char = {}\n",
        "for key, value in char_to_index.items():\n",
        "    index_to_char[value] = key"
      ],
      "execution_count": 12,
      "outputs": []
    },
    {
      "cell_type": "code",
      "metadata": {
        "colab": {
          "base_uri": "https://localhost:8080/"
        },
        "id": "l1XXN34l97iv",
        "outputId": "97ae5c92-d3ab-46d1-ad5d-938bd6b6d503"
      },
      "source": [
        "seq_length = 60 # 문장의 길이를 60으로 한다.\n",
        "n_samples = int(np.floor((len(total_data) - 1) / seq_length)) # 문자열을 60등분한다. 그러면 즉, 총 샘플의 개수\n",
        "print ('문장 샘플의 수 : {}'.format(n_samples))"
      ],
      "execution_count": 13,
      "outputs": [
        {
          "output_type": "stream",
          "name": "stdout",
          "text": [
            "문장 샘플의 수 : 2658\n"
          ]
        }
      ]
    },
    {
      "cell_type": "code",
      "metadata": {
        "id": "c7bOm36W-Doi"
      },
      "source": [
        "train_X = []\n",
        "train_y = []\n",
        "\n",
        "for i in range(n_samples):\n",
        "    # 0:60 -> 60:120 -> 120:180로 loop를 돌면서 문장 샘플을 1개씩 픽한다.\n",
        "    X_sample = total_data[i * seq_length: (i + 1) * seq_length]\n",
        "\n",
        "    # 정수 인코딩\n",
        "    X_encoded = [char_to_index[c] for c in X_sample]\n",
        "    train_X.append(X_encoded)\n",
        "\n",
        "    # 오른쪽으로 1칸 쉬프트\n",
        "    y_sample = total_data[i * seq_length + 1: (i + 1) * seq_length + 1]\n",
        "    y_encoded = [char_to_index[c] for c in y_sample]\n",
        "    train_y.append(y_encoded)"
      ],
      "execution_count": 14,
      "outputs": []
    },
    {
      "cell_type": "code",
      "metadata": {
        "colab": {
          "base_uri": "https://localhost:8080/"
        },
        "id": "rAo1uafj-I7I",
        "outputId": "d7d196a5-449c-4eb4-8566-c2154f40177f"
      },
      "source": [
        "print(train_X[0])"
      ],
      "execution_count": 15,
      "outputs": [
        {
          "output_type": "stream",
          "name": "stdout",
          "text": [
            "[49, 37, 34, 0, 45, 47, 44, 39, 34, 32, 49, 0, 36, 50, 49, 34, 43, 31, 34, 47, 36, 0, 34, 31, 44, 44, 40, 0, 44, 35, 0, 30, 41, 38, 32, 34, 48, 0, 30, 33, 51, 34, 43, 49, 50, 47, 34, 48, 0, 38, 43, 0, 52, 44, 43, 33, 34, 47, 41, 30]\n"
          ]
        }
      ]
    },
    {
      "cell_type": "code",
      "metadata": {
        "colab": {
          "base_uri": "https://localhost:8080/"
        },
        "id": "qT28B-V7-6B5",
        "outputId": "0029404a-dcec-4e2e-8393-199d0717b35a"
      },
      "source": [
        "print(train_y[0])"
      ],
      "execution_count": 16,
      "outputs": [
        {
          "output_type": "stream",
          "name": "stdout",
          "text": [
            "[37, 34, 0, 45, 47, 44, 39, 34, 32, 49, 0, 36, 50, 49, 34, 43, 31, 34, 47, 36, 0, 34, 31, 44, 44, 40, 0, 44, 35, 0, 30, 41, 38, 32, 34, 48, 0, 30, 33, 51, 34, 43, 49, 50, 47, 34, 48, 0, 38, 43, 0, 52, 44, 43, 33, 34, 47, 41, 30, 43]\n"
          ]
        }
      ]
    },
    {
      "cell_type": "markdown",
      "metadata": {
        "id": "NiWVmi3O_KBm"
      },
      "source": [
        "train_y[0]은 train_X[0]에서 오른쪽으로 한 칸 쉬프트 된 문장임을 알 수 있습니다."
      ]
    },
    {
      "cell_type": "code",
      "metadata": {
        "colab": {
          "base_uri": "https://localhost:8080/"
        },
        "id": "DGYnHug3-7XI",
        "outputId": "0dd5f49b-07da-4dee-b294-43cd0fd55da0"
      },
      "source": [
        "print(train_X[1])"
      ],
      "execution_count": 17,
      "outputs": [
        {
          "output_type": "stream",
          "name": "stdout",
          "text": [
            "[43, 33, 10, 0, 31, 54, 0, 41, 34, 52, 38, 48, 0, 32, 30, 47, 47, 44, 41, 41, 0, 49, 37, 38, 48, 0, 34, 31, 44, 44, 40, 0, 38, 48, 0, 35, 44, 47, 0, 49, 37, 34, 0, 50, 48, 34, 0, 44, 35, 0, 30, 43, 54, 44, 43, 34, 0, 30, 43, 54]\n"
          ]
        }
      ]
    },
    {
      "cell_type": "code",
      "metadata": {
        "colab": {
          "base_uri": "https://localhost:8080/"
        },
        "id": "M5Uy7xvB--RL",
        "outputId": "636f3ea6-faef-40cd-f0c9-17e22c4dbd94"
      },
      "source": [
        "print(train_y[1])"
      ],
      "execution_count": 18,
      "outputs": [
        {
          "output_type": "stream",
          "name": "stdout",
          "text": [
            "[33, 10, 0, 31, 54, 0, 41, 34, 52, 38, 48, 0, 32, 30, 47, 47, 44, 41, 41, 0, 49, 37, 38, 48, 0, 34, 31, 44, 44, 40, 0, 38, 48, 0, 35, 44, 47, 0, 49, 37, 34, 0, 50, 48, 34, 0, 44, 35, 0, 30, 43, 54, 44, 43, 34, 0, 30, 43, 54, 52]\n"
          ]
        }
      ]
    },
    {
      "cell_type": "markdown",
      "metadata": {
        "id": "a807c02V_MOS"
      },
      "source": [
        "마찬가지로 train_y[1]은 train_X[1]에서 오른쪽으로 한 칸 쉬프트 된 문장임을 알 수 있습니다."
      ]
    },
    {
      "cell_type": "markdown",
      "metadata": {
        "id": "U5kY6DFZ_To9"
      },
      "source": [
        "이제 train_X와 train_y에 대해서 원-핫 인코딩을 수행. 임베딩층(embedding layer)을 사용하지 않을 것이므로, 입력 시퀀스인 train_X에 대해서도 원-핫 인코딩을 합니다."
      ]
    },
    {
      "cell_type": "code",
      "metadata": {
        "id": "WrWfxXm6_Qr4"
      },
      "source": [
        "train_X = to_categorical(train_X)\n",
        "train_y = to_categorical(train_y)"
      ],
      "execution_count": 19,
      "outputs": []
    },
    {
      "cell_type": "code",
      "metadata": {
        "colab": {
          "base_uri": "https://localhost:8080/"
        },
        "id": "Yrj8Sq8q_MxX",
        "outputId": "ba06fc46-511f-4596-8361-caefb3be540e"
      },
      "source": [
        "print('train_X의 크기(shape) : {}'.format(train_X.shape)) # 원-핫 인코딩\n",
        "print('train_y의 크기(shape) : {}'.format(train_y.shape)) # 원-핫 인코딩"
      ],
      "execution_count": 20,
      "outputs": [
        {
          "output_type": "stream",
          "name": "stdout",
          "text": [
            "train_X의 크기(shape) : (2658, 60, 56)\n",
            "train_y의 크기(shape) : (2658, 60, 56)\n"
          ]
        }
      ]
    },
    {
      "cell_type": "markdown",
      "metadata": {
        "id": "SHf2e9Hd_ibl"
      },
      "source": [
        "샘플의 수(No. of samples)가 2,658개, 입력 시퀀스의 길이(input_length)가 60, 각 벡터의 차원(input_dim)이 55임. 원-핫 벡터의 차원은 글자 집합의 크기인 56이어야 하므로 원-핫 인코딩이 수행되었음을 알 수 있습니다."
      ]
    },
    {
      "cell_type": "markdown",
      "metadata": {
        "id": "Nu2wttt1_ouE"
      },
      "source": [
        "## 2) 모델 설계하기"
      ]
    },
    {
      "cell_type": "code",
      "metadata": {
        "id": "wzBuM63x_beW"
      },
      "source": [
        "from tensorflow.keras.models import Sequential\n",
        "from tensorflow.keras.layers import Dense, LSTM, TimeDistributed"
      ],
      "execution_count": 21,
      "outputs": []
    },
    {
      "cell_type": "code",
      "metadata": {
        "id": "i35WZ2vC_rMm"
      },
      "source": [
        "hidden_units = 256\n",
        "\n",
        "model = Sequential()\n",
        "model.add(LSTM(hidden_units, input_shape=(None, train_X.shape[2]), return_sequences=True))\n",
        "model.add(LSTM(hidden_units, return_sequences=True))\n",
        "model.add(TimeDistributed(Dense(vocab_size, activation='softmax')))"
      ],
      "execution_count": 22,
      "outputs": []
    },
    {
      "cell_type": "code",
      "metadata": {
        "colab": {
          "base_uri": "https://localhost:8080/"
        },
        "id": "FDI5ZfuR_uR9",
        "outputId": "e9dc9698-7b51-45c4-9293-995b07523a93"
      },
      "source": [
        "model.compile(loss='categorical_crossentropy', optimizer='adam', metrics=['accuracy'])\n",
        "model.fit(train_X, train_y, epochs=80, verbose=2)"
      ],
      "execution_count": 23,
      "outputs": [
        {
          "output_type": "stream",
          "name": "stdout",
          "text": [
            "Epoch 1/80\n",
            "84/84 - 39s - loss: 3.0613 - accuracy: 0.1848 - 39s/epoch - 461ms/step\n",
            "Epoch 2/80\n",
            "84/84 - 37s - loss: 2.6766 - accuracy: 0.2620 - 37s/epoch - 438ms/step\n",
            "Epoch 3/80\n",
            "84/84 - 35s - loss: 2.3640 - accuracy: 0.3362 - 35s/epoch - 415ms/step\n",
            "Epoch 4/80\n",
            "84/84 - 35s - loss: 2.2290 - accuracy: 0.3665 - 35s/epoch - 421ms/step\n",
            "Epoch 5/80\n",
            "84/84 - 35s - loss: 2.1286 - accuracy: 0.3917 - 35s/epoch - 421ms/step\n",
            "Epoch 6/80\n",
            "84/84 - 35s - loss: 2.0517 - accuracy: 0.4125 - 35s/epoch - 421ms/step\n",
            "Epoch 7/80\n",
            "84/84 - 35s - loss: 1.9818 - accuracy: 0.4299 - 35s/epoch - 416ms/step\n",
            "Epoch 8/80\n",
            "84/84 - 35s - loss: 1.9210 - accuracy: 0.4467 - 35s/epoch - 417ms/step\n",
            "Epoch 9/80\n",
            "84/84 - 35s - loss: 1.8643 - accuracy: 0.4617 - 35s/epoch - 419ms/step\n",
            "Epoch 10/80\n",
            "84/84 - 35s - loss: 1.8195 - accuracy: 0.4736 - 35s/epoch - 419ms/step\n",
            "Epoch 11/80\n",
            "84/84 - 35s - loss: 1.7743 - accuracy: 0.4855 - 35s/epoch - 421ms/step\n",
            "Epoch 12/80\n",
            "84/84 - 36s - loss: 1.7334 - accuracy: 0.4968 - 36s/epoch - 423ms/step\n",
            "Epoch 13/80\n",
            "84/84 - 36s - loss: 1.6940 - accuracy: 0.5065 - 36s/epoch - 426ms/step\n",
            "Epoch 14/80\n",
            "84/84 - 36s - loss: 1.6588 - accuracy: 0.5154 - 36s/epoch - 425ms/step\n",
            "Epoch 15/80\n",
            "84/84 - 36s - loss: 1.6240 - accuracy: 0.5239 - 36s/epoch - 426ms/step\n",
            "Epoch 16/80\n",
            "84/84 - 36s - loss: 1.5928 - accuracy: 0.5314 - 36s/epoch - 426ms/step\n",
            "Epoch 17/80\n",
            "84/84 - 36s - loss: 1.5593 - accuracy: 0.5400 - 36s/epoch - 426ms/step\n",
            "Epoch 18/80\n",
            "84/84 - 36s - loss: 1.5289 - accuracy: 0.5481 - 36s/epoch - 427ms/step\n",
            "Epoch 19/80\n",
            "84/84 - 36s - loss: 1.4979 - accuracy: 0.5567 - 36s/epoch - 427ms/step\n",
            "Epoch 20/80\n",
            "84/84 - 36s - loss: 1.4668 - accuracy: 0.5645 - 36s/epoch - 427ms/step\n",
            "Epoch 21/80\n",
            "84/84 - 36s - loss: 1.4396 - accuracy: 0.5717 - 36s/epoch - 427ms/step\n",
            "Epoch 22/80\n",
            "84/84 - 36s - loss: 1.4106 - accuracy: 0.5801 - 36s/epoch - 431ms/step\n",
            "Epoch 23/80\n",
            "84/84 - 37s - loss: 1.3825 - accuracy: 0.5887 - 37s/epoch - 442ms/step\n",
            "Epoch 24/80\n",
            "84/84 - 37s - loss: 1.3537 - accuracy: 0.5962 - 37s/epoch - 435ms/step\n",
            "Epoch 25/80\n",
            "84/84 - 36s - loss: 1.3245 - accuracy: 0.6052 - 36s/epoch - 431ms/step\n",
            "Epoch 26/80\n",
            "84/84 - 36s - loss: 1.2952 - accuracy: 0.6128 - 36s/epoch - 434ms/step\n",
            "Epoch 27/80\n",
            "84/84 - 36s - loss: 1.2700 - accuracy: 0.6200 - 36s/epoch - 426ms/step\n",
            "Epoch 28/80\n",
            "84/84 - 36s - loss: 1.2416 - accuracy: 0.6288 - 36s/epoch - 427ms/step\n",
            "Epoch 29/80\n",
            "84/84 - 36s - loss: 1.2155 - accuracy: 0.6360 - 36s/epoch - 428ms/step\n",
            "Epoch 30/80\n",
            "84/84 - 36s - loss: 1.1847 - accuracy: 0.6465 - 36s/epoch - 426ms/step\n",
            "Epoch 31/80\n",
            "84/84 - 36s - loss: 1.1559 - accuracy: 0.6536 - 36s/epoch - 423ms/step\n",
            "Epoch 32/80\n",
            "84/84 - 36s - loss: 1.1246 - accuracy: 0.6640 - 36s/epoch - 425ms/step\n",
            "Epoch 33/80\n",
            "84/84 - 36s - loss: 1.1015 - accuracy: 0.6698 - 36s/epoch - 426ms/step\n",
            "Epoch 34/80\n",
            "84/84 - 36s - loss: 1.0726 - accuracy: 0.6795 - 36s/epoch - 427ms/step\n",
            "Epoch 35/80\n",
            "84/84 - 36s - loss: 1.0483 - accuracy: 0.6865 - 36s/epoch - 424ms/step\n",
            "Epoch 36/80\n",
            "84/84 - 35s - loss: 1.0158 - accuracy: 0.6964 - 35s/epoch - 421ms/step\n",
            "Epoch 37/80\n",
            "84/84 - 35s - loss: 0.9883 - accuracy: 0.7048 - 35s/epoch - 422ms/step\n",
            "Epoch 38/80\n",
            "84/84 - 36s - loss: 0.9556 - accuracy: 0.7155 - 36s/epoch - 424ms/step\n",
            "Epoch 39/80\n",
            "84/84 - 36s - loss: 0.9297 - accuracy: 0.7234 - 36s/epoch - 425ms/step\n",
            "Epoch 40/80\n",
            "84/84 - 36s - loss: 0.9053 - accuracy: 0.7314 - 36s/epoch - 425ms/step\n",
            "Epoch 41/80\n",
            "84/84 - 35s - loss: 0.8763 - accuracy: 0.7392 - 35s/epoch - 423ms/step\n",
            "Epoch 42/80\n",
            "84/84 - 35s - loss: 0.8503 - accuracy: 0.7483 - 35s/epoch - 422ms/step\n",
            "Epoch 43/80\n",
            "84/84 - 35s - loss: 0.8194 - accuracy: 0.7581 - 35s/epoch - 423ms/step\n",
            "Epoch 44/80\n",
            "84/84 - 36s - loss: 0.7963 - accuracy: 0.7653 - 36s/epoch - 429ms/step\n",
            "Epoch 45/80\n",
            "84/84 - 36s - loss: 0.7695 - accuracy: 0.7726 - 36s/epoch - 424ms/step\n",
            "Epoch 46/80\n",
            "84/84 - 36s - loss: 0.7393 - accuracy: 0.7832 - 36s/epoch - 426ms/step\n",
            "Epoch 47/80\n",
            "84/84 - 36s - loss: 0.7220 - accuracy: 0.7880 - 36s/epoch - 432ms/step\n",
            "Epoch 48/80\n",
            "84/84 - 36s - loss: 0.6937 - accuracy: 0.7979 - 36s/epoch - 430ms/step\n",
            "Epoch 49/80\n",
            "84/84 - 36s - loss: 0.6709 - accuracy: 0.8046 - 36s/epoch - 428ms/step\n",
            "Epoch 50/80\n",
            "84/84 - 36s - loss: 0.6380 - accuracy: 0.8168 - 36s/epoch - 429ms/step\n",
            "Epoch 51/80\n",
            "84/84 - 36s - loss: 0.6191 - accuracy: 0.8222 - 36s/epoch - 423ms/step\n",
            "Epoch 52/80\n",
            "84/84 - 36s - loss: 0.6038 - accuracy: 0.8267 - 36s/epoch - 429ms/step\n",
            "Epoch 53/80\n",
            "84/84 - 36s - loss: 0.5810 - accuracy: 0.8339 - 36s/epoch - 426ms/step\n",
            "Epoch 54/80\n",
            "84/84 - 35s - loss: 0.5509 - accuracy: 0.8444 - 35s/epoch - 422ms/step\n",
            "Epoch 55/80\n",
            "84/84 - 36s - loss: 0.5301 - accuracy: 0.8509 - 36s/epoch - 431ms/step\n",
            "Epoch 56/80\n",
            "84/84 - 36s - loss: 0.5126 - accuracy: 0.8561 - 36s/epoch - 429ms/step\n",
            "Epoch 57/80\n",
            "84/84 - 36s - loss: 0.4922 - accuracy: 0.8636 - 36s/epoch - 429ms/step\n",
            "Epoch 58/80\n",
            "84/84 - 36s - loss: 0.4811 - accuracy: 0.8657 - 36s/epoch - 427ms/step\n",
            "Epoch 59/80\n",
            "84/84 - 36s - loss: 0.4521 - accuracy: 0.8762 - 36s/epoch - 430ms/step\n",
            "Epoch 60/80\n",
            "84/84 - 37s - loss: 0.4340 - accuracy: 0.8821 - 37s/epoch - 435ms/step\n",
            "Epoch 61/80\n",
            "84/84 - 37s - loss: 0.4129 - accuracy: 0.8887 - 37s/epoch - 436ms/step\n",
            "Epoch 62/80\n",
            "84/84 - 36s - loss: 0.3978 - accuracy: 0.8940 - 36s/epoch - 430ms/step\n",
            "Epoch 63/80\n",
            "84/84 - 36s - loss: 0.3909 - accuracy: 0.8958 - 36s/epoch - 433ms/step\n",
            "Epoch 64/80\n",
            "84/84 - 36s - loss: 0.3667 - accuracy: 0.9042 - 36s/epoch - 434ms/step\n",
            "Epoch 65/80\n",
            "84/84 - 37s - loss: 0.3589 - accuracy: 0.9058 - 37s/epoch - 437ms/step\n",
            "Epoch 66/80\n",
            "84/84 - 36s - loss: 0.3321 - accuracy: 0.9158 - 36s/epoch - 433ms/step\n",
            "Epoch 67/80\n",
            "84/84 - 36s - loss: 0.3176 - accuracy: 0.9199 - 36s/epoch - 430ms/step\n",
            "Epoch 68/80\n",
            "84/84 - 36s - loss: 0.3031 - accuracy: 0.9250 - 36s/epoch - 432ms/step\n",
            "Epoch 69/80\n",
            "84/84 - 36s - loss: 0.2935 - accuracy: 0.9270 - 36s/epoch - 433ms/step\n",
            "Epoch 70/80\n",
            "84/84 - 36s - loss: 0.2870 - accuracy: 0.9292 - 36s/epoch - 432ms/step\n",
            "Epoch 71/80\n",
            "84/84 - 36s - loss: 0.2789 - accuracy: 0.9305 - 36s/epoch - 430ms/step\n",
            "Epoch 72/80\n",
            "84/84 - 36s - loss: 0.2655 - accuracy: 0.9354 - 36s/epoch - 430ms/step\n",
            "Epoch 73/80\n",
            "84/84 - 36s - loss: 0.2672 - accuracy: 0.9332 - 36s/epoch - 430ms/step\n",
            "Epoch 74/80\n",
            "84/84 - 36s - loss: 0.2605 - accuracy: 0.9352 - 36s/epoch - 433ms/step\n",
            "Epoch 75/80\n",
            "84/84 - 36s - loss: 0.2497 - accuracy: 0.9378 - 36s/epoch - 434ms/step\n",
            "Epoch 76/80\n",
            "84/84 - 37s - loss: 0.2411 - accuracy: 0.9406 - 37s/epoch - 437ms/step\n",
            "Epoch 77/80\n",
            "84/84 - 37s - loss: 0.2227 - accuracy: 0.9468 - 37s/epoch - 436ms/step\n",
            "Epoch 78/80\n",
            "84/84 - 36s - loss: 0.2283 - accuracy: 0.9438 - 36s/epoch - 429ms/step\n",
            "Epoch 79/80\n",
            "84/84 - 36s - loss: 0.2032 - accuracy: 0.9522 - 36s/epoch - 430ms/step\n",
            "Epoch 80/80\n",
            "84/84 - 36s - loss: 0.1883 - accuracy: 0.9562 - 36s/epoch - 429ms/step\n"
          ]
        },
        {
          "output_type": "execute_result",
          "data": {
            "text/plain": [
              "<keras.callbacks.History at 0x7f00f127bed0>"
            ]
          },
          "metadata": {},
          "execution_count": 23
        }
      ]
    },
    {
      "cell_type": "code",
      "metadata": {
        "colab": {
          "base_uri": "https://localhost:8080/"
        },
        "id": "BkgG5oJfzQIC",
        "outputId": "3b19b50b-ddd5-42d7-b33b-32c60ed1a09d"
      },
      "source": [
        "import joblib\n",
        "joblib.dump(model, 'char_RNNLM_model.pkl')"
      ],
      "execution_count": 25,
      "outputs": [
        {
          "output_type": "stream",
          "name": "stderr",
          "text": [
            "WARNING:absl:Found untraced functions such as lstm_cell_layer_call_fn, lstm_cell_layer_call_and_return_conditional_losses, lstm_cell_1_layer_call_fn, lstm_cell_1_layer_call_and_return_conditional_losses, lstm_cell_layer_call_fn while saving (showing 5 of 10). These functions will not be directly callable after loading.\n"
          ]
        },
        {
          "output_type": "stream",
          "name": "stdout",
          "text": [
            "INFO:tensorflow:Assets written to: ram://7304eeab-b2d3-451f-8a1b-6626b05a5c1b/assets\n"
          ]
        },
        {
          "output_type": "stream",
          "name": "stderr",
          "text": [
            "INFO:tensorflow:Assets written to: ram://7304eeab-b2d3-451f-8a1b-6626b05a5c1b/assets\n",
            "WARNING:absl:<keras.layers.recurrent.LSTMCell object at 0x7f00f5636fd0> has the same name 'LSTMCell' as a built-in Keras object. Consider renaming <class 'keras.layers.recurrent.LSTMCell'> to avoid naming conflicts when loading with `tf.keras.models.load_model`. If renaming is not possible, pass the object in the `custom_objects` parameter of the load function.\n",
            "WARNING:absl:<keras.layers.recurrent.LSTMCell object at 0x7f00f1478a10> has the same name 'LSTMCell' as a built-in Keras object. Consider renaming <class 'keras.layers.recurrent.LSTMCell'> to avoid naming conflicts when loading with `tf.keras.models.load_model`. If renaming is not possible, pass the object in the `custom_objects` parameter of the load function.\n"
          ]
        },
        {
          "output_type": "execute_result",
          "data": {
            "text/plain": [
              "['char_RNNLM_model.pkl']"
            ]
          },
          "metadata": {},
          "execution_count": 25
        }
      ]
    },
    {
      "cell_type": "code",
      "metadata": {
        "id": "lbgJwiXe0POH"
      },
      "source": [
        "model = joblib.load('char_RNNLM_model.pkl')"
      ],
      "execution_count": 26,
      "outputs": []
    },
    {
      "cell_type": "code",
      "metadata": {
        "id": "SSzbzG5UAqcw"
      },
      "source": [
        "def sentence_generation(model, length):\n",
        "    # 글자에 대한 랜덤 인덱스 생성\n",
        "    ix = [np.random.randint(vocab_size)]\n",
        "\n",
        "    # 랜덤 익덱스로부터 글자 생성\n",
        "    y_char = [index_to_char[ix[-1]]]\n",
        "    print(ix[-1],'번 글자',y_char[-1],'로 예측을 시작!')\n",
        "\n",
        "    # (1, length, 55) 크기의 X 생성. 즉, LSTM의 입력 시퀀스 생성\n",
        "    X = np.zeros((1, length, vocab_size))\n",
        "\n",
        "    for i in range(length):\n",
        "        # X[0][i][예측한 글자의 인덱스] = 1, 즉, 예측 글자를 다음 입력 시퀀스에 추가\n",
        "        X[0][i][ix[-1]] = 1\n",
        "        print(index_to_char[ix[-1]], end=\"\")\n",
        "        ix = np.argmax(model.predict(X[:, :i+1, :])[0], 1)\n",
        "        y_char.append(index_to_char[ix[-1]])\n",
        "    return ('').join(y_char)"
      ],
      "execution_count": 27,
      "outputs": []
    },
    {
      "cell_type": "code",
      "metadata": {
        "colab": {
          "base_uri": "https://localhost:8080/"
        },
        "id": "e3WvLhPEAvGw",
        "outputId": "b5af04d6-e7e3-4952-8261-cfdd4c0c65e3"
      },
      "source": [
        "result = sentence_generation(model, 100)\n",
        "print(result)"
      ],
      "execution_count": 28,
      "outputs": [
        {
          "output_type": "stream",
          "name": "stdout",
          "text": [
            "22 번 글자 8 로 예측을 시작!\n",
            "8 and anyone shooo see said the last wers orly, and un in a hor ous when had all see kepter that the8 and anyone shooo see said the last wers orly, and un in a hor ous when had all see kepter that the \n"
          ]
        }
      ]
    },
    {
      "cell_type": "markdown",
      "metadata": {
        "id": "D6qQbWZ3AxsW"
      },
      "source": [
        "# 2. 글자 단위 RNN(Char RNN)으로 텍스트 생성하기"
      ]
    },
    {
      "cell_type": "markdown",
      "metadata": {
        "id": "hNuCsN4hA0lc"
      },
      "source": [
        "다 대 일(many-to-one) 구조의 RNN을 글자 단위로 학습시키고, 텍스트 생성"
      ]
    },
    {
      "cell_type": "markdown",
      "metadata": {
        "id": "m2gJgyZkA2mF"
      },
      "source": [
        "## 1) 데이터에 대한 이해와 전처리"
      ]
    },
    {
      "cell_type": "code",
      "metadata": {
        "id": "dUfpzqMNAyqH"
      },
      "source": [
        "import numpy as np\n",
        "from tensorflow.keras.utils import to_categorical"
      ],
      "execution_count": 29,
      "outputs": []
    },
    {
      "cell_type": "markdown",
      "metadata": {
        "id": "HsvDTR0IA5yp"
      },
      "source": [
        "임의로 만든 엉터리 노래가사"
      ]
    },
    {
      "cell_type": "code",
      "metadata": {
        "id": "CtlWo4JQA8YQ"
      },
      "source": [
        "raw_text = '''\n",
        "I get on with life as a programmer,\n",
        "I like to contemplate beer.\n",
        "But when I start to daydream,\n",
        "My mind turns straight to wine.\n",
        "\n",
        "Do I love wine more than beer?\n",
        "\n",
        "I like to use words about beer.\n",
        "But when I stop my talking,\n",
        "My mind turns straight to wine.\n",
        "\n",
        "I hate bugs and errors.\n",
        "But I just think back to wine,\n",
        "And I'm happy once again.\n",
        "\n",
        "I like to hang out with programming and deep learning.\n",
        "But when left alone,\n",
        "My mind turns straight to wine.\n",
        "'''"
      ],
      "execution_count": 30,
      "outputs": []
    },
    {
      "cell_type": "markdown",
      "metadata": {
        "id": "xhPaoff5BDEr"
      },
      "source": [
        "위의 텍스트에 존재하는 단락 구분을 없애고 하나의 문자열로 재저장"
      ]
    },
    {
      "cell_type": "code",
      "metadata": {
        "colab": {
          "base_uri": "https://localhost:8080/"
        },
        "id": "bvmD90daBBRk",
        "outputId": "4d250d80-e69f-4863-d5c1-5a9abcef7772"
      },
      "source": [
        "tokens = raw_text.split()\n",
        "raw_text = ' '.join(tokens)\n",
        "print(raw_text)"
      ],
      "execution_count": 31,
      "outputs": [
        {
          "output_type": "stream",
          "name": "stdout",
          "text": [
            "I get on with life as a programmer, I like to contemplate beer. But when I start to daydream, My mind turns straight to wine. Do I love wine more than beer? I like to use words about beer. But when I stop my talking, My mind turns straight to wine. I hate bugs and errors. But I just think back to wine, And I'm happy once again. I like to hang out with programming and deep learning. But when left alone, My mind turns straight to wine.\n"
          ]
        }
      ]
    },
    {
      "cell_type": "code",
      "metadata": {
        "colab": {
          "base_uri": "https://localhost:8080/"
        },
        "id": "ynumzMEVBG5Y",
        "outputId": "83e01353-3efa-4904-c371-8703ba6d2ad7"
      },
      "source": [
        "# 중복을 제거한 글자 집합 생성\n",
        "char_vocab = sorted(list(set(raw_text)))\n",
        "print(char_vocab)"
      ],
      "execution_count": 32,
      "outputs": [
        {
          "output_type": "stream",
          "name": "stdout",
          "text": [
            "[' ', \"'\", ',', '.', '?', 'A', 'B', 'D', 'I', 'M', 'a', 'b', 'c', 'd', 'e', 'f', 'g', 'h', 'i', 'j', 'k', 'l', 'm', 'n', 'o', 'p', 'r', 's', 't', 'u', 'v', 'w', 'y']\n"
          ]
        }
      ]
    },
    {
      "cell_type": "code",
      "metadata": {
        "colab": {
          "base_uri": "https://localhost:8080/"
        },
        "id": "MkTaMIkEBIU5",
        "outputId": "dc8c4da0-bead-497a-a11d-a5d6912a694b"
      },
      "source": [
        "vocab_size = len(char_vocab)\n",
        "print ('글자 집합의 크기 : {}'.format(vocab_size))"
      ],
      "execution_count": 33,
      "outputs": [
        {
          "output_type": "stream",
          "name": "stdout",
          "text": [
            "글자 집합의 크기 : 33\n"
          ]
        }
      ]
    },
    {
      "cell_type": "code",
      "metadata": {
        "colab": {
          "base_uri": "https://localhost:8080/"
        },
        "id": "yawwCSKHBJuT",
        "outputId": "496d526d-d956-4248-f825-74ab3e13217d"
      },
      "source": [
        "char_to_index = dict((char, index) for index, char in enumerate(char_vocab)) # 글자에 고유한 정수 인덱스 부여\n",
        "print(char_to_index)"
      ],
      "execution_count": 34,
      "outputs": [
        {
          "output_type": "stream",
          "name": "stdout",
          "text": [
            "{' ': 0, \"'\": 1, ',': 2, '.': 3, '?': 4, 'A': 5, 'B': 6, 'D': 7, 'I': 8, 'M': 9, 'a': 10, 'b': 11, 'c': 12, 'd': 13, 'e': 14, 'f': 15, 'g': 16, 'h': 17, 'i': 18, 'j': 19, 'k': 20, 'l': 21, 'm': 22, 'n': 23, 'o': 24, 'p': 25, 'r': 26, 's': 27, 't': 28, 'u': 29, 'v': 30, 'w': 31, 'y': 32}\n"
          ]
        }
      ]
    },
    {
      "cell_type": "markdown",
      "metadata": {
        "id": "jyiHXq7fBRDM"
      },
      "source": [
        "여기서는 입력 시퀀스의 길이. 즉, 모든 샘플들의 길이가 10가 되도록 데이터를 구성해보겠습니다. 예측 대상이 되는 글자도 필요하므로 우선 길이가 11이 되도록 데이터를 구성합니다."
      ]
    },
    {
      "cell_type": "code",
      "metadata": {
        "colab": {
          "base_uri": "https://localhost:8080/"
        },
        "id": "yNVLu6nEBRlA",
        "outputId": "5b33da5b-3aa1-45a1-d831-10aa5cbd014e"
      },
      "source": [
        "length = 11\n",
        "sequences = []\n",
        "for i in range(length, len(raw_text)):\n",
        "    seq = raw_text[i-length:i] # 길이 11의 문자열을 지속적으로 만든다.\n",
        "    sequences.append(seq)\n",
        "print('총 훈련 샘플의 수: %d' % len(sequences))"
      ],
      "execution_count": 35,
      "outputs": [
        {
          "output_type": "stream",
          "name": "stdout",
          "text": [
            "총 훈련 샘플의 수: 426\n"
          ]
        }
      ]
    },
    {
      "cell_type": "code",
      "metadata": {
        "colab": {
          "base_uri": "https://localhost:8080/"
        },
        "id": "PtiuUFA0BTAx",
        "outputId": "91ec6353-d102-4c38-cfc9-a6cc3b1b5315"
      },
      "source": [
        "sequences[:10]"
      ],
      "execution_count": 36,
      "outputs": [
        {
          "output_type": "execute_result",
          "data": {
            "text/plain": [
              "['I get on wi',\n",
              " ' get on wit',\n",
              " 'get on with',\n",
              " 'et on with ',\n",
              " 't on with l',\n",
              " ' on with li',\n",
              " 'on with lif',\n",
              " 'n with life',\n",
              " ' with life ',\n",
              " 'with life a']"
            ]
          },
          "metadata": {},
          "execution_count": 36
        }
      ]
    },
    {
      "cell_type": "code",
      "metadata": {
        "id": "dbpqQThPBVG2"
      },
      "source": [
        "encoded_sequences = []\n",
        "for sequence in sequences: # 전체 데이터에서 문장 샘플을 1개씩 꺼낸다.\n",
        "    encoded_sequence = [char_to_index[char] for char in sequence] # 문장 샘플에서 각 글자에 대해서 정수 인코딩을 수행.\n",
        "    encoded_sequences.append(encoded_sequence)"
      ],
      "execution_count": 37,
      "outputs": []
    },
    {
      "cell_type": "code",
      "metadata": {
        "colab": {
          "base_uri": "https://localhost:8080/"
        },
        "id": "VHK0lxivBceF",
        "outputId": "0a547a54-14a5-4d96-a1d4-1dfd6fa20491"
      },
      "source": [
        "encoded_sequences[:5]"
      ],
      "execution_count": 38,
      "outputs": [
        {
          "output_type": "execute_result",
          "data": {
            "text/plain": [
              "[[8, 0, 16, 14, 28, 0, 24, 23, 0, 31, 18],\n",
              " [0, 16, 14, 28, 0, 24, 23, 0, 31, 18, 28],\n",
              " [16, 14, 28, 0, 24, 23, 0, 31, 18, 28, 17],\n",
              " [14, 28, 0, 24, 23, 0, 31, 18, 28, 17, 0],\n",
              " [28, 0, 24, 23, 0, 31, 18, 28, 17, 0, 21]]"
            ]
          },
          "metadata": {},
          "execution_count": 38
        }
      ]
    },
    {
      "cell_type": "code",
      "metadata": {
        "id": "RoK3_oH8Bea9"
      },
      "source": [
        "encoded_sequences = np.array(encoded_sequences)\n",
        "X_data = encoded_sequences[:,:-1]\n",
        "\n",
        "# 맨 마지막 위치의 글자를 분리\n",
        "y_data = encoded_sequences[:,-1]"
      ],
      "execution_count": 39,
      "outputs": []
    },
    {
      "cell_type": "code",
      "metadata": {
        "colab": {
          "base_uri": "https://localhost:8080/"
        },
        "id": "G_rTSbVNBgDq",
        "outputId": "8b2b691b-9040-44cc-e1bd-1cfa40f6c002"
      },
      "source": [
        "print(X_data[:5])\n",
        "print(y_data[:5])"
      ],
      "execution_count": 40,
      "outputs": [
        {
          "output_type": "stream",
          "name": "stdout",
          "text": [
            "[[ 8  0 16 14 28  0 24 23  0 31]\n",
            " [ 0 16 14 28  0 24 23  0 31 18]\n",
            " [16 14 28  0 24 23  0 31 18 28]\n",
            " [14 28  0 24 23  0 31 18 28 17]\n",
            " [28  0 24 23  0 31 18 28 17  0]]\n",
            "[18 28 17  0 21]\n"
          ]
        }
      ]
    },
    {
      "cell_type": "code",
      "metadata": {
        "id": "jRRN66QeBlx1"
      },
      "source": [
        "# 원-핫 인코딩\n",
        "X_data_one_hot = [to_categorical(encoded, num_classes=vocab_size) for encoded in X_data]\n",
        "X_data_one_hot = np.array(X_data_one_hot)\n",
        "y_data_one_hot = to_categorical(y_data, num_classes=vocab_size)"
      ],
      "execution_count": 41,
      "outputs": []
    },
    {
      "cell_type": "code",
      "metadata": {
        "colab": {
          "base_uri": "https://localhost:8080/"
        },
        "id": "UMPSn-BOBnIa",
        "outputId": "1d083a29-6faf-403f-a89a-6d072142cca0"
      },
      "source": [
        "print(X_data_one_hot.shape)"
      ],
      "execution_count": 42,
      "outputs": [
        {
          "output_type": "stream",
          "name": "stdout",
          "text": [
            "(426, 10, 33)\n"
          ]
        }
      ]
    },
    {
      "cell_type": "markdown",
      "metadata": {
        "id": "Qyb3AeIqBs93"
      },
      "source": [
        "샘플의 수(No. of samples)가 426개, 입력 시퀀스의 길이(input_length)가 10, 각 벡터의 차원(input_dim)이 33임을 의미합니다. 원-핫 벡터의 차원은 글자 집합의 크기인 33이어야 하므로 X에 대해서 원-핫 인코딩이 수행되었음을 알 수 있습니다."
      ]
    },
    {
      "cell_type": "markdown",
      "metadata": {
        "id": "sGMi49VCBpRo"
      },
      "source": [
        "## 2) 모델 설계하기"
      ]
    },
    {
      "cell_type": "code",
      "metadata": {
        "id": "Ysjyyy7VBnbK"
      },
      "source": [
        "from tensorflow.keras.models import Sequential\n",
        "from tensorflow.keras.layers import Dense, LSTM\n",
        "from tensorflow.keras.preprocessing.sequence import pad_sequences"
      ],
      "execution_count": 43,
      "outputs": []
    },
    {
      "cell_type": "code",
      "metadata": {
        "id": "bTmYsVmbBrjE"
      },
      "source": [
        "hidden_units = 64\n",
        "\n",
        "model = Sequential()\n",
        "model.add(LSTM(hidden_units, input_shape=(X_data_one_hot.shape[1], X_data_one_hot.shape[2])))\n",
        "model.add(Dense(vocab_size, activation='softmax'))"
      ],
      "execution_count": 44,
      "outputs": []
    },
    {
      "cell_type": "markdown",
      "metadata": {
        "id": "EtnrMoOHBx3A"
      },
      "source": [
        "LSTM을 사용하고, 은닉 상태의 크기는 80, 그리고 출력층에 단어 집합의 크기만큼의 뉴런을 배치하여 모델을 설계합니다."
      ]
    },
    {
      "cell_type": "code",
      "metadata": {
        "colab": {
          "base_uri": "https://localhost:8080/"
        },
        "id": "DuVEYBuEB0NH",
        "outputId": "214ac32b-37d7-4534-be57-6b38bc645288"
      },
      "source": [
        "model.compile(loss='categorical_crossentropy', optimizer='adam', metrics=['accuracy'])\n",
        "model.fit(X_data_one_hot, y_data_one_hot, epochs=100, verbose=2)"
      ],
      "execution_count": 45,
      "outputs": [
        {
          "output_type": "stream",
          "name": "stdout",
          "text": [
            "Epoch 1/100\n",
            "14/14 - 2s - loss: 3.4678 - accuracy: 0.1080 - 2s/epoch - 172ms/step\n",
            "Epoch 2/100\n",
            "14/14 - 0s - loss: 3.3676 - accuracy: 0.1972 - 86ms/epoch - 6ms/step\n",
            "Epoch 3/100\n",
            "14/14 - 0s - loss: 3.1012 - accuracy: 0.1972 - 86ms/epoch - 6ms/step\n",
            "Epoch 4/100\n",
            "14/14 - 0s - loss: 2.9952 - accuracy: 0.1972 - 96ms/epoch - 7ms/step\n",
            "Epoch 5/100\n",
            "14/14 - 0s - loss: 2.9698 - accuracy: 0.1972 - 93ms/epoch - 7ms/step\n",
            "Epoch 6/100\n",
            "14/14 - 0s - loss: 2.9273 - accuracy: 0.1972 - 82ms/epoch - 6ms/step\n",
            "Epoch 7/100\n",
            "14/14 - 0s - loss: 2.9168 - accuracy: 0.1972 - 94ms/epoch - 7ms/step\n",
            "Epoch 8/100\n",
            "14/14 - 0s - loss: 2.8971 - accuracy: 0.1972 - 85ms/epoch - 6ms/step\n",
            "Epoch 9/100\n",
            "14/14 - 0s - loss: 2.8723 - accuracy: 0.1972 - 85ms/epoch - 6ms/step\n",
            "Epoch 10/100\n",
            "14/14 - 0s - loss: 2.8533 - accuracy: 0.1995 - 88ms/epoch - 6ms/step\n",
            "Epoch 11/100\n",
            "14/14 - 0s - loss: 2.8290 - accuracy: 0.1972 - 95ms/epoch - 7ms/step\n",
            "Epoch 12/100\n",
            "14/14 - 0s - loss: 2.7992 - accuracy: 0.1995 - 89ms/epoch - 6ms/step\n",
            "Epoch 13/100\n",
            "14/14 - 0s - loss: 2.7725 - accuracy: 0.1972 - 86ms/epoch - 6ms/step\n",
            "Epoch 14/100\n",
            "14/14 - 0s - loss: 2.7300 - accuracy: 0.2019 - 87ms/epoch - 6ms/step\n",
            "Epoch 15/100\n",
            "14/14 - 0s - loss: 2.6893 - accuracy: 0.2042 - 94ms/epoch - 7ms/step\n",
            "Epoch 16/100\n",
            "14/14 - 0s - loss: 2.6457 - accuracy: 0.2160 - 87ms/epoch - 6ms/step\n",
            "Epoch 17/100\n",
            "14/14 - 0s - loss: 2.5976 - accuracy: 0.2606 - 89ms/epoch - 6ms/step\n",
            "Epoch 18/100\n",
            "14/14 - 0s - loss: 2.5439 - accuracy: 0.2817 - 88ms/epoch - 6ms/step\n",
            "Epoch 19/100\n",
            "14/14 - 0s - loss: 2.4909 - accuracy: 0.2676 - 86ms/epoch - 6ms/step\n",
            "Epoch 20/100\n",
            "14/14 - 0s - loss: 2.4551 - accuracy: 0.3239 - 88ms/epoch - 6ms/step\n",
            "Epoch 21/100\n",
            "14/14 - 0s - loss: 2.3946 - accuracy: 0.2864 - 90ms/epoch - 6ms/step\n",
            "Epoch 22/100\n",
            "14/14 - 0s - loss: 2.3522 - accuracy: 0.3216 - 93ms/epoch - 7ms/step\n",
            "Epoch 23/100\n",
            "14/14 - 0s - loss: 2.2975 - accuracy: 0.3521 - 100ms/epoch - 7ms/step\n",
            "Epoch 24/100\n",
            "14/14 - 0s - loss: 2.2825 - accuracy: 0.3239 - 93ms/epoch - 7ms/step\n",
            "Epoch 25/100\n",
            "14/14 - 0s - loss: 2.2253 - accuracy: 0.3803 - 95ms/epoch - 7ms/step\n",
            "Epoch 26/100\n",
            "14/14 - 0s - loss: 2.1751 - accuracy: 0.3826 - 86ms/epoch - 6ms/step\n",
            "Epoch 27/100\n",
            "14/14 - 0s - loss: 2.1260 - accuracy: 0.3826 - 89ms/epoch - 6ms/step\n",
            "Epoch 28/100\n",
            "14/14 - 0s - loss: 2.0925 - accuracy: 0.4272 - 98ms/epoch - 7ms/step\n",
            "Epoch 29/100\n",
            "14/14 - 0s - loss: 2.0325 - accuracy: 0.4319 - 88ms/epoch - 6ms/step\n",
            "Epoch 30/100\n",
            "14/14 - 0s - loss: 1.9879 - accuracy: 0.4390 - 102ms/epoch - 7ms/step\n",
            "Epoch 31/100\n",
            "14/14 - 0s - loss: 1.9588 - accuracy: 0.4624 - 94ms/epoch - 7ms/step\n",
            "Epoch 32/100\n",
            "14/14 - 0s - loss: 1.8969 - accuracy: 0.4577 - 96ms/epoch - 7ms/step\n",
            "Epoch 33/100\n",
            "14/14 - 0s - loss: 1.8653 - accuracy: 0.4977 - 90ms/epoch - 6ms/step\n",
            "Epoch 34/100\n",
            "14/14 - 0s - loss: 1.8276 - accuracy: 0.4977 - 90ms/epoch - 6ms/step\n",
            "Epoch 35/100\n",
            "14/14 - 0s - loss: 1.7965 - accuracy: 0.5047 - 88ms/epoch - 6ms/step\n",
            "Epoch 36/100\n",
            "14/14 - 0s - loss: 1.7577 - accuracy: 0.5446 - 94ms/epoch - 7ms/step\n",
            "Epoch 37/100\n",
            "14/14 - 0s - loss: 1.7129 - accuracy: 0.5610 - 96ms/epoch - 7ms/step\n",
            "Epoch 38/100\n",
            "14/14 - 0s - loss: 1.6658 - accuracy: 0.5493 - 84ms/epoch - 6ms/step\n",
            "Epoch 39/100\n",
            "14/14 - 0s - loss: 1.6141 - accuracy: 0.5986 - 91ms/epoch - 7ms/step\n",
            "Epoch 40/100\n",
            "14/14 - 0s - loss: 1.5628 - accuracy: 0.5939 - 85ms/epoch - 6ms/step\n",
            "Epoch 41/100\n",
            "14/14 - 0s - loss: 1.5390 - accuracy: 0.5915 - 85ms/epoch - 6ms/step\n",
            "Epoch 42/100\n",
            "14/14 - 0s - loss: 1.4980 - accuracy: 0.5962 - 86ms/epoch - 6ms/step\n",
            "Epoch 43/100\n",
            "14/14 - 0s - loss: 1.4609 - accuracy: 0.6268 - 94ms/epoch - 7ms/step\n",
            "Epoch 44/100\n",
            "14/14 - 0s - loss: 1.4380 - accuracy: 0.6573 - 82ms/epoch - 6ms/step\n",
            "Epoch 45/100\n",
            "14/14 - 0s - loss: 1.4027 - accuracy: 0.6596 - 96ms/epoch - 7ms/step\n",
            "Epoch 46/100\n",
            "14/14 - 0s - loss: 1.3611 - accuracy: 0.6573 - 90ms/epoch - 6ms/step\n",
            "Epoch 47/100\n",
            "14/14 - 0s - loss: 1.3175 - accuracy: 0.6667 - 81ms/epoch - 6ms/step\n",
            "Epoch 48/100\n",
            "14/14 - 0s - loss: 1.2988 - accuracy: 0.6643 - 92ms/epoch - 7ms/step\n",
            "Epoch 49/100\n",
            "14/14 - 0s - loss: 1.2564 - accuracy: 0.6831 - 89ms/epoch - 6ms/step\n",
            "Epoch 50/100\n",
            "14/14 - 0s - loss: 1.2335 - accuracy: 0.6854 - 89ms/epoch - 6ms/step\n",
            "Epoch 51/100\n",
            "14/14 - 0s - loss: 1.1924 - accuracy: 0.7113 - 91ms/epoch - 6ms/step\n",
            "Epoch 52/100\n",
            "14/14 - 0s - loss: 1.1781 - accuracy: 0.6995 - 95ms/epoch - 7ms/step\n",
            "Epoch 53/100\n",
            "14/14 - 0s - loss: 1.1309 - accuracy: 0.7183 - 86ms/epoch - 6ms/step\n",
            "Epoch 54/100\n",
            "14/14 - 0s - loss: 1.0853 - accuracy: 0.7254 - 100ms/epoch - 7ms/step\n",
            "Epoch 55/100\n",
            "14/14 - 0s - loss: 1.0566 - accuracy: 0.7512 - 89ms/epoch - 6ms/step\n",
            "Epoch 56/100\n",
            "14/14 - 0s - loss: 1.0283 - accuracy: 0.7535 - 89ms/epoch - 6ms/step\n",
            "Epoch 57/100\n",
            "14/14 - 0s - loss: 1.0001 - accuracy: 0.7629 - 89ms/epoch - 6ms/step\n",
            "Epoch 58/100\n",
            "14/14 - 0s - loss: 0.9677 - accuracy: 0.7793 - 92ms/epoch - 7ms/step\n",
            "Epoch 59/100\n",
            "14/14 - 0s - loss: 0.9304 - accuracy: 0.7840 - 90ms/epoch - 6ms/step\n",
            "Epoch 60/100\n",
            "14/14 - 0s - loss: 0.9044 - accuracy: 0.7817 - 104ms/epoch - 7ms/step\n",
            "Epoch 61/100\n",
            "14/14 - 0s - loss: 0.8747 - accuracy: 0.7934 - 93ms/epoch - 7ms/step\n",
            "Epoch 62/100\n",
            "14/14 - 0s - loss: 0.8599 - accuracy: 0.8028 - 88ms/epoch - 6ms/step\n",
            "Epoch 63/100\n",
            "14/14 - 0s - loss: 0.8424 - accuracy: 0.8263 - 87ms/epoch - 6ms/step\n",
            "Epoch 64/100\n",
            "14/14 - 0s - loss: 0.8127 - accuracy: 0.8239 - 96ms/epoch - 7ms/step\n",
            "Epoch 65/100\n",
            "14/14 - 0s - loss: 0.7811 - accuracy: 0.8427 - 90ms/epoch - 6ms/step\n",
            "Epoch 66/100\n",
            "14/14 - 0s - loss: 0.7544 - accuracy: 0.8451 - 88ms/epoch - 6ms/step\n",
            "Epoch 67/100\n",
            "14/14 - 0s - loss: 0.7294 - accuracy: 0.8380 - 85ms/epoch - 6ms/step\n",
            "Epoch 68/100\n",
            "14/14 - 0s - loss: 0.7088 - accuracy: 0.8545 - 86ms/epoch - 6ms/step\n",
            "Epoch 69/100\n",
            "14/14 - 0s - loss: 0.6810 - accuracy: 0.8592 - 91ms/epoch - 6ms/step\n",
            "Epoch 70/100\n",
            "14/14 - 0s - loss: 0.6602 - accuracy: 0.8920 - 84ms/epoch - 6ms/step\n",
            "Epoch 71/100\n",
            "14/14 - 0s - loss: 0.6307 - accuracy: 0.8967 - 88ms/epoch - 6ms/step\n",
            "Epoch 72/100\n",
            "14/14 - 0s - loss: 0.6184 - accuracy: 0.8873 - 84ms/epoch - 6ms/step\n",
            "Epoch 73/100\n",
            "14/14 - 0s - loss: 0.5963 - accuracy: 0.9014 - 83ms/epoch - 6ms/step\n",
            "Epoch 74/100\n",
            "14/14 - 0s - loss: 0.5769 - accuracy: 0.9108 - 86ms/epoch - 6ms/step\n",
            "Epoch 75/100\n",
            "14/14 - 0s - loss: 0.5573 - accuracy: 0.8944 - 87ms/epoch - 6ms/step\n",
            "Epoch 76/100\n",
            "14/14 - 0s - loss: 0.5353 - accuracy: 0.9225 - 88ms/epoch - 6ms/step\n",
            "Epoch 77/100\n",
            "14/14 - 0s - loss: 0.5159 - accuracy: 0.9272 - 99ms/epoch - 7ms/step\n",
            "Epoch 78/100\n",
            "14/14 - 0s - loss: 0.5156 - accuracy: 0.9272 - 88ms/epoch - 6ms/step\n",
            "Epoch 79/100\n",
            "14/14 - 0s - loss: 0.4815 - accuracy: 0.9343 - 88ms/epoch - 6ms/step\n",
            "Epoch 80/100\n",
            "14/14 - 0s - loss: 0.4731 - accuracy: 0.9343 - 94ms/epoch - 7ms/step\n",
            "Epoch 81/100\n",
            "14/14 - 0s - loss: 0.4459 - accuracy: 0.9460 - 87ms/epoch - 6ms/step\n",
            "Epoch 82/100\n",
            "14/14 - 0s - loss: 0.4358 - accuracy: 0.9437 - 90ms/epoch - 6ms/step\n",
            "Epoch 83/100\n",
            "14/14 - 0s - loss: 0.4187 - accuracy: 0.9577 - 90ms/epoch - 6ms/step\n",
            "Epoch 84/100\n",
            "14/14 - 0s - loss: 0.4114 - accuracy: 0.9507 - 91ms/epoch - 6ms/step\n",
            "Epoch 85/100\n",
            "14/14 - 0s - loss: 0.4002 - accuracy: 0.9507 - 93ms/epoch - 7ms/step\n",
            "Epoch 86/100\n",
            "14/14 - 0s - loss: 0.3855 - accuracy: 0.9601 - 98ms/epoch - 7ms/step\n",
            "Epoch 87/100\n",
            "14/14 - 0s - loss: 0.3707 - accuracy: 0.9577 - 112ms/epoch - 8ms/step\n",
            "Epoch 88/100\n",
            "14/14 - 0s - loss: 0.3571 - accuracy: 0.9601 - 102ms/epoch - 7ms/step\n",
            "Epoch 89/100\n",
            "14/14 - 0s - loss: 0.3493 - accuracy: 0.9624 - 83ms/epoch - 6ms/step\n",
            "Epoch 90/100\n",
            "14/14 - 0s - loss: 0.3438 - accuracy: 0.9648 - 95ms/epoch - 7ms/step\n",
            "Epoch 91/100\n",
            "14/14 - 0s - loss: 0.3301 - accuracy: 0.9718 - 90ms/epoch - 6ms/step\n",
            "Epoch 92/100\n",
            "14/14 - 0s - loss: 0.3159 - accuracy: 0.9648 - 92ms/epoch - 7ms/step\n",
            "Epoch 93/100\n",
            "14/14 - 0s - loss: 0.3111 - accuracy: 0.9718 - 87ms/epoch - 6ms/step\n",
            "Epoch 94/100\n",
            "14/14 - 0s - loss: 0.2989 - accuracy: 0.9765 - 102ms/epoch - 7ms/step\n",
            "Epoch 95/100\n",
            "14/14 - 0s - loss: 0.2920 - accuracy: 0.9695 - 90ms/epoch - 6ms/step\n",
            "Epoch 96/100\n",
            "14/14 - 0s - loss: 0.2792 - accuracy: 0.9765 - 85ms/epoch - 6ms/step\n",
            "Epoch 97/100\n",
            "14/14 - 0s - loss: 0.2737 - accuracy: 0.9789 - 93ms/epoch - 7ms/step\n",
            "Epoch 98/100\n",
            "14/14 - 0s - loss: 0.2641 - accuracy: 0.9742 - 103ms/epoch - 7ms/step\n",
            "Epoch 99/100\n",
            "14/14 - 0s - loss: 0.2525 - accuracy: 0.9812 - 92ms/epoch - 7ms/step\n",
            "Epoch 100/100\n",
            "14/14 - 0s - loss: 0.2460 - accuracy: 0.9765 - 90ms/epoch - 6ms/step\n"
          ]
        },
        {
          "output_type": "execute_result",
          "data": {
            "text/plain": [
              "<keras.callbacks.History at 0x7f00ec64f790>"
            ]
          },
          "metadata": {},
          "execution_count": 45
        }
      ]
    },
    {
      "cell_type": "code",
      "metadata": {
        "colab": {
          "base_uri": "https://localhost:8080/"
        },
        "id": "q9wMwefxzwaN",
        "outputId": "564af693-c88f-4bdd-b58c-84194fa1ca97"
      },
      "source": [
        "import joblib\n",
        "joblib.dump(model, 'char_RNNLM_model_sent.pkl')"
      ],
      "execution_count": 46,
      "outputs": [
        {
          "output_type": "stream",
          "name": "stderr",
          "text": [
            "WARNING:absl:Found untraced functions such as lstm_cell_4_layer_call_fn, lstm_cell_4_layer_call_and_return_conditional_losses, lstm_cell_4_layer_call_fn, lstm_cell_4_layer_call_and_return_conditional_losses, lstm_cell_4_layer_call_and_return_conditional_losses while saving (showing 5 of 5). These functions will not be directly callable after loading.\n"
          ]
        },
        {
          "output_type": "stream",
          "name": "stdout",
          "text": [
            "INFO:tensorflow:Assets written to: ram://766aebe2-689d-4a46-8552-f819fe7b2b4c/assets\n"
          ]
        },
        {
          "output_type": "stream",
          "name": "stderr",
          "text": [
            "INFO:tensorflow:Assets written to: ram://766aebe2-689d-4a46-8552-f819fe7b2b4c/assets\n",
            "WARNING:absl:<keras.layers.recurrent.LSTMCell object at 0x7f00ed044450> has the same name 'LSTMCell' as a built-in Keras object. Consider renaming <class 'keras.layers.recurrent.LSTMCell'> to avoid naming conflicts when loading with `tf.keras.models.load_model`. If renaming is not possible, pass the object in the `custom_objects` parameter of the load function.\n"
          ]
        },
        {
          "output_type": "execute_result",
          "data": {
            "text/plain": [
              "['char_RNNLM_model_sent.pkl']"
            ]
          },
          "metadata": {},
          "execution_count": 46
        }
      ]
    },
    {
      "cell_type": "code",
      "metadata": {
        "id": "TojEZCwI0FK1"
      },
      "source": [
        "model = joblib.load('char_RNNLM_model_sent.pkl')"
      ],
      "execution_count": 47,
      "outputs": []
    },
    {
      "cell_type": "code",
      "metadata": {
        "id": "ezRfq9eUB3Zb"
      },
      "source": [
        "def sentence_generation(model, char_to_index, seq_length, seed_text, n):\n",
        "\n",
        "    # 초기 시퀀스\n",
        "    init_text = seed_text\n",
        "    sentence = ''\n",
        "\n",
        "    for _ in range(n):\n",
        "        encoded = [char_to_index[char] for char in seed_text] # 현재 시퀀스에 대한 정수 인코딩\n",
        "        encoded = pad_sequences([encoded], maxlen=seq_length, padding='pre') # 데이터에 대한 패딩\n",
        "        encoded = to_categorical(encoded, num_classes=len(char_to_index))\n",
        "\n",
        "        # 입력한 X(현재 시퀀스)에 대해서 y를 예측하고 y(예측한 글자)를 result에 저장.\n",
        "        result = model.predict(encoded, verbose=0)\n",
        "        result = np.argmax(result, axis=1)\n",
        "\n",
        "        for char, index in char_to_index.items():\n",
        "            if index == result:\n",
        "                break\n",
        "\n",
        "        # 현재 시퀀스 + 예측 글자를 현재 시퀀스로 변경\n",
        "        seed_text = seed_text + char\n",
        "\n",
        "        # 예측 글자를 문장에 저장\n",
        "        sentence = sentence + char\n",
        "\n",
        "    sentence = init_text + sentence\n",
        "    return sentence"
      ],
      "execution_count": 48,
      "outputs": []
    },
    {
      "cell_type": "code",
      "metadata": {
        "colab": {
          "base_uri": "https://localhost:8080/"
        },
        "id": "zeEeFjfGCRnd",
        "outputId": "d1bbe404-befb-4846-9237-f6c13a9742b6"
      },
      "source": [
        "print(sentence_generation(model, char_to_index, 10, 'I get on w', 80)) #새로 생성된 문장"
      ],
      "execution_count": 49,
      "outputs": [
        {
          "output_type": "stream",
          "name": "stdout",
          "text": [
            "I get on with life as a programmer, I like to contemplate beer. But when I stop my talking\n"
          ]
        }
      ]
    }
  ]
}