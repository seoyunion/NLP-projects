{
  "nbformat": 4,
  "nbformat_minor": 0,
  "metadata": {
    "colab": {
      "name": "2021_NLP_mid_김서윤.ipynb",
      "provenance": [],
      "collapsed_sections": []
    },
    "kernelspec": {
      "name": "python3",
      "display_name": "Python 3"
    },
    "language_info": {
      "name": "python"
    }
  },
  "cells": [
    {
      "cell_type": "markdown",
      "metadata": {
        "id": "ZmIs3cGNAOWJ"
      },
      "source": [
        "김서윤/2018311913/0.817907444668008"
      ]
    },
    {
      "cell_type": "markdown",
      "metadata": {
        "id": "Xc4q5T3havI0"
      },
      "source": [
        "# 0. 데이터 로드"
      ]
    },
    {
      "cell_type": "code",
      "metadata": {
        "id": "AKL_J7PQLm-Q",
        "colab": {
          "base_uri": "https://localhost:8080/"
        },
        "outputId": "ecdc4be9-326a-4aa4-e32d-98418cb188fd"
      },
      "source": [
        "!git clone https://github.com/e9t/nsmc.git"
      ],
      "execution_count": 1,
      "outputs": [
        {
          "output_type": "stream",
          "name": "stdout",
          "text": [
            "Cloning into 'nsmc'...\n",
            "remote: Enumerating objects: 14763, done.\u001b[K\n",
            "remote: Total 14763 (delta 0), reused 0 (delta 0), pack-reused 14763\u001b[K\n",
            "Receiving objects: 100% (14763/14763), 56.19 MiB | 19.23 MiB/s, done.\n",
            "Resolving deltas: 100% (1749/1749), done.\n",
            "Checking out files: 100% (14737/14737), done.\n"
          ]
        }
      ]
    },
    {
      "cell_type": "code",
      "metadata": {
        "id": "DZx56-9cLz1v"
      },
      "source": [
        "import pandas as pd\n",
        "\n",
        "train_df = pd.read_csv('./nsmc/ratings_train.txt', sep='\\t')\n",
        "test_df = pd.read_csv('./nsmc/ratings_test.txt', sep='\\t')\n",
        "train_df.dropna(inplace=True)\n",
        "test_df.dropna(inplace=True)"
      ],
      "execution_count": 2,
      "outputs": []
    },
    {
      "cell_type": "code",
      "metadata": {
        "id": "sl35-PYn-wna",
        "colab": {
          "base_uri": "https://localhost:8080/"
        },
        "outputId": "c982a498-34ab-4e33-ab17-e1e889af49a0"
      },
      "source": [
        "import nltk\n",
        "nltk.download('all')"
      ],
      "execution_count": 3,
      "outputs": [
        {
          "output_type": "stream",
          "name": "stdout",
          "text": [
            "[nltk_data] Downloading collection 'all'\n",
            "[nltk_data]    | \n",
            "[nltk_data]    | Downloading package abc to /root/nltk_data...\n",
            "[nltk_data]    |   Unzipping corpora/abc.zip.\n",
            "[nltk_data]    | Downloading package alpino to /root/nltk_data...\n",
            "[nltk_data]    |   Unzipping corpora/alpino.zip.\n",
            "[nltk_data]    | Downloading package biocreative_ppi to\n",
            "[nltk_data]    |     /root/nltk_data...\n",
            "[nltk_data]    |   Unzipping corpora/biocreative_ppi.zip.\n",
            "[nltk_data]    | Downloading package brown to /root/nltk_data...\n",
            "[nltk_data]    |   Unzipping corpora/brown.zip.\n",
            "[nltk_data]    | Downloading package brown_tei to /root/nltk_data...\n",
            "[nltk_data]    |   Unzipping corpora/brown_tei.zip.\n",
            "[nltk_data]    | Downloading package cess_cat to /root/nltk_data...\n",
            "[nltk_data]    |   Unzipping corpora/cess_cat.zip.\n",
            "[nltk_data]    | Downloading package cess_esp to /root/nltk_data...\n",
            "[nltk_data]    |   Unzipping corpora/cess_esp.zip.\n",
            "[nltk_data]    | Downloading package chat80 to /root/nltk_data...\n",
            "[nltk_data]    |   Unzipping corpora/chat80.zip.\n",
            "[nltk_data]    | Downloading package city_database to\n",
            "[nltk_data]    |     /root/nltk_data...\n",
            "[nltk_data]    |   Unzipping corpora/city_database.zip.\n",
            "[nltk_data]    | Downloading package cmudict to /root/nltk_data...\n",
            "[nltk_data]    |   Unzipping corpora/cmudict.zip.\n",
            "[nltk_data]    | Downloading package comparative_sentences to\n",
            "[nltk_data]    |     /root/nltk_data...\n",
            "[nltk_data]    |   Unzipping corpora/comparative_sentences.zip.\n",
            "[nltk_data]    | Downloading package comtrans to /root/nltk_data...\n",
            "[nltk_data]    | Downloading package conll2000 to /root/nltk_data...\n",
            "[nltk_data]    |   Unzipping corpora/conll2000.zip.\n",
            "[nltk_data]    | Downloading package conll2002 to /root/nltk_data...\n",
            "[nltk_data]    |   Unzipping corpora/conll2002.zip.\n",
            "[nltk_data]    | Downloading package conll2007 to /root/nltk_data...\n",
            "[nltk_data]    | Downloading package crubadan to /root/nltk_data...\n",
            "[nltk_data]    |   Unzipping corpora/crubadan.zip.\n",
            "[nltk_data]    | Downloading package dependency_treebank to\n",
            "[nltk_data]    |     /root/nltk_data...\n",
            "[nltk_data]    |   Unzipping corpora/dependency_treebank.zip.\n",
            "[nltk_data]    | Downloading package dolch to /root/nltk_data...\n",
            "[nltk_data]    |   Unzipping corpora/dolch.zip.\n",
            "[nltk_data]    | Downloading package europarl_raw to\n",
            "[nltk_data]    |     /root/nltk_data...\n",
            "[nltk_data]    |   Unzipping corpora/europarl_raw.zip.\n",
            "[nltk_data]    | Downloading package floresta to /root/nltk_data...\n",
            "[nltk_data]    |   Unzipping corpora/floresta.zip.\n",
            "[nltk_data]    | Downloading package framenet_v15 to\n",
            "[nltk_data]    |     /root/nltk_data...\n",
            "[nltk_data]    |   Unzipping corpora/framenet_v15.zip.\n",
            "[nltk_data]    | Downloading package framenet_v17 to\n",
            "[nltk_data]    |     /root/nltk_data...\n",
            "[nltk_data]    |   Unzipping corpora/framenet_v17.zip.\n",
            "[nltk_data]    | Downloading package gazetteers to /root/nltk_data...\n",
            "[nltk_data]    |   Unzipping corpora/gazetteers.zip.\n",
            "[nltk_data]    | Downloading package genesis to /root/nltk_data...\n",
            "[nltk_data]    |   Unzipping corpora/genesis.zip.\n",
            "[nltk_data]    | Downloading package gutenberg to /root/nltk_data...\n",
            "[nltk_data]    |   Unzipping corpora/gutenberg.zip.\n",
            "[nltk_data]    | Downloading package ieer to /root/nltk_data...\n",
            "[nltk_data]    |   Unzipping corpora/ieer.zip.\n",
            "[nltk_data]    | Downloading package inaugural to /root/nltk_data...\n",
            "[nltk_data]    |   Unzipping corpora/inaugural.zip.\n",
            "[nltk_data]    | Downloading package indian to /root/nltk_data...\n",
            "[nltk_data]    |   Unzipping corpora/indian.zip.\n",
            "[nltk_data]    | Downloading package jeita to /root/nltk_data...\n",
            "[nltk_data]    | Downloading package kimmo to /root/nltk_data...\n",
            "[nltk_data]    |   Unzipping corpora/kimmo.zip.\n",
            "[nltk_data]    | Downloading package knbc to /root/nltk_data...\n",
            "[nltk_data]    | Downloading package lin_thesaurus to\n",
            "[nltk_data]    |     /root/nltk_data...\n",
            "[nltk_data]    |   Unzipping corpora/lin_thesaurus.zip.\n",
            "[nltk_data]    | Downloading package mac_morpho to /root/nltk_data...\n",
            "[nltk_data]    |   Unzipping corpora/mac_morpho.zip.\n",
            "[nltk_data]    | Downloading package machado to /root/nltk_data...\n",
            "[nltk_data]    | Downloading package masc_tagged to /root/nltk_data...\n",
            "[nltk_data]    | Downloading package moses_sample to\n",
            "[nltk_data]    |     /root/nltk_data...\n",
            "[nltk_data]    |   Unzipping models/moses_sample.zip.\n",
            "[nltk_data]    | Downloading package movie_reviews to\n",
            "[nltk_data]    |     /root/nltk_data...\n",
            "[nltk_data]    |   Unzipping corpora/movie_reviews.zip.\n",
            "[nltk_data]    | Downloading package names to /root/nltk_data...\n",
            "[nltk_data]    |   Unzipping corpora/names.zip.\n",
            "[nltk_data]    | Downloading package nombank.1.0 to /root/nltk_data...\n",
            "[nltk_data]    | Downloading package nps_chat to /root/nltk_data...\n",
            "[nltk_data]    |   Unzipping corpora/nps_chat.zip.\n",
            "[nltk_data]    | Downloading package omw to /root/nltk_data...\n",
            "[nltk_data]    |   Unzipping corpora/omw.zip.\n",
            "[nltk_data]    | Downloading package opinion_lexicon to\n",
            "[nltk_data]    |     /root/nltk_data...\n",
            "[nltk_data]    |   Unzipping corpora/opinion_lexicon.zip.\n",
            "[nltk_data]    | Downloading package paradigms to /root/nltk_data...\n",
            "[nltk_data]    |   Unzipping corpora/paradigms.zip.\n",
            "[nltk_data]    | Downloading package pil to /root/nltk_data...\n",
            "[nltk_data]    |   Unzipping corpora/pil.zip.\n",
            "[nltk_data]    | Downloading package pl196x to /root/nltk_data...\n",
            "[nltk_data]    |   Unzipping corpora/pl196x.zip.\n",
            "[nltk_data]    | Downloading package ppattach to /root/nltk_data...\n",
            "[nltk_data]    |   Unzipping corpora/ppattach.zip.\n",
            "[nltk_data]    | Downloading package problem_reports to\n",
            "[nltk_data]    |     /root/nltk_data...\n",
            "[nltk_data]    |   Unzipping corpora/problem_reports.zip.\n",
            "[nltk_data]    | Downloading package propbank to /root/nltk_data...\n",
            "[nltk_data]    | Downloading package ptb to /root/nltk_data...\n",
            "[nltk_data]    |   Unzipping corpora/ptb.zip.\n",
            "[nltk_data]    | Downloading package product_reviews_1 to\n",
            "[nltk_data]    |     /root/nltk_data...\n",
            "[nltk_data]    |   Unzipping corpora/product_reviews_1.zip.\n",
            "[nltk_data]    | Downloading package product_reviews_2 to\n",
            "[nltk_data]    |     /root/nltk_data...\n",
            "[nltk_data]    |   Unzipping corpora/product_reviews_2.zip.\n",
            "[nltk_data]    | Downloading package pros_cons to /root/nltk_data...\n",
            "[nltk_data]    |   Unzipping corpora/pros_cons.zip.\n",
            "[nltk_data]    | Downloading package qc to /root/nltk_data...\n",
            "[nltk_data]    |   Unzipping corpora/qc.zip.\n",
            "[nltk_data]    | Downloading package reuters to /root/nltk_data...\n",
            "[nltk_data]    | Downloading package rte to /root/nltk_data...\n",
            "[nltk_data]    |   Unzipping corpora/rte.zip.\n",
            "[nltk_data]    | Downloading package semcor to /root/nltk_data...\n",
            "[nltk_data]    | Downloading package senseval to /root/nltk_data...\n",
            "[nltk_data]    |   Unzipping corpora/senseval.zip.\n",
            "[nltk_data]    | Downloading package sentiwordnet to\n",
            "[nltk_data]    |     /root/nltk_data...\n",
            "[nltk_data]    |   Unzipping corpora/sentiwordnet.zip.\n",
            "[nltk_data]    | Downloading package sentence_polarity to\n",
            "[nltk_data]    |     /root/nltk_data...\n",
            "[nltk_data]    |   Unzipping corpora/sentence_polarity.zip.\n",
            "[nltk_data]    | Downloading package shakespeare to /root/nltk_data...\n",
            "[nltk_data]    |   Unzipping corpora/shakespeare.zip.\n",
            "[nltk_data]    | Downloading package sinica_treebank to\n",
            "[nltk_data]    |     /root/nltk_data...\n",
            "[nltk_data]    |   Unzipping corpora/sinica_treebank.zip.\n",
            "[nltk_data]    | Downloading package smultron to /root/nltk_data...\n",
            "[nltk_data]    |   Unzipping corpora/smultron.zip.\n",
            "[nltk_data]    | Downloading package state_union to /root/nltk_data...\n",
            "[nltk_data]    |   Unzipping corpora/state_union.zip.\n",
            "[nltk_data]    | Downloading package stopwords to /root/nltk_data...\n",
            "[nltk_data]    |   Unzipping corpora/stopwords.zip.\n",
            "[nltk_data]    | Downloading package subjectivity to\n",
            "[nltk_data]    |     /root/nltk_data...\n",
            "[nltk_data]    |   Unzipping corpora/subjectivity.zip.\n",
            "[nltk_data]    | Downloading package swadesh to /root/nltk_data...\n",
            "[nltk_data]    |   Unzipping corpora/swadesh.zip.\n",
            "[nltk_data]    | Downloading package switchboard to /root/nltk_data...\n",
            "[nltk_data]    |   Unzipping corpora/switchboard.zip.\n",
            "[nltk_data]    | Downloading package timit to /root/nltk_data...\n",
            "[nltk_data]    |   Unzipping corpora/timit.zip.\n",
            "[nltk_data]    | Downloading package toolbox to /root/nltk_data...\n",
            "[nltk_data]    |   Unzipping corpora/toolbox.zip.\n",
            "[nltk_data]    | Downloading package treebank to /root/nltk_data...\n",
            "[nltk_data]    |   Unzipping corpora/treebank.zip.\n",
            "[nltk_data]    | Downloading package twitter_samples to\n",
            "[nltk_data]    |     /root/nltk_data...\n",
            "[nltk_data]    |   Unzipping corpora/twitter_samples.zip.\n",
            "[nltk_data]    | Downloading package udhr to /root/nltk_data...\n",
            "[nltk_data]    |   Unzipping corpora/udhr.zip.\n",
            "[nltk_data]    | Downloading package udhr2 to /root/nltk_data...\n",
            "[nltk_data]    |   Unzipping corpora/udhr2.zip.\n",
            "[nltk_data]    | Downloading package unicode_samples to\n",
            "[nltk_data]    |     /root/nltk_data...\n",
            "[nltk_data]    |   Unzipping corpora/unicode_samples.zip.\n",
            "[nltk_data]    | Downloading package universal_treebanks_v20 to\n",
            "[nltk_data]    |     /root/nltk_data...\n",
            "[nltk_data]    | Downloading package verbnet to /root/nltk_data...\n",
            "[nltk_data]    |   Unzipping corpora/verbnet.zip.\n",
            "[nltk_data]    | Downloading package verbnet3 to /root/nltk_data...\n",
            "[nltk_data]    |   Unzipping corpora/verbnet3.zip.\n",
            "[nltk_data]    | Downloading package webtext to /root/nltk_data...\n",
            "[nltk_data]    |   Unzipping corpora/webtext.zip.\n",
            "[nltk_data]    | Downloading package wordnet to /root/nltk_data...\n",
            "[nltk_data]    |   Unzipping corpora/wordnet.zip.\n",
            "[nltk_data]    | Downloading package wordnet31 to /root/nltk_data...\n",
            "[nltk_data]    |   Unzipping corpora/wordnet31.zip.\n",
            "[nltk_data]    | Downloading package wordnet_ic to /root/nltk_data...\n",
            "[nltk_data]    |   Unzipping corpora/wordnet_ic.zip.\n",
            "[nltk_data]    | Downloading package words to /root/nltk_data...\n",
            "[nltk_data]    |   Unzipping corpora/words.zip.\n",
            "[nltk_data]    | Downloading package ycoe to /root/nltk_data...\n",
            "[nltk_data]    |   Unzipping corpora/ycoe.zip.\n",
            "[nltk_data]    | Downloading package rslp to /root/nltk_data...\n",
            "[nltk_data]    |   Unzipping stemmers/rslp.zip.\n",
            "[nltk_data]    | Downloading package maxent_treebank_pos_tagger to\n",
            "[nltk_data]    |     /root/nltk_data...\n",
            "[nltk_data]    |   Unzipping taggers/maxent_treebank_pos_tagger.zip.\n",
            "[nltk_data]    | Downloading package universal_tagset to\n",
            "[nltk_data]    |     /root/nltk_data...\n",
            "[nltk_data]    |   Unzipping taggers/universal_tagset.zip.\n",
            "[nltk_data]    | Downloading package maxent_ne_chunker to\n",
            "[nltk_data]    |     /root/nltk_data...\n",
            "[nltk_data]    |   Unzipping chunkers/maxent_ne_chunker.zip.\n",
            "[nltk_data]    | Downloading package punkt to /root/nltk_data...\n",
            "[nltk_data]    |   Unzipping tokenizers/punkt.zip.\n",
            "[nltk_data]    | Downloading package book_grammars to\n",
            "[nltk_data]    |     /root/nltk_data...\n",
            "[nltk_data]    |   Unzipping grammars/book_grammars.zip.\n",
            "[nltk_data]    | Downloading package sample_grammars to\n",
            "[nltk_data]    |     /root/nltk_data...\n",
            "[nltk_data]    |   Unzipping grammars/sample_grammars.zip.\n",
            "[nltk_data]    | Downloading package spanish_grammars to\n",
            "[nltk_data]    |     /root/nltk_data...\n",
            "[nltk_data]    |   Unzipping grammars/spanish_grammars.zip.\n",
            "[nltk_data]    | Downloading package basque_grammars to\n",
            "[nltk_data]    |     /root/nltk_data...\n",
            "[nltk_data]    |   Unzipping grammars/basque_grammars.zip.\n",
            "[nltk_data]    | Downloading package large_grammars to\n",
            "[nltk_data]    |     /root/nltk_data...\n",
            "[nltk_data]    |   Unzipping grammars/large_grammars.zip.\n",
            "[nltk_data]    | Downloading package tagsets to /root/nltk_data...\n",
            "[nltk_data]    |   Unzipping help/tagsets.zip.\n",
            "[nltk_data]    | Downloading package snowball_data to\n",
            "[nltk_data]    |     /root/nltk_data...\n",
            "[nltk_data]    | Downloading package bllip_wsj_no_aux to\n",
            "[nltk_data]    |     /root/nltk_data...\n",
            "[nltk_data]    |   Unzipping models/bllip_wsj_no_aux.zip.\n",
            "[nltk_data]    | Downloading package word2vec_sample to\n",
            "[nltk_data]    |     /root/nltk_data...\n",
            "[nltk_data]    |   Unzipping models/word2vec_sample.zip.\n",
            "[nltk_data]    | Downloading package panlex_swadesh to\n",
            "[nltk_data]    |     /root/nltk_data...\n",
            "[nltk_data]    | Downloading package mte_teip5 to /root/nltk_data...\n",
            "[nltk_data]    |   Unzipping corpora/mte_teip5.zip.\n",
            "[nltk_data]    | Downloading package averaged_perceptron_tagger to\n",
            "[nltk_data]    |     /root/nltk_data...\n",
            "[nltk_data]    |   Unzipping taggers/averaged_perceptron_tagger.zip.\n",
            "[nltk_data]    | Downloading package averaged_perceptron_tagger_ru to\n",
            "[nltk_data]    |     /root/nltk_data...\n",
            "[nltk_data]    |   Unzipping\n",
            "[nltk_data]    |       taggers/averaged_perceptron_tagger_ru.zip.\n",
            "[nltk_data]    | Downloading package perluniprops to\n",
            "[nltk_data]    |     /root/nltk_data...\n",
            "[nltk_data]    |   Unzipping misc/perluniprops.zip.\n",
            "[nltk_data]    | Downloading package nonbreaking_prefixes to\n",
            "[nltk_data]    |     /root/nltk_data...\n",
            "[nltk_data]    |   Unzipping corpora/nonbreaking_prefixes.zip.\n",
            "[nltk_data]    | Downloading package vader_lexicon to\n",
            "[nltk_data]    |     /root/nltk_data...\n",
            "[nltk_data]    | Downloading package porter_test to /root/nltk_data...\n",
            "[nltk_data]    |   Unzipping stemmers/porter_test.zip.\n",
            "[nltk_data]    | Downloading package wmt15_eval to /root/nltk_data...\n",
            "[nltk_data]    |   Unzipping models/wmt15_eval.zip.\n",
            "[nltk_data]    | Downloading package mwa_ppdb to /root/nltk_data...\n",
            "[nltk_data]    |   Unzipping misc/mwa_ppdb.zip.\n",
            "[nltk_data]    | \n",
            "[nltk_data]  Done downloading collection all\n"
          ]
        },
        {
          "output_type": "execute_result",
          "data": {
            "text/plain": [
              "True"
            ]
          },
          "metadata": {},
          "execution_count": 3
        }
      ]
    },
    {
      "cell_type": "code",
      "metadata": {
        "id": "f0HMbaFUPUwm"
      },
      "source": [
        "from nltk.tokenize import word_tokenize\n",
        "train_text = []\n",
        "test_text = []\n",
        "for text in train_df['document'][:8000]:\n",
        "  train_text.append(word_tokenize(text))\n",
        "for text in test_df['document'][8000:9000]:\n",
        "  test_text.append(word_tokenize(text))\n",
        "train_label = train_df['label'][:8000]\n",
        "test_label = test_df['label'][8000:9000]"
      ],
      "execution_count": 4,
      "outputs": []
    },
    {
      "cell_type": "markdown",
      "metadata": {
        "id": "KAX59UwbQYcZ"
      },
      "source": [
        "# 1. 데이터 정제"
      ]
    },
    {
      "cell_type": "markdown",
      "metadata": {
        "id": "jJLpBwGiWQAz"
      },
      "source": [
        "먼저 단어 단위로 쪼개져있는 문장들을 하나의 문장(문자열)로 되돌린다."
      ]
    },
    {
      "cell_type": "code",
      "metadata": {
        "id": "5pqjG8VkYNky"
      },
      "source": [
        "for i in range(len(train_text)):\n",
        "  train_text[i] = \" \".join(train_text[i])"
      ],
      "execution_count": 5,
      "outputs": []
    },
    {
      "cell_type": "code",
      "metadata": {
        "colab": {
          "base_uri": "https://localhost:8080/"
        },
        "id": "MgNNs0NnYn_4",
        "outputId": "037951a3-e0ab-499b-c807-e79bf7ab576e"
      },
      "source": [
        "train_text[:5]"
      ],
      "execution_count": 6,
      "outputs": [
        {
          "output_type": "execute_result",
          "data": {
            "text/plain": [
              "['아 더빙.. 진짜 짜증나네요 목소리',\n",
              " '흠 ... 포스터보고 초딩영화줄 ... .오버연기조차 가볍지 않구나',\n",
              " '너무재밓었다그래서보는것을추천한다',\n",
              " '교도소 이야기구먼 ..솔직히 재미는 없다..평점 조정',\n",
              " '사이몬페그의 익살스런 연기가 돋보였던 영화 ! 스파이더맨에서 늙어보이기만 했던 커스틴 던스트가 너무나도 이뻐보였다']"
            ]
          },
          "metadata": {},
          "execution_count": 6
        }
      ]
    },
    {
      "cell_type": "markdown",
      "metadata": {
        "id": "m6b1oPJXiYXZ"
      },
      "source": [
        "특수문자나 영문자, 문장 부호 등을 모두 제거한다."
      ]
    },
    {
      "cell_type": "code",
      "metadata": {
        "id": "LCNp-ESGhkLX"
      },
      "source": [
        "import re\n",
        "def clean_text(data):\n",
        "  clean_text = re.sub('([a-zA-Z0-9_.+-]+@[a-zA-Z0-9]+\\.[a-zA-Z0-9.]+)','',data)\n",
        "  clean_text = re.sub('([a-zA-Z0-9_.+-]+\\.[a-zA-Z0-9]+\\.[a-zA-Z0-9.]+)','',clean_text)\n",
        "  clean_text = re.sub('(http|ftp|https)://(?:[-\\w.]|(?:%[\\da-fA-F{2}]))+','',clean_text)\n",
        "  clean_text = re.sub('([ㄱ-ㅎㅏ-ㅣ]+)','',clean_text)\n",
        "  clean_text = re.sub('<[^>]*>...','',clean_text)\n",
        "  clean_text = re.sub('[-=+_,#/\\?..;:^$@*\\\"※~&%ㆍ!』\\\\‘’“”|\\(\\)\\[\\]\\<\\>`\\'》❤♥♡☆★▲◇△▶◆■⊙▦ⓒ●◈·]',' ',clean_text)\n",
        "  clean_text = clean_text.replace(\"\\t\",\" \")\n",
        "  clean_text = clean_text.replace(\"  \",\" \")\n",
        "  clean_text = clean_text.replace(\"   \",\" \")\n",
        "  clean_text = clean_text.replace(\"  \",\" \")\n",
        "\n",
        "  return clean_text"
      ],
      "execution_count": 7,
      "outputs": []
    },
    {
      "cell_type": "code",
      "metadata": {
        "id": "dgOrpqAWhmG5"
      },
      "source": [
        "for i in range(len(train_text)):\n",
        "    train_text[i] = clean_text(train_text[i])"
      ],
      "execution_count": 8,
      "outputs": []
    },
    {
      "cell_type": "code",
      "metadata": {
        "colab": {
          "base_uri": "https://localhost:8080/"
        },
        "id": "iT5kK2Gxikzp",
        "outputId": "ad26dcc2-941e-4034-dae9-290699de16e5"
      },
      "source": [
        "train_text[:20]"
      ],
      "execution_count": 9,
      "outputs": [
        {
          "output_type": "execute_result",
          "data": {
            "text/plain": [
              "['아 더빙 진짜 짜증나네요 목소리',\n",
              " '흠 포스터보고 초딩영화줄 오버연기조차 가볍지 않구나',\n",
              " '너무재밓었다그래서보는것을추천한다',\n",
              " '교도소 이야기구먼 솔직히 재미는 없다 평점 조정',\n",
              " '사이몬페그의 익살스런 연기가 돋보였던 영화 스파이더맨에서 늙어보이기만 했던 커스틴 던스트가 너무나도 이뻐보였다',\n",
              " '막 걸음마 뗀 3세부터 초등학교 1학년생인 8살용영화 별반개도 아까움 ',\n",
              " '원작의 긴장감을 제대로 살려내지못했다 ',\n",
              " '별 반개도 아깝다 욕나온다 이응경 길용우 연기생활이몇년인지 정말 발로해도 그것보단 낫겟다 납치 감금만반복반복 이드라마는 가족도없다 연기못하는사람만모엿네',\n",
              " '액션이 없는데도 재미 있는 몇안되는 영화',\n",
              " '왜케 평점이 낮은건데 꽤 볼만한데 헐리우드식 화려함에만 너무 길들여져 있나 ',\n",
              " '걍인피니트가짱이다 진짜짱이다 ',\n",
              " '볼때마다 눈물나서 죽겠다90년대의 향수자극 허진호는 감성절제멜로의 달인이다 ',\n",
              " '울면서 손들고 횡단보도 건널때 뛰쳐나올뻔 이범수 연기 드럽게못해',\n",
              " '담백하고 깔끔해서 좋다 신문기사로만 보다 보면 자꾸 잊어버린다 그들도 사람이었다는 것을 ',\n",
              " '취향은 존중한다지만 진짜 내생에 극장에서 본 영화중 가장 노잼 노감동임 스토리도 어거지고 감동도 어거지',\n",
              " '냥 매번 긴장되고 재밋음',\n",
              " '참 사람들 웃긴게 바스코가 이기면 락스코라고 까고바비가 이기면 아이돌이라고 깐다 그냥 까고싶어서 안달난것처럼 보인다',\n",
              " '굿바이 레닌 표절인것은 이해하는데 왜 뒤로 갈수록 재미없어지냐',\n",
              " '이건 정말 깨알 캐스팅과 질퍽하지않은 산뜻한 내용구성이 잘 버무러진 깨알일드 ',\n",
              " '약탈자를 위한 변명 이라 저놈들은 착한놈들 절대 아닌걸요 ']"
            ]
          },
          "metadata": {},
          "execution_count": 9
        }
      ]
    },
    {
      "cell_type": "markdown",
      "metadata": {
        "id": "0MCmwDBwrH2W"
      },
      "source": [
        "텍스트와 라벨을 합쳐 하나의 데이터프레임으로 만든다.\n"
      ]
    },
    {
      "cell_type": "code",
      "metadata": {
        "colab": {
          "base_uri": "https://localhost:8080/"
        },
        "id": "rCg35W70JJBZ",
        "outputId": "3638babf-2a85-45fa-a355-e947d336672b"
      },
      "source": [
        "type(train_text)"
      ],
      "execution_count": 10,
      "outputs": [
        {
          "output_type": "execute_result",
          "data": {
            "text/plain": [
              "list"
            ]
          },
          "metadata": {},
          "execution_count": 10
        }
      ]
    },
    {
      "cell_type": "code",
      "metadata": {
        "id": "ZmbL5ldDJN16"
      },
      "source": [
        "train_label = list(train_label)"
      ],
      "execution_count": 11,
      "outputs": []
    },
    {
      "cell_type": "code",
      "metadata": {
        "id": "oU78_H1tKqQI"
      },
      "source": [
        "train_data = pd.DataFrame({\"document\":train_text, \"label\":train_label})"
      ],
      "execution_count": 12,
      "outputs": []
    },
    {
      "cell_type": "code",
      "metadata": {
        "colab": {
          "base_uri": "https://localhost:8080/",
          "height": 204
        },
        "id": "9n1vFu3WK5Us",
        "outputId": "08a78fc1-79a1-488d-e500-fee7c3ea07f4"
      },
      "source": [
        "train_data.head()"
      ],
      "execution_count": 14,
      "outputs": [
        {
          "output_type": "execute_result",
          "data": {
            "text/html": [
              "<div>\n",
              "<style scoped>\n",
              "    .dataframe tbody tr th:only-of-type {\n",
              "        vertical-align: middle;\n",
              "    }\n",
              "\n",
              "    .dataframe tbody tr th {\n",
              "        vertical-align: top;\n",
              "    }\n",
              "\n",
              "    .dataframe thead th {\n",
              "        text-align: right;\n",
              "    }\n",
              "</style>\n",
              "<table border=\"1\" class=\"dataframe\">\n",
              "  <thead>\n",
              "    <tr style=\"text-align: right;\">\n",
              "      <th></th>\n",
              "      <th>document</th>\n",
              "      <th>label</th>\n",
              "    </tr>\n",
              "  </thead>\n",
              "  <tbody>\n",
              "    <tr>\n",
              "      <th>0</th>\n",
              "      <td>아 더빙 진짜 짜증나네요 목소리</td>\n",
              "      <td>0</td>\n",
              "    </tr>\n",
              "    <tr>\n",
              "      <th>1</th>\n",
              "      <td>흠 포스터보고 초딩영화줄 오버연기조차 가볍지 않구나</td>\n",
              "      <td>1</td>\n",
              "    </tr>\n",
              "    <tr>\n",
              "      <th>2</th>\n",
              "      <td>너무재밓었다그래서보는것을추천한다</td>\n",
              "      <td>0</td>\n",
              "    </tr>\n",
              "    <tr>\n",
              "      <th>3</th>\n",
              "      <td>교도소 이야기구먼 솔직히 재미는 없다 평점 조정</td>\n",
              "      <td>0</td>\n",
              "    </tr>\n",
              "    <tr>\n",
              "      <th>4</th>\n",
              "      <td>사이몬페그의 익살스런 연기가 돋보였던 영화 스파이더맨에서 늙어보이기만 했던 커스틴 ...</td>\n",
              "      <td>1</td>\n",
              "    </tr>\n",
              "  </tbody>\n",
              "</table>\n",
              "</div>"
            ],
            "text/plain": [
              "                                            document  label\n",
              "0                                  아 더빙 진짜 짜증나네요 목소리      0\n",
              "1                       흠 포스터보고 초딩영화줄 오버연기조차 가볍지 않구나      1\n",
              "2                                  너무재밓었다그래서보는것을추천한다      0\n",
              "3                         교도소 이야기구먼 솔직히 재미는 없다 평점 조정      0\n",
              "4  사이몬페그의 익살스런 연기가 돋보였던 영화 스파이더맨에서 늙어보이기만 했던 커스틴 ...      1"
            ]
          },
          "metadata": {},
          "execution_count": 14
        }
      ]
    },
    {
      "cell_type": "markdown",
      "metadata": {
        "id": "KhDijyIQiqbx"
      },
      "source": [
        "전처리로 인해 제거되어 버린 리뷰들을 제거한다."
      ]
    },
    {
      "cell_type": "markdown",
      "metadata": {
        "id": "LD_B3YDBlz6k"
      },
      "source": [
        "공백을 빈 값으로 설정한다."
      ]
    },
    {
      "cell_type": "code",
      "metadata": {
        "id": "TBQcLzUTlwqX"
      },
      "source": [
        "train_data[\"document\"] = train_data[\"document\"].replace('^ +', \"\")"
      ],
      "execution_count": 15,
      "outputs": []
    },
    {
      "cell_type": "markdown",
      "metadata": {
        "id": "NT_EYatGmPoN"
      },
      "source": [
        "공백은 null 값으로 변경한다."
      ]
    },
    {
      "cell_type": "code",
      "metadata": {
        "id": "DBy0R-EQmO_2"
      },
      "source": [
        "import numpy as np\n",
        "train_data[\"document\"].replace('', np.nan, inplace=True)"
      ],
      "execution_count": 16,
      "outputs": []
    },
    {
      "cell_type": "markdown",
      "metadata": {
        "id": "t2rsFp1Xkx_P"
      },
      "source": [
        "정제 후 null 값이 있는지 확인한다."
      ]
    },
    {
      "cell_type": "code",
      "metadata": {
        "colab": {
          "base_uri": "https://localhost:8080/"
        },
        "id": "bR0iWxzIiGNx",
        "outputId": "ddee471d-3bf9-4f32-bcfb-57b72fe22c20"
      },
      "source": [
        "train_data.isnull().sum()"
      ],
      "execution_count": 17,
      "outputs": [
        {
          "output_type": "execute_result",
          "data": {
            "text/plain": [
              "document    16\n",
              "label        0\n",
              "dtype: int64"
            ]
          },
          "metadata": {},
          "execution_count": 17
        }
      ]
    },
    {
      "cell_type": "markdown",
      "metadata": {
        "id": "PAEiXhVtnDh3"
      },
      "source": [
        " null 값을 가진 행을 제거한다."
      ]
    },
    {
      "cell_type": "code",
      "metadata": {
        "id": "DyaCDz47m8nI"
      },
      "source": [
        "train_data = train_data.dropna(how='any')"
      ],
      "execution_count": 18,
      "outputs": []
    },
    {
      "cell_type": "code",
      "metadata": {
        "colab": {
          "base_uri": "https://localhost:8080/"
        },
        "id": "v31Gv_gROkjl",
        "outputId": "1f104685-9c8d-4700-a28f-025c7a1655a7"
      },
      "source": [
        "len(train_data)"
      ],
      "execution_count": 19,
      "outputs": [
        {
          "output_type": "execute_result",
          "data": {
            "text/plain": [
              "7984"
            ]
          },
          "metadata": {},
          "execution_count": 19
        }
      ]
    },
    {
      "cell_type": "code",
      "metadata": {
        "colab": {
          "base_uri": "https://localhost:8080/",
          "height": 204
        },
        "id": "COUFYC8iPQbC",
        "outputId": "90db8b01-08a1-45f6-ac3e-99c202afeac7"
      },
      "source": [
        "train_data.head()"
      ],
      "execution_count": 20,
      "outputs": [
        {
          "output_type": "execute_result",
          "data": {
            "text/html": [
              "<div>\n",
              "<style scoped>\n",
              "    .dataframe tbody tr th:only-of-type {\n",
              "        vertical-align: middle;\n",
              "    }\n",
              "\n",
              "    .dataframe tbody tr th {\n",
              "        vertical-align: top;\n",
              "    }\n",
              "\n",
              "    .dataframe thead th {\n",
              "        text-align: right;\n",
              "    }\n",
              "</style>\n",
              "<table border=\"1\" class=\"dataframe\">\n",
              "  <thead>\n",
              "    <tr style=\"text-align: right;\">\n",
              "      <th></th>\n",
              "      <th>document</th>\n",
              "      <th>label</th>\n",
              "    </tr>\n",
              "  </thead>\n",
              "  <tbody>\n",
              "    <tr>\n",
              "      <th>0</th>\n",
              "      <td>아 더빙 진짜 짜증나네요 목소리</td>\n",
              "      <td>0</td>\n",
              "    </tr>\n",
              "    <tr>\n",
              "      <th>1</th>\n",
              "      <td>흠 포스터보고 초딩영화줄 오버연기조차 가볍지 않구나</td>\n",
              "      <td>1</td>\n",
              "    </tr>\n",
              "    <tr>\n",
              "      <th>2</th>\n",
              "      <td>너무재밓었다그래서보는것을추천한다</td>\n",
              "      <td>0</td>\n",
              "    </tr>\n",
              "    <tr>\n",
              "      <th>3</th>\n",
              "      <td>교도소 이야기구먼 솔직히 재미는 없다 평점 조정</td>\n",
              "      <td>0</td>\n",
              "    </tr>\n",
              "    <tr>\n",
              "      <th>4</th>\n",
              "      <td>사이몬페그의 익살스런 연기가 돋보였던 영화 스파이더맨에서 늙어보이기만 했던 커스틴 ...</td>\n",
              "      <td>1</td>\n",
              "    </tr>\n",
              "  </tbody>\n",
              "</table>\n",
              "</div>"
            ],
            "text/plain": [
              "                                            document  label\n",
              "0                                  아 더빙 진짜 짜증나네요 목소리      0\n",
              "1                       흠 포스터보고 초딩영화줄 오버연기조차 가볍지 않구나      1\n",
              "2                                  너무재밓었다그래서보는것을추천한다      0\n",
              "3                         교도소 이야기구먼 솔직히 재미는 없다 평점 조정      0\n",
              "4  사이몬페그의 익살스런 연기가 돋보였던 영화 스파이더맨에서 늙어보이기만 했던 커스틴 ...      1"
            ]
          },
          "metadata": {},
          "execution_count": 20
        }
      ]
    },
    {
      "cell_type": "markdown",
      "metadata": {
        "id": "V4CZFqGilBMf"
      },
      "source": [
        "test 데이터에도 train 데이터 전처리 과정을 똑같이 수행해준다."
      ]
    },
    {
      "cell_type": "code",
      "metadata": {
        "colab": {
          "base_uri": "https://localhost:8080/"
        },
        "id": "Q0Ib9c2Kk5t1",
        "outputId": "48ec13e8-68e0-4f74-8e78-d47ca9080358"
      },
      "source": [
        "for i in range(len(test_text)):\n",
        "  test_text[i] = \" \".join(test_text[i])\n",
        "\n",
        "for i in range(len(test_text)):\n",
        "    test_text[i] = clean_text(test_text[i])\n",
        "\n",
        "test_label = list(test_label)\n",
        "test_data = pd.DataFrame({\"document\":test_text, \"label\":test_label})\n",
        "test_data[\"document\"] = test_data[\"document\"].replace('^ +', \"\")\n",
        "import numpy as np\n",
        "test_data[\"document\"].replace('', np.nan, inplace=True)\n",
        "test_data = test_data.dropna(how='any')\n",
        "len(test_data)"
      ],
      "execution_count": 21,
      "outputs": [
        {
          "output_type": "execute_result",
          "data": {
            "text/plain": [
              "994"
            ]
          },
          "metadata": {},
          "execution_count": 21
        }
      ]
    },
    {
      "cell_type": "code",
      "metadata": {
        "colab": {
          "base_uri": "https://localhost:8080/",
          "height": 204
        },
        "id": "a6Dj3rthgpWu",
        "outputId": "c4ba9858-4451-4a27-ad2f-96756726d288"
      },
      "source": [
        "test_data.head()"
      ],
      "execution_count": 22,
      "outputs": [
        {
          "output_type": "execute_result",
          "data": {
            "text/html": [
              "<div>\n",
              "<style scoped>\n",
              "    .dataframe tbody tr th:only-of-type {\n",
              "        vertical-align: middle;\n",
              "    }\n",
              "\n",
              "    .dataframe tbody tr th {\n",
              "        vertical-align: top;\n",
              "    }\n",
              "\n",
              "    .dataframe thead th {\n",
              "        text-align: right;\n",
              "    }\n",
              "</style>\n",
              "<table border=\"1\" class=\"dataframe\">\n",
              "  <thead>\n",
              "    <tr style=\"text-align: right;\">\n",
              "      <th></th>\n",
              "      <th>document</th>\n",
              "      <th>label</th>\n",
              "    </tr>\n",
              "  </thead>\n",
              "  <tbody>\n",
              "    <tr>\n",
              "      <th>0</th>\n",
              "      <td>팔황자 때문에 병남</td>\n",
              "      <td>1</td>\n",
              "    </tr>\n",
              "    <tr>\n",
              "      <th>1</th>\n",
              "      <td>옛날에 봤는데도 아직도 잊혀지지 않을만큼 강렬했던 한국 애니메이션이였다</td>\n",
              "      <td>1</td>\n",
              "    </tr>\n",
              "    <tr>\n",
              "      <th>2</th>\n",
              "      <td>꽝 10자이상 등록해 한다니 할수없이 쓴다 정말 꽝이다</td>\n",
              "      <td>0</td>\n",
              "    </tr>\n",
              "    <tr>\n",
              "      <th>3</th>\n",
              "      <td>수많은 영화 장면의 패러디만 있을 뿐 내용 면에선 너무 유치하다</td>\n",
              "      <td>0</td>\n",
              "    </tr>\n",
              "    <tr>\n",
              "      <th>4</th>\n",
              "      <td>1999년작 블레어윗치랑 같은 내용 오히려 긴장감은 더 떨어짐 볼만 했던 것은 붐마...</td>\n",
              "      <td>0</td>\n",
              "    </tr>\n",
              "  </tbody>\n",
              "</table>\n",
              "</div>"
            ],
            "text/plain": [
              "                                            document  label\n",
              "0                                        팔황자 때문에 병남       1\n",
              "1           옛날에 봤는데도 아직도 잊혀지지 않을만큼 강렬했던 한국 애니메이션이였다       1\n",
              "2                     꽝 10자이상 등록해 한다니 할수없이 쓴다 정말 꽝이다      0\n",
              "3                수많은 영화 장면의 패러디만 있을 뿐 내용 면에선 너무 유치하다      0\n",
              "4  1999년작 블레어윗치랑 같은 내용 오히려 긴장감은 더 떨어짐 볼만 했던 것은 붐마...      0"
            ]
          },
          "metadata": {},
          "execution_count": 22
        }
      ]
    },
    {
      "cell_type": "markdown",
      "metadata": {
        "id": "ISqbABQMQiOK"
      },
      "source": [
        "# 2. 토큰화"
      ]
    },
    {
      "cell_type": "code",
      "metadata": {
        "colab": {
          "base_uri": "https://localhost:8080/"
        },
        "id": "eHbEfIpvQRUx",
        "outputId": "17e157e9-bd32-4a5e-a6bb-7dde71c38096"
      },
      "source": [
        "! pip install konlpy"
      ],
      "execution_count": 23,
      "outputs": [
        {
          "output_type": "stream",
          "name": "stdout",
          "text": [
            "Collecting konlpy\n",
            "  Downloading konlpy-0.5.2-py2.py3-none-any.whl (19.4 MB)\n",
            "\u001b[K     |████████████████████████████████| 19.4 MB 131 kB/s \n",
            "\u001b[?25hRequirement already satisfied: lxml>=4.1.0 in /usr/local/lib/python3.7/dist-packages (from konlpy) (4.2.6)\n",
            "Collecting colorama\n",
            "  Downloading colorama-0.4.4-py2.py3-none-any.whl (16 kB)\n",
            "Requirement already satisfied: numpy>=1.6 in /usr/local/lib/python3.7/dist-packages (from konlpy) (1.19.5)\n",
            "Requirement already satisfied: tweepy>=3.7.0 in /usr/local/lib/python3.7/dist-packages (from konlpy) (3.10.0)\n",
            "Collecting JPype1>=0.7.0\n",
            "  Downloading JPype1-1.3.0-cp37-cp37m-manylinux_2_5_x86_64.manylinux1_x86_64.whl (448 kB)\n",
            "\u001b[K     |████████████████████████████████| 448 kB 41.9 MB/s \n",
            "\u001b[?25hCollecting beautifulsoup4==4.6.0\n",
            "  Downloading beautifulsoup4-4.6.0-py3-none-any.whl (86 kB)\n",
            "\u001b[K     |████████████████████████████████| 86 kB 5.0 MB/s \n",
            "\u001b[?25hRequirement already satisfied: typing-extensions in /usr/local/lib/python3.7/dist-packages (from JPype1>=0.7.0->konlpy) (3.7.4.3)\n",
            "Requirement already satisfied: requests-oauthlib>=0.7.0 in /usr/local/lib/python3.7/dist-packages (from tweepy>=3.7.0->konlpy) (1.3.0)\n",
            "Requirement already satisfied: requests[socks]>=2.11.1 in /usr/local/lib/python3.7/dist-packages (from tweepy>=3.7.0->konlpy) (2.23.0)\n",
            "Requirement already satisfied: six>=1.10.0 in /usr/local/lib/python3.7/dist-packages (from tweepy>=3.7.0->konlpy) (1.15.0)\n",
            "Requirement already satisfied: oauthlib>=3.0.0 in /usr/local/lib/python3.7/dist-packages (from requests-oauthlib>=0.7.0->tweepy>=3.7.0->konlpy) (3.1.1)\n",
            "Requirement already satisfied: chardet<4,>=3.0.2 in /usr/local/lib/python3.7/dist-packages (from requests[socks]>=2.11.1->tweepy>=3.7.0->konlpy) (3.0.4)\n",
            "Requirement already satisfied: urllib3!=1.25.0,!=1.25.1,<1.26,>=1.21.1 in /usr/local/lib/python3.7/dist-packages (from requests[socks]>=2.11.1->tweepy>=3.7.0->konlpy) (1.24.3)\n",
            "Requirement already satisfied: idna<3,>=2.5 in /usr/local/lib/python3.7/dist-packages (from requests[socks]>=2.11.1->tweepy>=3.7.0->konlpy) (2.10)\n",
            "Requirement already satisfied: certifi>=2017.4.17 in /usr/local/lib/python3.7/dist-packages (from requests[socks]>=2.11.1->tweepy>=3.7.0->konlpy) (2021.5.30)\n",
            "Requirement already satisfied: PySocks!=1.5.7,>=1.5.6 in /usr/local/lib/python3.7/dist-packages (from requests[socks]>=2.11.1->tweepy>=3.7.0->konlpy) (1.7.1)\n",
            "Installing collected packages: JPype1, colorama, beautifulsoup4, konlpy\n",
            "  Attempting uninstall: beautifulsoup4\n",
            "    Found existing installation: beautifulsoup4 4.6.3\n",
            "    Uninstalling beautifulsoup4-4.6.3:\n",
            "      Successfully uninstalled beautifulsoup4-4.6.3\n",
            "Successfully installed JPype1-1.3.0 beautifulsoup4-4.6.0 colorama-0.4.4 konlpy-0.5.2\n"
          ]
        }
      ]
    },
    {
      "cell_type": "markdown",
      "metadata": {
        "id": "Y_HE2jCxSy3N"
      },
      "source": [
        "한국어 불용어 사전을 참고하여 불용어를 정의해준다.\n",
        " https://www.ranks.nl/stopwords/korean "
      ]
    },
    {
      "cell_type": "code",
      "metadata": {
        "id": "3Y1MqnQbSM4I"
      },
      "source": [
        "stopwords = ['의','가','이','은','들','는','좀','잘','걍','과','도','를','으로','자','에','와','한','하다'] "
      ],
      "execution_count": 24,
      "outputs": []
    },
    {
      "cell_type": "code",
      "metadata": {
        "id": "GT9Tl80iQ1_X"
      },
      "source": [
        "s = \"\"\"아\n",
        "휴\n",
        "아이구\n",
        "아이쿠\n",
        "아이고\n",
        "어\n",
        "나\n",
        "우리\n",
        "저희\n",
        "따라\n",
        "의해\n",
        "을\n",
        "를\n",
        "에\n",
        "의\n",
        "가\n",
        "으로\n",
        "로\n",
        "에게\n",
        "뿐이다\n",
        "의거하여\n",
        "근거하여\n",
        "입각하여\n",
        "기준으로\n",
        "예하면\n",
        "예를 들면\n",
        "예를 들자면\n",
        "저\n",
        "소인\n",
        "소생\n",
        "저희\n",
        "지말고\n",
        "하지마\n",
        "하지마라\n",
        "다른\n",
        "물론\n",
        "또한\n",
        "그리고\n",
        "비길수 없다\n",
        "해서는 안된다\n",
        "뿐만 아니라\n",
        "만이 아니다\n",
        "만은 아니다\n",
        "막론하고\n",
        "관계없이\n",
        "그치지 않다\n",
        "그러나\n",
        "그런데\n",
        "하지만\n",
        "든간에\n",
        "논하지 않다\n",
        "따지지 않다\n",
        "설사\n",
        "비록\n",
        "더라도\n",
        "아니면\n",
        "만 못하다\n",
        "하는 편이 낫다\n",
        "불문하고\n",
        "향하여\n",
        "향해서\n",
        "향하다\n",
        "쪽으로\n",
        "틈타\n",
        "이용하여\n",
        "타다\n",
        "오르다\n",
        "제외하고\n",
        "이 외에\n",
        "이 밖에\n",
        "하여야\n",
        "비로소\n",
        "한다면 몰라도\n",
        "외에도\n",
        "이곳\n",
        "여기\n",
        "부터\n",
        "기점으로\n",
        "따라서\n",
        "할 생각이다\n",
        "하려고하다\n",
        "이리하여\n",
        "그리하여\n",
        "그렇게 함으로써\n",
        "하지만\n",
        "일때\n",
        "할때\n",
        "앞에서\n",
        "중에서\n",
        "보는데서\n",
        "으로써\n",
        "로써\n",
        "까지\n",
        "해야한다\n",
        "일것이다\n",
        "반드시\n",
        "할줄알다\n",
        "할수있다\n",
        "할수있어\n",
        "임에 틀림없다\n",
        "한다면\n",
        "등\n",
        "등등\n",
        "제\n",
        "겨우\n",
        "단지\n",
        "다만\n",
        "할뿐\n",
        "딩동\n",
        "댕그\n",
        "대해서\n",
        "대하여\n",
        "대하면\n",
        "훨씬\n",
        "얼마나\n",
        "얼마만큼\n",
        "얼마큼\n",
        "남짓\n",
        "여\n",
        "얼마간\n",
        "약간\n",
        "다소\n",
        "좀\n",
        "조금\n",
        "다수\n",
        "몇\n",
        "얼마\n",
        "지만\n",
        "하물며\n",
        "또한\n",
        "그러나\n",
        "그렇지만\n",
        "하지만\n",
        "이외에도\n",
        "대해 말하자면\n",
        "뿐이다\n",
        "다음에\n",
        "반대로\n",
        "반대로 말하자면\n",
        "이와 반대로\n",
        "바꾸어서 말하면\n",
        "바꾸어서 한다면\n",
        "만약\n",
        "그렇지않으면\n",
        "까악\n",
        "툭\n",
        "딱\n",
        "삐걱거리다\n",
        "보드득\n",
        "비걱거리다\n",
        "꽈당\n",
        "응당\n",
        "해야한다\n",
        "에 가서\n",
        "각\n",
        "각각\n",
        "여러분\n",
        "각종\n",
        "각자\n",
        "제각기\n",
        "하도록하다\n",
        "와\n",
        "과\n",
        "그러므로\n",
        "그래서\n",
        "고로\n",
        "한 까닭에\n",
        "하기 때문에\n",
        "거니와\n",
        "이지만\n",
        "대하여\n",
        "관하여\n",
        "관한\n",
        "과연\n",
        "실로\n",
        "아니나다를가\n",
        "생각한대로\n",
        "진짜로\n",
        "한적이있다\n",
        "하곤하였다\n",
        "하\n",
        "하하\n",
        "허허\n",
        "아하\n",
        "거바\n",
        "와\n",
        "오\n",
        "왜\n",
        "어째서\n",
        "무엇때문에\n",
        "어찌\n",
        "하겠는가\n",
        "무슨\n",
        "어디\n",
        "어느곳\n",
        "더군다나\n",
        "하물며\n",
        "더욱이는\n",
        "어느때\n",
        "언제\n",
        "야\n",
        "이봐\n",
        "어이\n",
        "여보시오\n",
        "흐흐\n",
        "흥\n",
        "휴\n",
        "헉헉\n",
        "헐떡헐떡\n",
        "영차\n",
        "여차\n",
        "어기여차\n",
        "끙끙\n",
        "아야\n",
        "앗\n",
        "아야\n",
        "콸콸\n",
        "졸졸\n",
        "좍좍\n",
        "뚝뚝\n",
        "주룩주룩\n",
        "솨\n",
        "우르르\n",
        "그래도\n",
        "또\n",
        "그리고\n",
        "바꾸어말하면\n",
        "바꾸어말하자면\n",
        "혹은\n",
        "혹시\n",
        "답다\n",
        "및\n",
        "그에 따르는\n",
        "때가 되어\n",
        "즉\n",
        "지든지\n",
        "설령\n",
        "가령\n",
        "하더라도\n",
        "할지라도\n",
        "일지라도\n",
        "지든지\n",
        "몇\n",
        "거의\n",
        "하마터면\n",
        "인젠\n",
        "이젠\n",
        "된바에야\n",
        "된이상\n",
        "만큼\t어찌됏든\n",
        "그위에\n",
        "게다가\n",
        "점에서 보아\n",
        "비추어 보아\n",
        "고려하면\n",
        "하게될것이다\n",
        "일것이다\n",
        "비교적\n",
        "좀\n",
        "보다더\n",
        "비하면\n",
        "시키다\n",
        "하게하다\n",
        "할만하다\n",
        "의해서\n",
        "연이서\n",
        "이어서\n",
        "잇따라\n",
        "뒤따라\n",
        "뒤이어\n",
        "결국\n",
        "의지하여\n",
        "기대여\n",
        "통하여\n",
        "자마자\n",
        "더욱더\n",
        "불구하고\n",
        "얼마든지\n",
        "마음대로\n",
        "주저하지 않고\n",
        "곧\n",
        "즉시\n",
        "바로\n",
        "당장\n",
        "하자마자\n",
        "밖에 안된다\n",
        "하면된다\n",
        "그래\n",
        "그렇지\n",
        "요컨대\n",
        "다시 말하자면\n",
        "바꿔 말하면\n",
        "즉\n",
        "구체적으로\n",
        "말하자면\n",
        "시작하여\n",
        "시초에\n",
        "이상\n",
        "허\n",
        "헉\n",
        "허걱\n",
        "바와같이\n",
        "해도좋다\n",
        "해도된다\n",
        "게다가\n",
        "더구나\n",
        "하물며\n",
        "와르르\n",
        "팍\n",
        "퍽\n",
        "펄렁\n",
        "동안\n",
        "이래\n",
        "하고있었다\n",
        "이었다\n",
        "에서\n",
        "로부터\n",
        "까지\n",
        "예하면\n",
        "했어요\n",
        "해요\n",
        "함께\n",
        "같이\n",
        "더불어\n",
        "마저\n",
        "마저도\n",
        "양자\n",
        "모두\n",
        "습니다\n",
        "가까스로\n",
        "하려고하다\n",
        "즈음하여\n",
        "다른\n",
        "다른 방면으로\n",
        "해봐요\n",
        "습니까\n",
        "했어요\n",
        "말할것도 없고\n",
        "무릎쓰고\n",
        "개의치않고\n",
        "하는것만 못하다\n",
        "하는것이 낫다\n",
        "매\n",
        "매번\n",
        "들\n",
        "모\n",
        "어느것\n",
        "어느\n",
        "로써\n",
        "갖고말하자면\n",
        "어디\n",
        "어느쪽\n",
        "어느것\n",
        "어느해\n",
        "어느 년도\n",
        "라 해도\n",
        "언젠가\n",
        "어떤것\n",
        "어느것\n",
        "저기\n",
        "저쪽\n",
        "저것\n",
        "그때\n",
        "그럼\n",
        "그러면\n",
        "요만한걸\n",
        "그래\n",
        "그때\n",
        "저것만큼\n",
        "그저\n",
        "이르기까지\n",
        "할 줄 안다\n",
        "할 힘이 있다\n",
        "너\n",
        "너희\n",
        "당신\n",
        "어찌\n",
        "설마\n",
        "차라리\n",
        "할지언정\n",
        "할지라도\n",
        "할망정\n",
        "할지언정\n",
        "구토하다\n",
        "게우다\n",
        "토하다\n",
        "메쓰겁다\n",
        "옆사람\n",
        "퉤\n",
        "쳇\n",
        "의거하여\n",
        "근거하여\n",
        "의해\n",
        "따라\n",
        "힘입어\n",
        "그\n",
        "다음\n",
        "버금\n",
        "두번째로\n",
        "기타\n",
        "첫번째로\n",
        "나머지는\n",
        "그중에서\n",
        "견지에서\n",
        "형식으로 쓰여\n",
        "입장에서\n",
        "위해서\n",
        "단지\n",
        "의해되다\n",
        "하도록시키다\n",
        "뿐만아니라\n",
        "반대로\n",
        "전후\n",
        "전자\n",
        "앞의것\n",
        "잠시\n",
        "잠깐\n",
        "하면서\n",
        "그렇지만\n",
        "다음에\n",
        "그러한즉\n",
        "그런즉\n",
        "남들\n",
        "아무거나\n",
        "어찌하든지\n",
        "같다\n",
        "비슷하다\n",
        "예컨대\n",
        "이럴정도로\n",
        "어떻게\n",
        "만약\n",
        "만일\n",
        "위에서 서술한바와같이\n",
        "인 듯하다\n",
        "하지 않는다면\n",
        "만약에\n",
        "무엇\n",
        "무슨\n",
        "어느\n",
        "어떤\n",
        "아래윗\n",
        "조차\n",
        "한데\n",
        "그럼에도 불구하고\n",
        "여전히\n",
        "심지어\n",
        "까지도\n",
        "조차도\n",
        "하지 않도록\n",
        "않기 위하여\n",
        "때\n",
        "시각\n",
        "무렵\n",
        "시간\n",
        "동안\n",
        "어때\n",
        "어떠한\n",
        "하여금\n",
        "네\n",
        "예\n",
        "우선\n",
        "누구\n",
        "누가 알겠는가\n",
        "아무도\n",
        "줄은모른다\n",
        "줄은 몰랏다\n",
        "하는 김에\n",
        "겸사겸사\n",
        "하는바\n",
        "그런 까닭에\n",
        "한 이유는\n",
        "그러니\n",
        "그러니까\n",
        "때문에\n",
        "그\n",
        "너희\n",
        "그들\n",
        "너희들\n",
        "타인\n",
        "것\n",
        "것들\n",
        "너\n",
        "위하여\n",
        "공동으로\n",
        "동시에\n",
        "하기 위하여\n",
        "어찌하여\n",
        "무엇때문에\n",
        "붕붕\n",
        "윙윙\n",
        "나\n",
        "우리\n",
        "엉엉\n",
        "휘익\n",
        "윙윙\n",
        "오호\n",
        "아하\n",
        "어쨋든\n",
        "만 못하다\t하기보다는\n",
        "차라리\n",
        "하는 편이 낫다\n",
        "흐흐\n",
        "놀라다\n",
        "상대적으로 말하자면\n",
        "마치\n",
        "아니라면\n",
        "쉿\n",
        "그렇지 않으면\n",
        "그렇지 않다면\n",
        "안 그러면\n",
        "아니었다면\n",
        "하든지\n",
        "아니면\n",
        "이라면\n",
        "좋아\n",
        "알았어\n",
        "하는것도\n",
        "그만이다\n",
        "어쩔수 없다\n",
        "하나\n",
        "일\n",
        "일반적으로\n",
        "일단\n",
        "한켠으로는\n",
        "오자마자\n",
        "이렇게되면\n",
        "이와같다면\n",
        "전부\n",
        "한마디\n",
        "한항목\n",
        "근거로\n",
        "하기에\n",
        "아울러\n",
        "하지 않도록\n",
        "않기 위해서\n",
        "이르기까지\n",
        "이 되다\n",
        "로 인하여\n",
        "까닭으로\n",
        "이유만으로\n",
        "이로 인하여\n",
        "그래서\n",
        "이 때문에\n",
        "그러므로\n",
        "그런 까닭에\n",
        "알 수 있다\n",
        "결론을 낼 수 있다\n",
        "으로 인하여\n",
        "있다\n",
        "어떤것\n",
        "관계가 있다\n",
        "관련이 있다\n",
        "연관되다\n",
        "어떤것들\n",
        "에 대해\n",
        "이리하여\n",
        "그리하여\n",
        "여부\n",
        "하기보다는\n",
        "하느니\n",
        "하면 할수록\n",
        "운운\n",
        "이러이러하다\n",
        "하구나\n",
        "하도다\n",
        "다시말하면\n",
        "다음으로\n",
        "에 있다\n",
        "에 달려 있다\n",
        "우리\n",
        "우리들\n",
        "오히려\n",
        "하기는한데\n",
        "어떻게\n",
        "어떻해\n",
        "어찌됏어\n",
        "어때\n",
        "어째서\n",
        "본대로\n",
        "자\n",
        "이\n",
        "이쪽\n",
        "여기\n",
        "이것\n",
        "이번\n",
        "이렇게말하자면\n",
        "이런\n",
        "이러한\n",
        "이와 같은\n",
        "요만큼\n",
        "요만한 것\n",
        "얼마 안 되는 것\n",
        "이만큼\n",
        "이 정도의\n",
        "이렇게 많은 것\n",
        "이와 같다\n",
        "이때\n",
        "이렇구나\n",
        "것과 같이\n",
        "끼익\n",
        "삐걱\n",
        "따위\n",
        "와 같은 사람들\n",
        "부류의 사람들\n",
        "왜냐하면\n",
        "중의하나\n",
        "오직\n",
        "오로지\n",
        "에 한하다\n",
        "하기만 하면\n",
        "도착하다\n",
        "까지 미치다\n",
        "도달하다\n",
        "정도에 이르다\n",
        "할 지경이다\n",
        "결과에 이르다\n",
        "관해서는\n",
        "여러분\n",
        "하고 있다\n",
        "한 후\n",
        "혼자\n",
        "자기\n",
        "자기집\n",
        "자신\n",
        "우에 종합한것과같이\n",
        "총적으로 보면\n",
        "총적으로 말하면\n",
        "총적으로\n",
        "대로 하다\n",
        "으로서\n",
        "참\n",
        "그만이다\n",
        "할 따름이다\n",
        "쿵\n",
        "탕탕\n",
        "쾅쾅\n",
        "둥둥\n",
        "봐\n",
        "봐라\n",
        "아이야\n",
        "아니\n",
        "와아\n",
        "응\n",
        "아이\n",
        "참나\n",
        "년\n",
        "월\n",
        "일\n",
        "령\n",
        "영\n",
        "일\n",
        "이\n",
        "삼\n",
        "사\n",
        "오\n",
        "육\n",
        "륙\n",
        "칠\n",
        "팔\n",
        "구\n",
        "이천육\n",
        "이천칠\n",
        "이천팔\n",
        "이천구\n",
        "하나\n",
        "둘\n",
        "셋\n",
        "넷\n",
        "다섯\n",
        "여섯\n",
        "일곱\n",
        "여덟\n",
        "아홉\n",
        "령\n",
        "영\"\"\""
      ],
      "execution_count": 25,
      "outputs": []
    },
    {
      "cell_type": "code",
      "metadata": {
        "id": "J4KCORwESO6m"
      },
      "source": [
        "s = s.split(\"\\n\")"
      ],
      "execution_count": 26,
      "outputs": []
    },
    {
      "cell_type": "code",
      "metadata": {
        "id": "V_EHt9dvSqW_"
      },
      "source": [
        "stopwords = stopwords+s"
      ],
      "execution_count": 27,
      "outputs": []
    },
    {
      "cell_type": "code",
      "metadata": {
        "id": "HjD0fUo9jFnz"
      },
      "source": [
        "stopwords = set(stopwords) # 중복값 제거\n",
        "stopwords = list(stopwords)"
      ],
      "execution_count": 28,
      "outputs": []
    },
    {
      "cell_type": "code",
      "metadata": {
        "colab": {
          "base_uri": "https://localhost:8080/"
        },
        "id": "vBEvQQ4QSTAx",
        "outputId": "c7ceb086-3bfb-4571-ae05-fc0de11a0d53"
      },
      "source": [
        "stopwords[:5]"
      ],
      "execution_count": 29,
      "outputs": [
        {
          "output_type": "execute_result",
          "data": {
            "text/plain": [
              "['제외하고', '다시 말하자면', '그들', '그치지 않다', '의거하여']"
            ]
          },
          "metadata": {},
          "execution_count": 29
        }
      ]
    },
    {
      "cell_type": "markdown",
      "metadata": {
        "id": "yRzvYDmsTT9T"
      },
      "source": [
        "토큰화 함수 정의"
      ]
    },
    {
      "cell_type": "code",
      "metadata": {
        "colab": {
          "base_uri": "https://localhost:8080/"
        },
        "id": "ZOGyaiRPbDlC",
        "outputId": "fab4be90-d488-44e5-af5a-1a8b38e4487f"
      },
      "source": [
        "# twitter 토크나이저\n",
        "from konlpy.tag import Twitter\n",
        "\n",
        "twitter = Twitter()\n",
        "def tw_tokenizer(sentence):\n",
        "  tokens_tw = twitter.morphs(sentence, stem=True)\n",
        "  return tokens_tw"
      ],
      "execution_count": 30,
      "outputs": [
        {
          "output_type": "stream",
          "name": "stderr",
          "text": [
            "/usr/local/lib/python3.7/dist-packages/konlpy/tag/_okt.py:16: UserWarning: \"Twitter\" has changed to \"Okt\" since KoNLPy v0.4.5.\n",
            "  warn('\"Twitter\" has changed to \"Okt\" since KoNLPy v0.4.5.')\n"
          ]
        }
      ]
    },
    {
      "cell_type": "code",
      "metadata": {
        "id": "WLSAayBJdEnR"
      },
      "source": [
        "# Okt 토크나이저\n",
        "from konlpy.tag import Okt\n",
        "okt = Okt()\n",
        "def ok_tokenizer(sentence):\n",
        "  tokens_ok = okt.morphs(sentence, stem = True)\n",
        "  return tokens_ok"
      ],
      "execution_count": 31,
      "outputs": []
    },
    {
      "cell_type": "markdown",
      "metadata": {
        "id": "DgQHoOC4YrKT"
      },
      "source": [
        "# 3. 벡터화"
      ]
    },
    {
      "cell_type": "code",
      "metadata": {
        "id": "KGFxR2hdeI10"
      },
      "source": [
        "X_train = train_data[\"document\"]\n",
        "y_train = train_data[\"label\"]\n",
        "X_test = test_data[\"document\"]\n",
        "y_test = test_data[\"label\"]"
      ],
      "execution_count": 32,
      "outputs": []
    },
    {
      "cell_type": "code",
      "metadata": {
        "colab": {
          "base_uri": "https://localhost:8080/"
        },
        "id": "W9bHy6_2by5w",
        "outputId": "6c218035-1349-4af5-e9c3-4c7ecf1c8a43"
      },
      "source": [
        "# 1-1 Count Vextorizer + tw_tokenizser\n",
        "# F1 = 0.817306686623605\n",
        "# accuracy = 0.817907444668008\n",
        "from sklearn.feature_extraction.text import CountVectorizer\n",
        "\n",
        "cnt_vect = CountVectorizer(tokenizer = tw_tokenizer, stop_words=stopwords, ngram_range=(1,2))\n",
        "X_train_vec_tw = cnt_vect.fit_transform(X_train)\n",
        "X_test_vec_tw = cnt_vect.transform(X_test)"
      ],
      "execution_count": 37,
      "outputs": [
        {
          "output_type": "stream",
          "name": "stderr",
          "text": [
            "/usr/local/lib/python3.7/dist-packages/sklearn/feature_extraction/text.py:385: UserWarning: Your stop_words may be inconsistent with your preprocessing. Tokenizing the stop words generated tokens ['\\t', '가다', '각하', '간', '갖다', '개', '거나', '거리', '걸', '겁', '것과', '견지', '결과', '결론', '고려', '곤', '곳', '공동', '관', '관계', '관련', '구체', '구토', '그러하다', '그런', '그렇게', '그렇다', '그치다', '근거', '기대', '기점', '기준', '김', '까닭', '나머지', '남', '낫다', '낼', '년도', '논', '누가', '늘다', '다', '다르다', '다시', '달다', '답', '대로', '대하', '대해', '더', '더불다', '더욱이', '도달', '도착', '동시', '됏', '되다', '되어다', '두번째', '뒤', '뒤따르다', '든', '든지', '들다', '듯', '따다', '따르다', '따름', '때문', '라', '라도', '라면', '리하', '마자', '막론', '만', '만으로', '만은', '만이', '만큼', '만하', '많다', '말', '말다', '망정', '메', '면', '모르다', '몰랏다', '못', '무릎', '미치다', '바', '바꾸다', '밖에', '반대', '방면', '번째', '보다', '보아', '본대', '부류', '불구', '불문', '비', '비걱거리', '비교', '비기다', '비추다', '뿐', '사람', '상대', '생각', '서', '서술', '수', '시오', '시작', '시초', '쓰다', '쓰이다', '아니다', '아래', '아무', '아우르다', '안', '안다', '안되다', '않다', '알', '알다', '앞', '어기', '어떠하다', '어떻다', '어쨋', '어쩔', '어찌됏', '없다', '에도', '에야', '여보', '여전하다', '연', '연관', '옆', '오다', '외', '요', '요만', '우', '울다', '위', '위해', '윗', '의거', '의지', '의치', '의하다', '이다', '이러하다', '이렇게', '이렇다', '이로', '이르다', '이서', '이외', '이용', '이유', '인', '인하다', '일반', '일지', '임', '입', '입다', '입장', '잇따르다', '자다', '적', '점', '정도', '제외', '젠', '종합', '좋다', '주저', '줄', '중', '즈음', '지', '지경', '지다', '진짜', '집', '쪽', '차', '차다', '첫', '총', '켜다', '크다', '토', '통', '틀림없다', '틈타다', '편이', '하고', '하든', '하자', '한적', '함', '항목', '해', '해도', '해보다', '향', '허다', '형식', '후', '힘'] not in stop_words.\n",
            "  'stop_words.' % sorted(inconsistent))\n"
          ]
        }
      ]
    },
    {
      "cell_type": "code",
      "metadata": {
        "colab": {
          "base_uri": "https://localhost:8080/"
        },
        "id": "Z8vEvNs7duW2",
        "outputId": "98948a20-3987-42e2-f44b-748eb7f8418f"
      },
      "source": [
        "# 1-2 Count Vextorizer + ok_tokenizer\n",
        "# F1 = 0.817306686623605\n",
        "# accuracy = 0.817907444668008\n",
        "from sklearn.feature_extraction.text import CountVectorizer\n",
        "\n",
        "cnt_vect = CountVectorizer(tokenizer = ok_tokenizer, stop_words=stopwords, ngram_range=(1,2))\n",
        "X_train_vec_ok = cnt_vect.fit_transform(X_train)\n",
        "X_test_vec_ok = cnt_vect.transform(X_test)"
      ],
      "execution_count": 38,
      "outputs": [
        {
          "output_type": "stream",
          "name": "stderr",
          "text": [
            "/usr/local/lib/python3.7/dist-packages/sklearn/feature_extraction/text.py:385: UserWarning: Your stop_words may be inconsistent with your preprocessing. Tokenizing the stop words generated tokens ['\\t', '가다', '각하', '간', '갖다', '개', '거나', '거리', '걸', '겁', '것과', '견지', '결과', '결론', '고려', '곤', '곳', '공동', '관', '관계', '관련', '구체', '구토', '그러하다', '그런', '그렇게', '그렇다', '그치다', '근거', '기대', '기점', '기준', '김', '까닭', '나머지', '남', '낫다', '낼', '년도', '논', '누가', '늘다', '다', '다르다', '다시', '달다', '답', '대로', '대하', '대해', '더', '더불다', '더욱이', '도달', '도착', '동시', '됏', '되다', '되어다', '두번째', '뒤', '뒤따르다', '든', '든지', '들다', '듯', '따다', '따르다', '따름', '때문', '라', '라도', '라면', '리하', '마자', '막론', '만', '만으로', '만은', '만이', '만큼', '만하', '많다', '말', '말다', '망정', '메', '면', '모르다', '몰랏다', '못', '무릎', '미치다', '바', '바꾸다', '밖에', '반대', '방면', '번째', '보다', '보아', '본대', '부류', '불구', '불문', '비', '비걱거리', '비교', '비기다', '비추다', '뿐', '사람', '상대', '생각', '서', '서술', '수', '시오', '시작', '시초', '쓰다', '쓰이다', '아니다', '아래', '아무', '아우르다', '안', '안다', '안되다', '않다', '알', '알다', '앞', '어기', '어떠하다', '어떻다', '어쨋', '어쩔', '어찌됏', '없다', '에도', '에야', '여보', '여전하다', '연', '연관', '옆', '오다', '외', '요', '요만', '우', '울다', '위', '위해', '윗', '의거', '의지', '의치', '의하다', '이다', '이러하다', '이렇게', '이렇다', '이로', '이르다', '이서', '이외', '이용', '이유', '인', '인하다', '일반', '일지', '임', '입', '입다', '입장', '잇따르다', '자다', '적', '점', '정도', '제외', '젠', '종합', '좋다', '주저', '줄', '중', '즈음', '지', '지경', '지다', '진짜', '집', '쪽', '차', '차다', '첫', '총', '켜다', '크다', '토', '통', '틀림없다', '틈타다', '편이', '하고', '하든', '하자', '한적', '함', '항목', '해', '해도', '해보다', '향', '허다', '형식', '후', '힘'] not in stop_words.\n",
            "  'stop_words.' % sorted(inconsistent))\n"
          ]
        }
      ]
    },
    {
      "cell_type": "code",
      "metadata": {
        "colab": {
          "base_uri": "https://localhost:8080/"
        },
        "id": "xcfPe23De3_J",
        "outputId": "637d5936-d9d9-469b-e9ea-869543c31da0"
      },
      "source": [
        "# 2-1 Tf-idf vectorizer + tw_tokenizer\n",
        "# F1 = 0.8073399057269125\n",
        "# accuracy = 0.8078470824949698\n",
        "from sklearn.feature_extraction.text import TfidfVectorizer\n",
        "\n",
        "tf_idf = TfidfVectorizer(tokenizer = tw_tokenizer, stop_words=stopwords, ngram_range=(1,2))\n",
        "X_train_tf_tw = tf_idf.fit_transform(X_train)\n",
        "X_test_tf_tw = tf_idf.transform(X_test)"
      ],
      "execution_count": 39,
      "outputs": [
        {
          "output_type": "stream",
          "name": "stderr",
          "text": [
            "/usr/local/lib/python3.7/dist-packages/sklearn/feature_extraction/text.py:385: UserWarning: Your stop_words may be inconsistent with your preprocessing. Tokenizing the stop words generated tokens ['\\t', '가다', '각하', '간', '갖다', '개', '거나', '거리', '걸', '겁', '것과', '견지', '결과', '결론', '고려', '곤', '곳', '공동', '관', '관계', '관련', '구체', '구토', '그러하다', '그런', '그렇게', '그렇다', '그치다', '근거', '기대', '기점', '기준', '김', '까닭', '나머지', '남', '낫다', '낼', '년도', '논', '누가', '늘다', '다', '다르다', '다시', '달다', '답', '대로', '대하', '대해', '더', '더불다', '더욱이', '도달', '도착', '동시', '됏', '되다', '되어다', '두번째', '뒤', '뒤따르다', '든', '든지', '들다', '듯', '따다', '따르다', '따름', '때문', '라', '라도', '라면', '리하', '마자', '막론', '만', '만으로', '만은', '만이', '만큼', '만하', '많다', '말', '말다', '망정', '메', '면', '모르다', '몰랏다', '못', '무릎', '미치다', '바', '바꾸다', '밖에', '반대', '방면', '번째', '보다', '보아', '본대', '부류', '불구', '불문', '비', '비걱거리', '비교', '비기다', '비추다', '뿐', '사람', '상대', '생각', '서', '서술', '수', '시오', '시작', '시초', '쓰다', '쓰이다', '아니다', '아래', '아무', '아우르다', '안', '안다', '안되다', '않다', '알', '알다', '앞', '어기', '어떠하다', '어떻다', '어쨋', '어쩔', '어찌됏', '없다', '에도', '에야', '여보', '여전하다', '연', '연관', '옆', '오다', '외', '요', '요만', '우', '울다', '위', '위해', '윗', '의거', '의지', '의치', '의하다', '이다', '이러하다', '이렇게', '이렇다', '이로', '이르다', '이서', '이외', '이용', '이유', '인', '인하다', '일반', '일지', '임', '입', '입다', '입장', '잇따르다', '자다', '적', '점', '정도', '제외', '젠', '종합', '좋다', '주저', '줄', '중', '즈음', '지', '지경', '지다', '진짜', '집', '쪽', '차', '차다', '첫', '총', '켜다', '크다', '토', '통', '틀림없다', '틈타다', '편이', '하고', '하든', '하자', '한적', '함', '항목', '해', '해도', '해보다', '향', '허다', '형식', '후', '힘'] not in stop_words.\n",
            "  'stop_words.' % sorted(inconsistent))\n"
          ]
        }
      ]
    },
    {
      "cell_type": "code",
      "metadata": {
        "colab": {
          "base_uri": "https://localhost:8080/"
        },
        "id": "OCU7jllleLlK",
        "outputId": "80501e19-3825-4e82-a813-1dd08a1b64f2"
      },
      "source": [
        "# 2-2 Tf-idf vectorizer + ok_tokenizer\n",
        "# F1 = 0.8073399057269125\n",
        "# accuracy = 0.8078470824949698\n",
        "from sklearn.feature_extraction.text import TfidfVectorizer\n",
        "\n",
        "tf_idf = TfidfVectorizer(tokenizer = ok_tokenizer, stop_words=stopwords, ngram_range=(1,2))\n",
        "X_train_tf_ok = tf_idf.fit_transform(X_train)\n",
        "X_test_tf_ok = tf_idf.transform(X_test)"
      ],
      "execution_count": 40,
      "outputs": [
        {
          "output_type": "stream",
          "name": "stderr",
          "text": [
            "/usr/local/lib/python3.7/dist-packages/sklearn/feature_extraction/text.py:385: UserWarning: Your stop_words may be inconsistent with your preprocessing. Tokenizing the stop words generated tokens ['\\t', '가다', '각하', '간', '갖다', '개', '거나', '거리', '걸', '겁', '것과', '견지', '결과', '결론', '고려', '곤', '곳', '공동', '관', '관계', '관련', '구체', '구토', '그러하다', '그런', '그렇게', '그렇다', '그치다', '근거', '기대', '기점', '기준', '김', '까닭', '나머지', '남', '낫다', '낼', '년도', '논', '누가', '늘다', '다', '다르다', '다시', '달다', '답', '대로', '대하', '대해', '더', '더불다', '더욱이', '도달', '도착', '동시', '됏', '되다', '되어다', '두번째', '뒤', '뒤따르다', '든', '든지', '들다', '듯', '따다', '따르다', '따름', '때문', '라', '라도', '라면', '리하', '마자', '막론', '만', '만으로', '만은', '만이', '만큼', '만하', '많다', '말', '말다', '망정', '메', '면', '모르다', '몰랏다', '못', '무릎', '미치다', '바', '바꾸다', '밖에', '반대', '방면', '번째', '보다', '보아', '본대', '부류', '불구', '불문', '비', '비걱거리', '비교', '비기다', '비추다', '뿐', '사람', '상대', '생각', '서', '서술', '수', '시오', '시작', '시초', '쓰다', '쓰이다', '아니다', '아래', '아무', '아우르다', '안', '안다', '안되다', '않다', '알', '알다', '앞', '어기', '어떠하다', '어떻다', '어쨋', '어쩔', '어찌됏', '없다', '에도', '에야', '여보', '여전하다', '연', '연관', '옆', '오다', '외', '요', '요만', '우', '울다', '위', '위해', '윗', '의거', '의지', '의치', '의하다', '이다', '이러하다', '이렇게', '이렇다', '이로', '이르다', '이서', '이외', '이용', '이유', '인', '인하다', '일반', '일지', '임', '입', '입다', '입장', '잇따르다', '자다', '적', '점', '정도', '제외', '젠', '종합', '좋다', '주저', '줄', '중', '즈음', '지', '지경', '지다', '진짜', '집', '쪽', '차', '차다', '첫', '총', '켜다', '크다', '토', '통', '틀림없다', '틈타다', '편이', '하고', '하든', '하자', '한적', '함', '항목', '해', '해도', '해보다', '향', '허다', '형식', '후', '힘'] not in stop_words.\n",
            "  'stop_words.' % sorted(inconsistent))\n"
          ]
        }
      ]
    },
    {
      "cell_type": "markdown",
      "metadata": {
        "id": "1HkOpFvth4Bc"
      },
      "source": [
        "두 토크나이저의 성능 차이는 없다. 다만 tf-idf 벡터라이저를 사용했을 때 점수가 조금 더 높다."
      ]
    },
    {
      "cell_type": "markdown",
      "metadata": {
        "id": "e6aP5Z3fP3Ij"
      },
      "source": [
        "# 4. 모델링"
      ]
    },
    {
      "cell_type": "markdown",
      "metadata": {
        "id": "3WYaOkyS6MXm"
      },
      "source": [
        "로지스틱 리그레션"
      ]
    },
    {
      "cell_type": "code",
      "metadata": {
        "colab": {
          "base_uri": "https://localhost:8080/"
        },
        "id": "FutHM9duZZ2i",
        "outputId": "4ecd974b-9dd6-4fee-82ed-37057ab3f23f"
      },
      "source": [
        "# 1 트위터 + 카운트벡터라이저 + 로지스틱리그레션\n",
        "from sklearn.linear_model import LogisticRegression #변경 가능\n",
        "from sklearn import metrics\n",
        "clf = LogisticRegression(random_state=500)\n",
        "clf.fit(X_train_vec_tw, y_train) #변경 가능\n",
        "pred = clf.predict(X_test_vec_tw) #변경 가능\n",
        "print('F1 =', metrics.f1_score(y_test, pred, average='macro'))\n",
        "print('accuracy =', metrics.accuracy_score(y_test, pred))"
      ],
      "execution_count": 41,
      "outputs": [
        {
          "output_type": "stream",
          "name": "stdout",
          "text": [
            "F1 = 0.817306686623605\n",
            "accuracy = 0.817907444668008\n"
          ]
        }
      ]
    },
    {
      "cell_type": "code",
      "metadata": {
        "colab": {
          "base_uri": "https://localhost:8080/"
        },
        "id": "OuMdMhJ037aU",
        "outputId": "08c93be4-5040-47bc-ae58-bd9b76b59a92"
      },
      "source": [
        "# 1 Okt + 카운트벡터라이저 + 로지스틱리그레션\n",
        "from sklearn.linear_model import LogisticRegression #변경 가능\n",
        "from sklearn import metrics\n",
        "clf = LogisticRegression(random_state=500)\n",
        "clf.fit(X_train_vec_ok, y_train) #변경 가능\n",
        "pred = clf.predict(X_test_vec_ok) #변경 가능\n",
        "print('F1 =', metrics.f1_score(y_test, pred, average='macro'))\n",
        "print('accuracy =', metrics.accuracy_score(y_test, pred))"
      ],
      "execution_count": 42,
      "outputs": [
        {
          "output_type": "stream",
          "name": "stdout",
          "text": [
            "F1 = 0.817306686623605\n",
            "accuracy = 0.817907444668008\n"
          ]
        }
      ]
    },
    {
      "cell_type": "code",
      "metadata": {
        "colab": {
          "base_uri": "https://localhost:8080/"
        },
        "id": "2n2oTnkGhdwD",
        "outputId": "0d63185f-164c-49e5-a300-48da2faebe02"
      },
      "source": [
        "# 2 트위터 + TfIdf 벡터라이저 + 로지스틱리그레션\n",
        "from sklearn.linear_model import LogisticRegression #변경 가능\n",
        "from sklearn import metrics\n",
        "clf = LogisticRegression(random_state=500)\n",
        "clf.fit(X_train_tf_tw, y_train) #변경 가능\n",
        "pred = clf.predict(X_test_tf_tw) #변경 가능\n",
        "print('F1 =', metrics.f1_score(y_test, pred, average='macro'))\n",
        "print('accuracy =', metrics.accuracy_score(y_test, pred))"
      ],
      "execution_count": 43,
      "outputs": [
        {
          "output_type": "stream",
          "name": "stdout",
          "text": [
            "F1 = 0.8073399057269125\n",
            "accuracy = 0.8078470824949698\n"
          ]
        }
      ]
    },
    {
      "cell_type": "code",
      "metadata": {
        "colab": {
          "base_uri": "https://localhost:8080/"
        },
        "id": "4RzIrmZV382_",
        "outputId": "1354401d-04ca-4eea-bd6f-0adb2a1cc337"
      },
      "source": [
        "# 2 Okt + TfIdf 벡터라이저 + 로지스틱리그레션\n",
        "from sklearn.linear_model import LogisticRegression #변경 가능\n",
        "from sklearn import metrics\n",
        "clf = LogisticRegression(random_state=500)\n",
        "clf.fit(X_train_tf_ok, y_train) #변경 가능\n",
        "pred = clf.predict(X_test_tf_ok) #변경 가능\n",
        "print('F1 =', metrics.f1_score(y_test, pred, average='macro'))\n",
        "print('accuracy =', metrics.accuracy_score(y_test, pred))"
      ],
      "execution_count": 44,
      "outputs": [
        {
          "output_type": "stream",
          "name": "stdout",
          "text": [
            "F1 = 0.8073399057269125\n",
            "accuracy = 0.8078470824949698\n"
          ]
        }
      ]
    },
    {
      "cell_type": "markdown",
      "metadata": {
        "id": "-nRNqu9blcYu"
      },
      "source": [
        "XGBoost"
      ]
    },
    {
      "cell_type": "code",
      "metadata": {
        "colab": {
          "base_uri": "https://localhost:8080/"
        },
        "id": "quW5QrxMlfIh",
        "outputId": "6d96f95f-dfa7-4632-f71f-b2fa69154024"
      },
      "source": [
        "import xgboost as xgb \n",
        "from sklearn.model_selection import KFold, GridSearchCV\n",
        "from sklearn import metrics\n",
        "\n",
        "# K-fold\n",
        "cv = KFold(n_splits=5, random_state=None)\n",
        "# 모델 설정\n",
        "clf = xgb.XGBClassifier()\n",
        "\n",
        "# 초매개변수 튜닝(CV, Grid Search)\n",
        "param_grid={\n",
        "    'objective':['binary:logistic'],\n",
        "    'max_depth':[5],\n",
        "    'learning_rate':[0.1],\n",
        "    'gamma':[0.25],\n",
        "    'reg_lambda':[1.0],\n",
        "    'min_child_weight':[3],\n",
        "    'n_estimators':[500]    \n",
        "    }\n",
        "\n",
        "grid = GridSearchCV(estimator = clf, param_grid = param_grid, cv = cv)\n",
        "grid_fit = grid.fit(X_train_tf, y_train)\n",
        "\n",
        "# 최적 파라미터 구함\n",
        "print(\"final params\", grid.best_params_)"
      ],
      "execution_count": 103,
      "outputs": [
        {
          "output_type": "stream",
          "name": "stdout",
          "text": [
            "final params {'gamma': 0.25, 'learning_rate': 0.1, 'max_depth': 5, 'min_child_weight': 3, 'n_estimators': 500, 'objective': 'binary:logistic', 'reg_lambda': 1.0}\n"
          ]
        }
      ]
    },
    {
      "cell_type": "code",
      "metadata": {
        "id": "uNB2H4JAnTQ1"
      },
      "source": [
        "#### 최적 파라미터 적용한 모델 #### : best_model\n",
        "best_model = grid_fit.best_estimator_\n",
        "# Y값 예측\n",
        "pred = best_model.predict(X_test_vec)"
      ],
      "execution_count": 104,
      "outputs": []
    },
    {
      "cell_type": "code",
      "metadata": {
        "colab": {
          "base_uri": "https://localhost:8080/"
        },
        "id": "pZmlAuY5GdM-",
        "outputId": "e6ee552d-b1d0-405e-8274-57f51d011078"
      },
      "source": [
        "print('F1 =', metrics.f1_score(y_test, pred, average='macro'))\n",
        "print('accuracy =', metrics.accuracy_score(y_test, pred))"
      ],
      "execution_count": 105,
      "outputs": [
        {
          "output_type": "stream",
          "name": "stdout",
          "text": [
            "F1 = 0.7532151546750087\n",
            "accuracy = 0.7535211267605634\n"
          ]
        }
      ]
    },
    {
      "cell_type": "markdown",
      "metadata": {
        "id": "CyWFC-XokmTC"
      },
      "source": [
        "원래 코드: 나이브베이즈"
      ]
    },
    {
      "cell_type": "code",
      "metadata": {
        "id": "xLOAOucLzuAY",
        "colab": {
          "base_uri": "https://localhost:8080/"
        },
        "outputId": "098aa3cd-a16a-4c06-85ee-5cf9295b8302"
      },
      "source": [
        "from sklearn.naive_bayes import MultinomialNB #변경 가능\n",
        "from sklearn import metrics\n",
        "clf = MultinomialNB(alpha=.01)\n",
        "clf.fit(X_train_vec_tw, y_train) #변경 가능\n",
        "pred = clf.predict(X_test_vec_tw) #변경 가능\n",
        "print('F1 =', metrics.f1_score(y_test, pred, average='macro'))\n",
        "print('accuracy =', metrics.accuracy_score(y_test, pred))"
      ],
      "execution_count": 50,
      "outputs": [
        {
          "output_type": "stream",
          "name": "stdout",
          "text": [
            "F1 = 0.7917820811623206\n",
            "accuracy = 0.7927565392354124\n"
          ]
        }
      ]
    },
    {
      "cell_type": "markdown",
      "metadata": {
        "id": "AaHGqZ-Z5a3j"
      },
      "source": [
        "# 5. 최종 모델"
      ]
    },
    {
      "cell_type": "markdown",
      "metadata": {
        "id": "koDSxdi_57XS"
      },
      "source": [
        "### F1 = 0.817306686623605\n",
        "### accuracy = 0.817907444668008"
      ]
    },
    {
      "cell_type": "code",
      "metadata": {
        "colab": {
          "base_uri": "https://localhost:8080/"
        },
        "id": "TJY80ro35ZaM",
        "outputId": "8b728ab8-ecdc-472c-be84-085905222949"
      },
      "source": [
        "# twitter 토크나이저\n",
        "from konlpy.tag import Twitter\n",
        "\n",
        "twitter = Twitter()\n",
        "def tw_tokenizer(sentence):\n",
        "  tokens_tw = twitter.morphs(sentence, stem=True)\n",
        "  return tokens_tw\n",
        "\n",
        "# Count Vextorizer + tw_tokenizser\n",
        "# F1 = 0.817306686623605\n",
        "# accuracy = 0.817907444668008\n",
        "from sklearn.feature_extraction.text import CountVectorizer\n",
        "\n",
        "cnt_vect = CountVectorizer(tokenizer = tw_tokenizer, stop_words=stopwords, ngram_range=(1,2))\n",
        "X_train_vec_tw = cnt_vect.fit_transform(X_train)\n",
        "X_test_vec_tw = cnt_vect.transform(X_test)\n",
        "\n",
        "# 1 트위터 + 카운트벡터라이저 + 로지스틱리그레션\n",
        "from sklearn.linear_model import LogisticRegression\n",
        "from sklearn import metrics\n",
        "clf = LogisticRegression(random_state=500)\n",
        "clf.fit(X_train_vec_tw, y_train)\n",
        "pred = clf.predict(X_test_vec_tw)\n",
        "print('F1 =', metrics.f1_score(y_test, pred, average='macro'))\n",
        "print('accuracy =', metrics.accuracy_score(y_test, pred))"
      ],
      "execution_count": 52,
      "outputs": [
        {
          "output_type": "stream",
          "name": "stderr",
          "text": [
            "/usr/local/lib/python3.7/dist-packages/konlpy/tag/_okt.py:16: UserWarning: \"Twitter\" has changed to \"Okt\" since KoNLPy v0.4.5.\n",
            "  warn('\"Twitter\" has changed to \"Okt\" since KoNLPy v0.4.5.')\n",
            "/usr/local/lib/python3.7/dist-packages/sklearn/feature_extraction/text.py:385: UserWarning: Your stop_words may be inconsistent with your preprocessing. Tokenizing the stop words generated tokens ['\\t', '가다', '각하', '간', '갖다', '개', '거나', '거리', '걸', '겁', '것과', '견지', '결과', '결론', '고려', '곤', '곳', '공동', '관', '관계', '관련', '구체', '구토', '그러하다', '그런', '그렇게', '그렇다', '그치다', '근거', '기대', '기점', '기준', '김', '까닭', '나머지', '남', '낫다', '낼', '년도', '논', '누가', '늘다', '다', '다르다', '다시', '달다', '답', '대로', '대하', '대해', '더', '더불다', '더욱이', '도달', '도착', '동시', '됏', '되다', '되어다', '두번째', '뒤', '뒤따르다', '든', '든지', '들다', '듯', '따다', '따르다', '따름', '때문', '라', '라도', '라면', '리하', '마자', '막론', '만', '만으로', '만은', '만이', '만큼', '만하', '많다', '말', '말다', '망정', '메', '면', '모르다', '몰랏다', '못', '무릎', '미치다', '바', '바꾸다', '밖에', '반대', '방면', '번째', '보다', '보아', '본대', '부류', '불구', '불문', '비', '비걱거리', '비교', '비기다', '비추다', '뿐', '사람', '상대', '생각', '서', '서술', '수', '시오', '시작', '시초', '쓰다', '쓰이다', '아니다', '아래', '아무', '아우르다', '안', '안다', '안되다', '않다', '알', '알다', '앞', '어기', '어떠하다', '어떻다', '어쨋', '어쩔', '어찌됏', '없다', '에도', '에야', '여보', '여전하다', '연', '연관', '옆', '오다', '외', '요', '요만', '우', '울다', '위', '위해', '윗', '의거', '의지', '의치', '의하다', '이다', '이러하다', '이렇게', '이렇다', '이로', '이르다', '이서', '이외', '이용', '이유', '인', '인하다', '일반', '일지', '임', '입', '입다', '입장', '잇따르다', '자다', '적', '점', '정도', '제외', '젠', '종합', '좋다', '주저', '줄', '중', '즈음', '지', '지경', '지다', '진짜', '집', '쪽', '차', '차다', '첫', '총', '켜다', '크다', '토', '통', '틀림없다', '틈타다', '편이', '하고', '하든', '하자', '한적', '함', '항목', '해', '해도', '해보다', '향', '허다', '형식', '후', '힘'] not in stop_words.\n",
            "  'stop_words.' % sorted(inconsistent))\n"
          ]
        },
        {
          "output_type": "stream",
          "name": "stdout",
          "text": [
            "F1 = 0.817306686623605\n",
            "accuracy = 0.817907444668008\n"
          ]
        }
      ]
    }
  ]
}