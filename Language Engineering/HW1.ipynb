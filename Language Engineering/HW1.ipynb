{
  "nbformat": 4,
  "nbformat_minor": 0,
  "metadata": {
    "colab": {
      "name": "Homework1_2018311913.ipynb",
      "provenance": [],
      "collapsed_sections": []
    },
    "kernelspec": {
      "display_name": "Python 3 (ipykernel)",
      "language": "python",
      "name": "python3"
    },
    "language_info": {
      "codemirror_mode": {
        "name": "ipython",
        "version": 3
      },
      "file_extension": ".py",
      "mimetype": "text/x-python",
      "name": "python",
      "nbconvert_exporter": "python",
      "pygments_lexer": "ipython3",
      "version": "3.8.5"
    }
  },
  "cells": [
    {
      "cell_type": "markdown",
      "metadata": {
        "id": "DFwIl9j7KEJC"
      },
      "source": [
        "# **자료형**"
      ]
    },
    {
      "cell_type": "markdown",
      "metadata": {
        "id": "1ndZIyWtuN8n"
      },
      "source": [
        "Q1. 5층 계단 모양의 별자리를 만들어보세요. (print 사용하세요)"
      ]
    },
    {
      "cell_type": "code",
      "metadata": {
        "id": "nyaaLsHSuOVS"
      },
      "source": [
        "# 실행 예시\n",
        "*\n",
        "**\n",
        "***\n",
        "****\n",
        "*****"
      ],
      "execution_count": null,
      "outputs": []
    },
    {
      "cell_type": "code",
      "metadata": {
        "id": "3oDogIGrvwrS",
        "colab": {
          "base_uri": "https://localhost:8080/"
        },
        "outputId": "570315a4-c604-467c-8b91-d6672ded64a0"
      },
      "source": [
        "print(\"*\")\n",
        "print(\"*\"*2)\n",
        "print(\"*\"*3)\n",
        "print(\"*\"*4)\n",
        "print(\"*\"*5)"
      ],
      "execution_count": 1,
      "outputs": [
        {
          "output_type": "stream",
          "name": "stdout",
          "text": [
            "*\n",
            "**\n",
            "***\n",
            "****\n",
            "*****\n"
          ]
        }
      ]
    },
    {
      "cell_type": "markdown",
      "metadata": {
        "id": "2-fwBB_bGpeJ"
      },
      "source": [
        "\n",
        "\n",
        "---\n",
        "\n"
      ]
    },
    {
      "cell_type": "markdown",
      "metadata": {
        "id": "rVZ61On1HzMY"
      },
      "source": [
        "Q2. '-'를 20개를 출력하라."
      ]
    },
    {
      "cell_type": "code",
      "metadata": {
        "id": "L7QoQ1rgHzMY"
      },
      "source": [
        "# 실행 예시\n",
        "--------------------"
      ],
      "execution_count": null,
      "outputs": []
    },
    {
      "cell_type": "code",
      "metadata": {
        "id": "8Y1se972wFug",
        "colab": {
          "base_uri": "https://localhost:8080/"
        },
        "outputId": "50ae4ea6-e4a6-48ee-de7f-0288805eb789"
      },
      "source": [
        "print(\"-\"*20)"
      ],
      "execution_count": 2,
      "outputs": [
        {
          "output_type": "stream",
          "name": "stdout",
          "text": [
            "--------------------\n"
          ]
        }
      ]
    },
    {
      "cell_type": "markdown",
      "metadata": {
        "id": "3VYqQXmFHzMZ"
      },
      "source": [
        "\n",
        "\n",
        "---\n"
      ]
    },
    {
      "cell_type": "markdown",
      "metadata": {
        "id": "GdnMB3S0t35e"
      },
      "source": [
        "Q3. 아래의 문자열 `line`에서 '홀'만 출력하라. (슬라이싱 이용하세요)"
      ]
    },
    {
      "cell_type": "code",
      "metadata": {
        "id": "C4XeMo7ft22S"
      },
      "source": [
        "line = '홀짝홀짝홀짝홀짝홀짝'"
      ],
      "execution_count": 3,
      "outputs": []
    },
    {
      "cell_type": "code",
      "metadata": {
        "id": "lnR0VBi_uC8K"
      },
      "source": [
        "# 실행 예시\n",
        "홀홀홀홀홀"
      ],
      "execution_count": null,
      "outputs": []
    },
    {
      "cell_type": "code",
      "metadata": {
        "id": "yhhJ0jKmwNbn",
        "colab": {
          "base_uri": "https://localhost:8080/"
        },
        "outputId": "794c1695-f2b8-40da-8088-1a5fefc1c3be"
      },
      "source": [
        "h1 = line[0:1]\n",
        "h2 = line[2:3]\n",
        "h3 = line[4:5]\n",
        "h4 = line[6:7]\n",
        "h5 = line[8:9]\n",
        "print(h1+h2+h3+h4+h5)"
      ],
      "execution_count": 4,
      "outputs": [
        {
          "output_type": "stream",
          "name": "stdout",
          "text": [
            "홀홀홀홀홀\n"
          ]
        }
      ]
    },
    {
      "cell_type": "markdown",
      "metadata": {
        "id": "n-VZ8-L6uRNH"
      },
      "source": [
        "\n",
        "\n",
        "---\n"
      ]
    },
    {
      "cell_type": "markdown",
      "metadata": {
        "id": "VY1P4vw7uCmQ"
      },
      "source": [
        "Q4. 아래의 문자열 `sent`의 앞뒤 불필요한 공백을 제거하고 출력한 뒤, 알파벳 H/h의 개수를 계산하라.(대문자 H의 개수와 소문자 h의 개수의 총합을 구해야 합니다)\n"
      ]
    },
    {
      "cell_type": "code",
      "metadata": {
        "id": "jl9C3UOsuL2K"
      },
      "source": [
        "sent = '        Hello everyone. Hi. This is my husband.   '"
      ],
      "execution_count": 5,
      "outputs": []
    },
    {
      "cell_type": "code",
      "metadata": {
        "id": "e5YByUv-HpN8"
      },
      "source": [
        "# 실행 예시\n",
        ">>> print(new_sent)\n",
        "Hello everyone. Hi. This is my husband.\n",
        ">>> print(h_sum)\n",
        "4"
      ],
      "execution_count": null,
      "outputs": []
    },
    {
      "cell_type": "code",
      "metadata": {
        "id": "71ZUCJWZxoAs",
        "colab": {
          "base_uri": "https://localhost:8080/"
        },
        "outputId": "cac92349-2228-4866-e391-873d1fda5b77"
      },
      "source": [
        "new_sent = sent.lstrip()\n",
        "print(new_sent)\n",
        "sent = sent.lower()\n",
        "h_sum = sent.count(\"h\")\n",
        "print(h_sum)"
      ],
      "execution_count": 6,
      "outputs": [
        {
          "output_type": "stream",
          "name": "stdout",
          "text": [
            "Hello everyone. Hi. This is my husband.   \n",
            "4\n"
          ]
        }
      ]
    },
    {
      "cell_type": "markdown",
      "metadata": {
        "id": "cTWj01f9uWpk"
      },
      "source": [
        "\n",
        "\n",
        "---\n",
        "\n"
      ]
    },
    {
      "cell_type": "markdown",
      "metadata": {
        "id": "qTwvNPFuHNIH"
      },
      "source": [
        "Q5. 아래의 전화번호 `phone_number`에서 하이픈('-')을 제거하고 출력하라.\n"
      ]
    },
    {
      "cell_type": "code",
      "metadata": {
        "id": "w1eBBfiuHNIH"
      },
      "source": [
        "phone_number = \"010-1234-5678\""
      ],
      "execution_count": 7,
      "outputs": []
    },
    {
      "cell_type": "code",
      "metadata": {
        "id": "jmsYA6QKHNIH"
      },
      "source": [
        "# 실행 예시\n",
        "010 1234 5678"
      ],
      "execution_count": null,
      "outputs": []
    },
    {
      "cell_type": "code",
      "metadata": {
        "id": "snn6J1CbzJLB",
        "colab": {
          "base_uri": "https://localhost:8080/"
        },
        "outputId": "fcff3210-1064-42ad-a2d6-c3ba7356bc8e"
      },
      "source": [
        "num = phone_number.split(\"-\")\n",
        "num = \" \".join(num)\n",
        "print(num)"
      ],
      "execution_count": 8,
      "outputs": [
        {
          "output_type": "stream",
          "name": "stdout",
          "text": [
            "010 1234 5678\n"
          ]
        }
      ]
    },
    {
      "cell_type": "markdown",
      "metadata": {
        "id": "OcF39lrUHNII"
      },
      "source": [
        "\n",
        "\n",
        "---\n"
      ]
    },
    {
      "cell_type": "markdown",
      "metadata": {
        "id": "hAFEwFizHyyW"
      },
      "source": [
        "Q6. 아래의 전화번호 `phone_number`에서 마지막 4자리만 출력하라."
      ]
    },
    {
      "cell_type": "code",
      "metadata": {
        "id": "laqiDZREHyyX"
      },
      "source": [
        "phone_number = \"010-1234-5678\""
      ],
      "execution_count": 9,
      "outputs": []
    },
    {
      "cell_type": "code",
      "metadata": {
        "id": "rLh1mVFbHyyY"
      },
      "source": [
        "# 실행 예시\n",
        "5678"
      ],
      "execution_count": null,
      "outputs": []
    },
    {
      "cell_type": "code",
      "metadata": {
        "id": "jYXrZ8Y_zb1T",
        "colab": {
          "base_uri": "https://localhost:8080/"
        },
        "outputId": "ced2c679-4523-417a-8fed-11ddbad9f765"
      },
      "source": [
        "print(phone_number[-4:])"
      ],
      "execution_count": 10,
      "outputs": [
        {
          "output_type": "stream",
          "name": "stdout",
          "text": [
            "5678\n"
          ]
        }
      ]
    },
    {
      "cell_type": "markdown",
      "metadata": {
        "id": "T7Rn42MYHyyZ"
      },
      "source": [
        "\n",
        "\n",
        "---\n"
      ]
    },
    {
      "cell_type": "markdown",
      "metadata": {
        "id": "mQsrzJwtHzXn"
      },
      "source": [
        "Q7. 아래의 객체 `file_name`에 저장된 파일 이름이 'xlsx'로 끝나는지 확인하는 코드를 작성하라."
      ]
    },
    {
      "cell_type": "code",
      "metadata": {
        "id": "FvTHRCO8HzXo"
      },
      "source": [
        "file_name = \"report.xlsx\""
      ],
      "execution_count": 11,
      "outputs": []
    },
    {
      "cell_type": "code",
      "metadata": {
        "id": "HXAoCdvGHzXp"
      },
      "source": [
        "# 실행 예시\n",
        "True"
      ],
      "execution_count": null,
      "outputs": []
    },
    {
      "cell_type": "code",
      "metadata": {
        "id": "Jj89GgpKzphQ",
        "colab": {
          "base_uri": "https://localhost:8080/"
        },
        "outputId": "61232494-103d-45ff-f3a3-299fbc1a698d"
      },
      "source": [
        "file_name.endswith(\"xlsx\")"
      ],
      "execution_count": 12,
      "outputs": [
        {
          "output_type": "execute_result",
          "data": {
            "text/plain": [
              "True"
            ]
          },
          "metadata": {},
          "execution_count": 12
        }
      ]
    },
    {
      "cell_type": "markdown",
      "metadata": {
        "id": "q21gYm21HzXq"
      },
      "source": [
        "\n",
        "\n",
        "---\n"
      ]
    },
    {
      "cell_type": "markdown",
      "metadata": {
        "id": "XCoK2lZwHzfW"
      },
      "source": [
        "Q8. 아래의 리스트 `my`에서 중복된 요소를 제거하고, 알파벳 순으로 정렬한 리스트를 출력하라."
      ]
    },
    {
      "cell_type": "code",
      "metadata": {
        "id": "sPwZQ2CEHzfW"
      },
      "source": [
        "my = ['a', 'the', 'hello', 'name', 'hello', 'name', 'age']"
      ],
      "execution_count": 13,
      "outputs": []
    },
    {
      "cell_type": "code",
      "metadata": {
        "id": "LWKQb3WlHzfW"
      },
      "source": [
        "# 실행 예시\n",
        "['a', 'age', 'hello', 'name', 'the']"
      ],
      "execution_count": null,
      "outputs": []
    },
    {
      "cell_type": "code",
      "metadata": {
        "id": "qflS5Ch8zxLV",
        "colab": {
          "base_uri": "https://localhost:8080/"
        },
        "outputId": "51a2437e-7c37-4690-8d01-5066873c69ff"
      },
      "source": [
        "my_set = set(my)\n",
        "my_list = list(my_set)\n",
        "my_list = sorted(my_list)\n",
        "print(my_list)"
      ],
      "execution_count": 14,
      "outputs": [
        {
          "output_type": "stream",
          "name": "stdout",
          "text": [
            "['a', 'age', 'hello', 'name', 'the']\n"
          ]
        }
      ]
    },
    {
      "cell_type": "markdown",
      "metadata": {
        "id": "rVB4uErIHzfW"
      },
      "source": [
        "\n",
        "\n",
        "---\n"
      ]
    },
    {
      "cell_type": "markdown",
      "metadata": {
        "id": "ndP7CjZjHzlt"
      },
      "source": [
        "Q9. 아래의 리스트 `movie`에서 '스파이더맨'과 '배트맨'을 삭제하라."
      ]
    },
    {
      "cell_type": "code",
      "metadata": {
        "id": "Q1ZWB0PMHzlt"
      },
      "source": [
        "movie = ['닥터 스트레인지', '슈퍼맨', '스파이더맨', '배트맨']"
      ],
      "execution_count": 15,
      "outputs": []
    },
    {
      "cell_type": "code",
      "metadata": {
        "id": "r0v9u495Hzlt"
      },
      "source": [
        "# 실행 예시\n",
        "['닥터 스트레인지', '슈퍼맨']"
      ],
      "execution_count": null,
      "outputs": []
    },
    {
      "cell_type": "code",
      "metadata": {
        "id": "pKPWdXDI05zo",
        "colab": {
          "base_uri": "https://localhost:8080/"
        },
        "outputId": "fb53b277-a029-49fc-bb46-3475e6bdc4be"
      },
      "source": [
        "movie.remove('스파이더맨')\n",
        "movie.remove('배트맨')\n",
        "print(movie)"
      ],
      "execution_count": 16,
      "outputs": [
        {
          "output_type": "stream",
          "name": "stdout",
          "text": [
            "['닥터 스트레인지', '슈퍼맨']\n"
          ]
        }
      ]
    },
    {
      "cell_type": "markdown",
      "metadata": {
        "id": "jmo37YZGHzlt"
      },
      "source": [
        "\n",
        "\n",
        "---\n"
      ]
    },
    {
      "cell_type": "markdown",
      "metadata": {
        "id": "Ogz0RVoaHzpO"
      },
      "source": [
        "Q10. 아래의 리스트 `nums`의 평균을 출력하라."
      ]
    },
    {
      "cell_type": "code",
      "metadata": {
        "id": "dt5JJjX7HzpO"
      },
      "source": [
        "nums = [1, 2, 3, 4, 5]"
      ],
      "execution_count": 17,
      "outputs": []
    },
    {
      "cell_type": "code",
      "metadata": {
        "id": "y1h6ihOrHzpO"
      },
      "source": [
        "# 실행 예시\n",
        "3.0"
      ],
      "execution_count": null,
      "outputs": []
    },
    {
      "cell_type": "code",
      "metadata": {
        "id": "QoRKaXpV1zT3",
        "colab": {
          "base_uri": "https://localhost:8080/"
        },
        "outputId": "13c8c471-ee6d-4ed1-fed9-259e5de079d8"
      },
      "source": [
        "print(sum(nums)/len(nums))"
      ],
      "execution_count": 18,
      "outputs": [
        {
          "output_type": "stream",
          "name": "stdout",
          "text": [
            "3.0\n"
          ]
        }
      ]
    },
    {
      "cell_type": "markdown",
      "metadata": {
        "id": "WEkB9ieVHzpP"
      },
      "source": [
        "\n",
        "\n",
        "---\n"
      ]
    },
    {
      "cell_type": "markdown",
      "metadata": {
        "id": "EHeevFhPHztG"
      },
      "source": [
        "Q11. 아래의 리스트 `interest`를 사용하여 아래와 같이 출력하라."
      ]
    },
    {
      "cell_type": "code",
      "metadata": {
        "id": "_cQ9qrvOHztH"
      },
      "source": [
        "interest = ['삼성전자', 'LG전자', 'Naver', 'SK하이닉스', '미래에셋대우']"
      ],
      "execution_count": 19,
      "outputs": []
    },
    {
      "cell_type": "code",
      "metadata": {
        "id": "EshyKCwFHztH"
      },
      "source": [
        "# 실행 예시\n",
        "삼성전자/LG전자/Naver/SK하이닉스/미래에셋대우"
      ],
      "execution_count": null,
      "outputs": []
    },
    {
      "cell_type": "code",
      "metadata": {
        "id": "f7wXCx282J3Y",
        "colab": {
          "base_uri": "https://localhost:8080/"
        },
        "outputId": "e85f4925-8af2-4a64-f734-db07ce233ba7"
      },
      "source": [
        "s = \"/\".join(interest)\n",
        "print(s)"
      ],
      "execution_count": 20,
      "outputs": [
        {
          "output_type": "stream",
          "name": "stdout",
          "text": [
            "삼성전자/LG전자/Naver/SK하이닉스/미래에셋대우\n"
          ]
        }
      ]
    },
    {
      "cell_type": "markdown",
      "metadata": {
        "id": "AF5b1EWjHztI"
      },
      "source": [
        "\n",
        "\n",
        "---\n"
      ]
    },
    {
      "cell_type": "markdown",
      "metadata": {
        "id": "guADVYvAv5Vp"
      },
      "source": [
        "Q12. 아래의 리스트 `major`에 '통계'와 '컬텍'을 추가하여 아래의 실행 예시와 같이 업데이트된 `major` 리스트를 출력하라. (요소의 위치 유의할 것.)\n",
        "\n",
        "(`major` 객체에 새로운 리스트를 할당하지 말 것. 요소를 추가하는 리스트의 내장 함수들을 적절히 사용하여 리스트를 업데이트하세요.)"
      ]
    },
    {
      "cell_type": "code",
      "metadata": {
        "id": "HkUdQqbdwReH"
      },
      "source": [
        "major = ['국문', '경영', '영상', '글경']"
      ],
      "execution_count": 21,
      "outputs": []
    },
    {
      "cell_type": "code",
      "metadata": {
        "id": "mfeq09ldv52n"
      },
      "source": [
        "# 실행 예시\n",
        ">>> print(major)\n",
        "['국문', '경영', '통계', '영상', '글경', '컬텍']"
      ],
      "execution_count": null,
      "outputs": []
    },
    {
      "cell_type": "code",
      "metadata": {
        "id": "hxGvLq_c2yt2",
        "colab": {
          "base_uri": "https://localhost:8080/"
        },
        "outputId": "55977a0f-8504-4c5e-ce25-59b12388b04e"
      },
      "source": [
        "major.insert(2,'통계')\n",
        "major.insert(5,'컬텍')\n",
        "print(major)"
      ],
      "execution_count": 22,
      "outputs": [
        {
          "output_type": "stream",
          "name": "stdout",
          "text": [
            "['국문', '경영', '통계', '영상', '글경', '컬텍']\n"
          ]
        }
      ]
    },
    {
      "cell_type": "markdown",
      "metadata": {
        "id": "j-KcGYB0v6xE"
      },
      "source": [
        "\n",
        "\n",
        "---\n",
        "\n"
      ]
    },
    {
      "cell_type": "markdown",
      "metadata": {
        "id": "f7R3RTm1Hzwq"
      },
      "source": [
        "Q13. 아래의 딕셔너리 `ice`를 사용하여 메로나 가격을 출력하라."
      ]
    },
    {
      "cell_type": "code",
      "metadata": {
        "id": "zhbkm1FHHzwq"
      },
      "source": [
        "ice = {'메로나': 1000,\n",
        "       '폴로포': 1200,\n",
        "       '빵빠레': 1800,\n",
        "       '죠스바': 1200,\n",
        "       '월드콘': 1500}"
      ],
      "execution_count": 23,
      "outputs": []
    },
    {
      "cell_type": "code",
      "metadata": {
        "id": "tRC4SM2HHzwq"
      },
      "source": [
        "# 실행 예시\n",
        "메로나 가격: 1000"
      ],
      "execution_count": null,
      "outputs": []
    },
    {
      "cell_type": "code",
      "metadata": {
        "id": "Lq-MGQSb3L8Y",
        "colab": {
          "base_uri": "https://localhost:8080/"
        },
        "outputId": "093c9704-3bc2-465f-9854-4ed5d8521ece"
      },
      "source": [
        "print(\"메로나 가격:\", ice['메로나'])"
      ],
      "execution_count": 24,
      "outputs": [
        {
          "output_type": "stream",
          "name": "stdout",
          "text": [
            "메로나 가격: 1000\n"
          ]
        }
      ]
    },
    {
      "cell_type": "markdown",
      "metadata": {
        "id": "oocsevTRHzwr"
      },
      "source": [
        "\n",
        "\n",
        "---\n"
      ]
    },
    {
      "cell_type": "markdown",
      "metadata": {
        "id": "w7Gb1LPYHzz0"
      },
      "source": [
        "Q14. 아래의 딕셔너리 `icecream`에서 아이스크림 이름 리스트를 생성하고 출력하라."
      ]
    },
    {
      "cell_type": "code",
      "metadata": {
        "id": "fAZhKeIuHzz1"
      },
      "source": [
        "icecream = {'탱크보이': 1200, '폴라포': 1200, '빵빠레': 1800, '월드콘': 1500, '메로나': 1000}"
      ],
      "execution_count": 25,
      "outputs": []
    },
    {
      "cell_type": "code",
      "metadata": {
        "id": "08TC-Jn2Hzz2"
      },
      "source": [
        "# 실행 예시\n",
        "['탱크보이', '폴라포', '빵빠레', '월드콘', '메로나']"
      ],
      "execution_count": null,
      "outputs": []
    },
    {
      "cell_type": "code",
      "metadata": {
        "id": "9-3T__gV3ugK",
        "colab": {
          "base_uri": "https://localhost:8080/"
        },
        "outputId": "d7bce960-bf1e-472b-fd6e-b2e95ab0a1a8"
      },
      "source": [
        "list(icecream.keys())"
      ],
      "execution_count": 26,
      "outputs": [
        {
          "output_type": "execute_result",
          "data": {
            "text/plain": [
              "['탱크보이', '폴라포', '빵빠레', '월드콘', '메로나']"
            ]
          },
          "metadata": {},
          "execution_count": 26
        }
      ]
    },
    {
      "cell_type": "markdown",
      "metadata": {
        "id": "ctpJzRypHzz3"
      },
      "source": [
        "\n",
        "\n",
        "---\n"
      ]
    },
    {
      "cell_type": "markdown",
      "metadata": {
        "id": "2zfhyh-2Hz3h"
      },
      "source": [
        "Q15. 아래의 딕셔너리 `icecream`에서 아이스크림 판매 금액의 총합을 출력하라."
      ]
    },
    {
      "cell_type": "code",
      "metadata": {
        "id": "_gxxHO7sHz3i"
      },
      "source": [
        "icecream = {'탱크보이': 1200, '폴라포': 1200, '빵빠레': 1800, '월드콘': 1500, '메로나': 1000}"
      ],
      "execution_count": 27,
      "outputs": []
    },
    {
      "cell_type": "code",
      "metadata": {
        "id": "234WJLD1Hz3j"
      },
      "source": [
        "# 실행 예시\n",
        "6700"
      ],
      "execution_count": null,
      "outputs": []
    },
    {
      "cell_type": "code",
      "metadata": {
        "id": "ePXeusQt4LF5",
        "colab": {
          "base_uri": "https://localhost:8080/"
        },
        "outputId": "b7c225f8-38a2-462d-d52c-fdbdaf8b53b0"
      },
      "source": [
        "print(sum(list(icecream.values())))"
      ],
      "execution_count": 28,
      "outputs": [
        {
          "output_type": "stream",
          "name": "stdout",
          "text": [
            "6700\n"
          ]
        }
      ]
    },
    {
      "cell_type": "markdown",
      "metadata": {
        "id": "sTf3ltMRHz3k"
      },
      "source": [
        "\n",
        "\n",
        "---\n"
      ]
    }
  ]
}