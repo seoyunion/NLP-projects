{
  "nbformat": 4,
  "nbformat_minor": 0,
  "metadata": {
    "colab": {
      "name": "HW2_2018311913.ipynb",
      "provenance": [],
      "collapsed_sections": []
    },
    "kernelspec": {
      "name": "python3",
      "display_name": "Python 3"
    },
    "language_info": {
      "name": "python"
    }
  },
  "cells": [
    {
      "cell_type": "code",
      "metadata": {
        "colab": {
          "base_uri": "https://localhost:8080/"
        },
        "id": "foI5tfZujDs9",
        "outputId": "f5e79b86-a354-40f3-a604-862e480864b1"
      },
      "source": [
        "#A1\n",
        "for i in range(1,10):\n",
        "  print('{} X {} = {}'.format(3,i,3*i))"
      ],
      "execution_count": 1,
      "outputs": [
        {
          "output_type": "stream",
          "name": "stdout",
          "text": [
            "3 X 1 = 3\n",
            "3 X 2 = 6\n",
            "3 X 3 = 9\n",
            "3 X 4 = 12\n",
            "3 X 5 = 15\n",
            "3 X 6 = 18\n",
            "3 X 7 = 21\n",
            "3 X 8 = 24\n",
            "3 X 9 = 27\n"
          ]
        }
      ]
    },
    {
      "cell_type": "code",
      "metadata": {
        "colab": {
          "base_uri": "https://localhost:8080/"
        },
        "id": "ISaXM8s8jmjA",
        "outputId": "fb0c028a-4429-4f9d-9a68-a36a9c11ff6e"
      },
      "source": [
        "#A2\n",
        "for i in range(1,10):\n",
        "  print('{} X {} = {}'.format(3,10-i,3*(10-i)))"
      ],
      "execution_count": 4,
      "outputs": [
        {
          "output_type": "stream",
          "name": "stdout",
          "text": [
            "3 X 9 = 27\n",
            "3 X 8 = 24\n",
            "3 X 7 = 21\n",
            "3 X 6 = 18\n",
            "3 X 5 = 15\n",
            "3 X 4 = 12\n",
            "3 X 3 = 9\n",
            "3 X 2 = 6\n",
            "3 X 1 = 3\n"
          ]
        }
      ]
    },
    {
      "cell_type": "code",
      "metadata": {
        "colab": {
          "base_uri": "https://localhost:8080/"
        },
        "id": "51_5QGHyk3u2",
        "outputId": "e14df332-9d44-4e62-c190-4da090c545f0"
      },
      "source": [
        "#A3\n",
        "i = 0\n",
        "while i < 5:\n",
        "  print('Hello World')\n",
        "  i += 1"
      ],
      "execution_count": 5,
      "outputs": [
        {
          "output_type": "stream",
          "name": "stdout",
          "text": [
            "Hello World\n",
            "Hello World\n",
            "Hello World\n",
            "Hello World\n",
            "Hello World\n"
          ]
        }
      ]
    },
    {
      "cell_type": "code",
      "metadata": {
        "colab": {
          "base_uri": "https://localhost:8080/"
        },
        "id": "QpIkQfEflGIq",
        "outputId": "b5d5f621-97db-4ae3-a135-22346f14e0d3"
      },
      "source": [
        "#A4\n",
        "x=3\n",
        "y=1\n",
        "while x==3 or x==4:\n",
        "  for i in range(1,10):\n",
        "    print('{} X {} = {}'.format(x,i,x*i))\n",
        "  x+=1"
      ],
      "execution_count": 9,
      "outputs": [
        {
          "output_type": "stream",
          "name": "stdout",
          "text": [
            "3 X 1 = 3\n",
            "3 X 2 = 6\n",
            "3 X 3 = 9\n",
            "3 X 4 = 12\n",
            "3 X 5 = 15\n",
            "3 X 6 = 18\n",
            "3 X 7 = 21\n",
            "3 X 8 = 24\n",
            "3 X 9 = 27\n",
            "4 X 1 = 4\n",
            "4 X 2 = 8\n",
            "4 X 3 = 12\n",
            "4 X 4 = 16\n",
            "4 X 5 = 20\n",
            "4 X 6 = 24\n",
            "4 X 7 = 28\n",
            "4 X 8 = 32\n",
            "4 X 9 = 36\n"
          ]
        }
      ]
    },
    {
      "cell_type": "code",
      "metadata": {
        "colab": {
          "base_uri": "https://localhost:8080/"
        },
        "id": "JUiJrIF6nI-M",
        "outputId": "e5ae4995-afc3-4c86-d1fe-5f042442ef68"
      },
      "source": [
        "#A5\n",
        "birth = ['601123', '760202', '810919', '920707', '000515']\n",
        "for i in birth:\n",
        "  print(i[:2])"
      ],
      "execution_count": 10,
      "outputs": [
        {
          "output_type": "stream",
          "name": "stdout",
          "text": [
            "60\n",
            "76\n",
            "81\n",
            "92\n",
            "00\n"
          ]
        }
      ]
    },
    {
      "cell_type": "code",
      "metadata": {
        "colab": {
          "base_uri": "https://localhost:8080/"
        },
        "id": "gpAGBXeNnW5j",
        "outputId": "db53f153-aabc-4c2b-d41d-9b47555a9908"
      },
      "source": [
        "#A6\n",
        "my_list = [1, 2, 3, 4]\n",
        "for i in my_list[1:]:\n",
        "  print(i)"
      ],
      "execution_count": 12,
      "outputs": [
        {
          "output_type": "stream",
          "name": "stdout",
          "text": [
            "2\n",
            "3\n",
            "4\n"
          ]
        }
      ]
    },
    {
      "cell_type": "code",
      "metadata": {
        "colab": {
          "base_uri": "https://localhost:8080/"
        },
        "id": "oTV9RPxeoHPB",
        "outputId": "17fc6f24-0205-42ef-d84b-a456977d4cd2"
      },
      "source": [
        "#A7\n",
        "num = [3, 21, 25, 44, 50, 100]\n",
        "for i in num:\n",
        "  if i <100 and i%5==0:\n",
        "    print(i)"
      ],
      "execution_count": 13,
      "outputs": [
        {
          "output_type": "stream",
          "name": "stdout",
          "text": [
            "25\n",
            "50\n"
          ]
        }
      ]
    },
    {
      "cell_type": "code",
      "metadata": {
        "colab": {
          "base_uri": "https://localhost:8080/"
        },
        "id": "H724jDzholXP",
        "outputId": "a5935b64-92f8-4fdc-887e-8e06f04ab9a9"
      },
      "source": [
        "#A8\n",
        "my_list = ['apple', 'Banana', 'Computer', 'donkey']\n",
        "new_list = [x.capitalize() for x in my_list]\n",
        "for i in new_list:\n",
        "  print(i)\n",
        "print(new_list)"
      ],
      "execution_count": 27,
      "outputs": [
        {
          "output_type": "stream",
          "name": "stdout",
          "text": [
            "Apple\n",
            "Banana\n",
            "Computer\n",
            "Donkey\n",
            "['Apple', 'Banana', 'Computer', 'Donkey']\n"
          ]
        }
      ]
    },
    {
      "cell_type": "code",
      "metadata": {
        "colab": {
          "base_uri": "https://localhost:8080/"
        },
        "id": "V6aO0s29p7wW",
        "outputId": "8a803656-7e40-400e-b248-0badd9399f57"
      },
      "source": [
        "#A9\n",
        "my_list = ['apple', 'Banana', 'Computer', 'donkey']\n",
        "for i in my_list:\n",
        "  if i[0].isupper() == True:\n",
        "    print(i)"
      ],
      "execution_count": 32,
      "outputs": [
        {
          "output_type": "stream",
          "name": "stdout",
          "text": [
            "Banana\n",
            "Computer\n"
          ]
        }
      ]
    },
    {
      "cell_type": "code",
      "metadata": {
        "colab": {
          "base_uri": "https://localhost:8080/"
        },
        "id": "O4a5jPTLqsRl",
        "outputId": "277f7687-b178-4077-8de8-8c52b65a2324"
      },
      "source": [
        "#A10\n",
        "my_list = ['apple', 'Banana', 'Computer', 'donkey']\n",
        "for i in my_list:\n",
        "  if i[0].isupper() == False:\n",
        "    print(i)"
      ],
      "execution_count": 33,
      "outputs": [
        {
          "output_type": "stream",
          "name": "stdout",
          "text": [
            "apple\n",
            "donkey\n"
          ]
        }
      ]
    },
    {
      "cell_type": "code",
      "metadata": {
        "colab": {
          "base_uri": "https://localhost:8080/"
        },
        "id": "4Lv4YLkyq5QC",
        "outputId": "82986fad-2cd1-4731-b784-b1441b111302"
      },
      "source": [
        "#A11\n",
        "files = ['biology.ppt', 'economics.txt', 'linguistics.hwp', 'mathematics.xlsx', 'statistics.hwp']\n",
        "for count,value in enumerate(files):\n",
        "  if value.endswith('hwp'):\n",
        "    print('{}번 파일: {}'.format(count+1, value))"
      ],
      "execution_count": 38,
      "outputs": [
        {
          "output_type": "stream",
          "name": "stdout",
          "text": [
            "3번 파일: linguistics.hwp\n",
            "5번 파일: statistics.hwp\n"
          ]
        }
      ]
    },
    {
      "cell_type": "code",
      "metadata": {
        "colab": {
          "base_uri": "https://localhost:8080/"
        },
        "id": "Yo1yJX_n1t_x",
        "outputId": "ca91ccec-be45-4095-b313-9973da41fadd"
      },
      "source": [
        "#A12\n",
        "for i in range(10):\n",
        "  print(10-i)"
      ],
      "execution_count": 41,
      "outputs": [
        {
          "output_type": "stream",
          "name": "stdout",
          "text": [
            "10\n",
            "9\n",
            "8\n",
            "7\n",
            "6\n",
            "5\n",
            "4\n",
            "3\n",
            "2\n",
            "1\n"
          ]
        }
      ]
    },
    {
      "cell_type": "code",
      "metadata": {
        "colab": {
          "base_uri": "https://localhost:8080/"
        },
        "id": "xoQgPijT2AA1",
        "outputId": "037e159d-9515-44cf-ec6b-8f98f59bab8e"
      },
      "source": [
        "#A13\n",
        "sum = 0\n",
        "for i in range(1,11):\n",
        "  sum = sum +i\n",
        "print('합계:',sum)"
      ],
      "execution_count": 46,
      "outputs": [
        {
          "output_type": "stream",
          "name": "stdout",
          "text": [
            "합계: 55\n"
          ]
        }
      ]
    },
    {
      "cell_type": "code",
      "metadata": {
        "colab": {
          "base_uri": "https://localhost:8080/"
        },
        "id": "DEgA1t8h3bXm",
        "outputId": "fae0d94b-972f-40eb-e073-71f99f65ac87"
      },
      "source": [
        "#A14\n",
        "my_list = [\"가\", \"나\", \"다\", \"라\"]\n",
        "s=''\n",
        "for i in range(3):\n",
        "  s = my_list[i]+\" \"+my_list[i+1]\n",
        "  print(s)"
      ],
      "execution_count": 49,
      "outputs": [
        {
          "output_type": "stream",
          "name": "stdout",
          "text": [
            "가 나\n",
            "나 다\n",
            "다 라\n"
          ]
        }
      ]
    },
    {
      "cell_type": "code",
      "metadata": {
        "colab": {
          "base_uri": "https://localhost:8080/"
        },
        "id": "8qDjjvI24DIL",
        "outputId": "19ecd531-03c4-4771-a63b-42101f101c7a"
      },
      "source": [
        "#A15\n",
        "apart = [ [101, 102], [201, 202], [301, 302] ]\n",
        "for i in apart:\n",
        "  s = '{} 호\\n{} 호\\n-----'.format(i[0],i[1])\n",
        "  print(s)"
      ],
      "execution_count": 52,
      "outputs": [
        {
          "output_type": "stream",
          "name": "stdout",
          "text": [
            "101 호\n",
            "102 호\n",
            "-----\n",
            "201 호\n",
            "202 호\n",
            "-----\n",
            "301 호\n",
            "302 호\n",
            "-----\n"
          ]
        }
      ]
    },
    {
      "cell_type": "code",
      "metadata": {
        "colab": {
          "base_uri": "https://localhost:8080/"
        },
        "id": "JNee-GA_5BQN",
        "outputId": "77bd8d75-8a5b-4139-d31f-25b07b9f9e7f"
      },
      "source": [
        "#A16\n",
        "day = [ ['월', '화'], ['수', '목'], ['토', '일'] ]\n",
        "for i in day:\n",
        "  for j in i:\n",
        "    s = '{}요일'.format(j)\n",
        "    print(s)"
      ],
      "execution_count": 56,
      "outputs": [
        {
          "output_type": "stream",
          "name": "stdout",
          "text": [
            "월요일\n",
            "화요일\n",
            "수요일\n",
            "목요일\n",
            "토요일\n",
            "일요일\n"
          ]
        }
      ]
    },
    {
      "cell_type": "code",
      "metadata": {
        "colab": {
          "base_uri": "https://localhost:8080/"
        },
        "id": "Hj61X_B15r1Z",
        "outputId": "b4e5b87d-a923-4b30-c53e-a12ae5a934b8"
      },
      "source": [
        "#A17\n",
        "my_list = [\n",
        "    [ 2000,  3050,  2050,  1980],\n",
        "    [ 7500,  2050,  2050,  1980],\n",
        "    [15450, 15050, 15550, 14900]\n",
        "]\n",
        "new_list = []\n",
        "for i in my_list:\n",
        "  for j in i:\n",
        "    new_list.append(j)\n",
        "print(new_list)"
      ],
      "execution_count": 57,
      "outputs": [
        {
          "output_type": "stream",
          "name": "stdout",
          "text": [
            "[2000, 3050, 2050, 1980, 7500, 2050, 2050, 1980, 15450, 15050, 15550, 14900]\n"
          ]
        }
      ]
    },
    {
      "cell_type": "code",
      "metadata": {
        "colab": {
          "base_uri": "https://localhost:8080/"
        },
        "id": "phsHppts68Uy",
        "outputId": "7af35194-879d-42ea-9af6-e9beb247c974"
      },
      "source": [
        "#A18\n",
        "a = input(\"원하는 메뉴를 입력하세요. 주문완료시 '완료'를 입력하세요:\")\n",
        "count = 0\n",
        "cost = 0\n",
        "while a != \"완료\":\n",
        "  count += 1\n",
        "  if a == \"아메리카노\":\n",
        "    cost += 2000\n",
        "  elif a == \"카페라떼\":\n",
        "    cost += 2500\n",
        "  elif a == \"밀크티\":\n",
        "    cost += 3000\n",
        "  elif a == \"베이글\":\n",
        "    cost += 3000\n",
        "  elif a == \"모닝세트\":\n",
        "    cost += 3500\n",
        "  print('{}를 입력하셨습니다'.format(a))\n",
        "  a = input('원하는 메뉴를 입력하세요. 주문완료시 \"완료\"를 입력하세요:')\n",
        "\n",
        "print('총 {} 가지 메뉴 주문하셨으며, 총 금액은 {} 입니다\\n감사합니다!'.format(count,cost))"
      ],
      "execution_count": 61,
      "outputs": [
        {
          "output_type": "stream",
          "name": "stdout",
          "text": [
            "원하는 메뉴를 입력하세요. 주문완료시 '완료'를 입력하세요:아메리카노\n",
            "아메리카노를 입력하셨습니다\n",
            "원하는 메뉴를 입력하세요. 주문완료시 \"완료\"를 입력하세요:베이글\n",
            "베이글를 입력하셨습니다\n",
            "원하는 메뉴를 입력하세요. 주문완료시 \"완료\"를 입력하세요:밀크티\n",
            "밀크티를 입력하셨습니다\n",
            "원하는 메뉴를 입력하세요. 주문완료시 \"완료\"를 입력하세요:완료\n",
            "총 3 가지 메뉴 주문하셨으며, 총 금액은 8000 입니다\n",
            "감사합니다!\n"
          ]
        }
      ]
    },
    {
      "cell_type": "code",
      "metadata": {
        "colab": {
          "base_uri": "https://localhost:8080/"
        },
        "id": "NgFFHDuz9n2R",
        "outputId": "97c4e0f0-fbd2-416c-f701-94314ec03138"
      },
      "source": [
        "#A19\n",
        "num = int(input('숫자를 입력하세요: '))\n",
        "if num%2 == 0:\n",
        "  print(\"짝수\")\n",
        "else:\n",
        "  print(\"홀수\")"
      ],
      "execution_count": 64,
      "outputs": [
        {
          "output_type": "stream",
          "name": "stdout",
          "text": [
            "숫자를 입력하세요: 30\n",
            "짝수\n"
          ]
        }
      ]
    },
    {
      "cell_type": "code",
      "metadata": {
        "colab": {
          "base_uri": "https://localhost:8080/"
        },
        "id": "djzANWlb-AiO",
        "outputId": "aa527a59-083c-4b8a-e6b4-85ac09ddd267"
      },
      "source": [
        "#A20\n",
        "ice = {'비비빅': 1000, '누가바': 1500, '와': 2000}\n",
        "a = input(\"아이스크림 가격을 알려드립니다:\")\n",
        "if a in ice.keys():\n",
        "  print(ice[a])\n",
        "else:\n",
        "  print(\"알수없음\")"
      ],
      "execution_count": 65,
      "outputs": [
        {
          "output_type": "stream",
          "name": "stdout",
          "text": [
            "아이스크림 가격을 알려드립니다:누가바\n",
            "1500\n"
          ]
        }
      ]
    },
    {
      "cell_type": "code",
      "metadata": {
        "colab": {
          "base_uri": "https://localhost:8080/"
        },
        "id": "xNiKFrzg_qLG",
        "outputId": "a196b4f8-9098-4bf8-c168-5578d0da59b6"
      },
      "source": [
        "#A21\n",
        "score = int(input(\"점수를 입력하세요:\"))\n",
        "if 81<=score<=100:\n",
        "  print('grade is A')\n",
        "elif 61<=score<=80:\n",
        "  print('grade is B')\n",
        "elif 41<=score<=60:\n",
        "  print('grade is C')\n",
        "elif 21<=score<=40:\n",
        "  print('grade is D')\n",
        "elif 0<=score<=20:\n",
        "  print('grade is E') "
      ],
      "execution_count": 67,
      "outputs": [
        {
          "output_type": "stream",
          "name": "stdout",
          "text": [
            "점수를 입력하세요:83\n",
            "grade is A\n"
          ]
        }
      ]
    },
    {
      "cell_type": "code",
      "metadata": {
        "colab": {
          "base_uri": "https://localhost:8080/"
        },
        "id": "yAzlHuZDAlsV",
        "outputId": "c9919080-5942-4ecc-d61f-00b1555c617d"
      },
      "source": [
        "#A22\n",
        "a = input(\"금액을 입력하세요: \")\n",
        "cost, kind = a.split(\" \")\n",
        "cost = float(cost)\n",
        "if kind == \"달러\":\n",
        "  won = cost*1167\n",
        "elif kind ==\"엔\":\n",
        "  won = cost*1.096\n",
        "elif kind ==\"유로\":\n",
        "  won = cost*1268\n",
        "elif kind ==\"위안\":\n",
        "  won = cost*171\n",
        "print(\"{:.2f} 원\".format(won))"
      ],
      "execution_count": 76,
      "outputs": [
        {
          "output_type": "stream",
          "name": "stdout",
          "text": [
            "금액을 입력하세요: 100 달러\n",
            "116700.00 원\n"
          ]
        }
      ]
    },
    {
      "cell_type": "code",
      "metadata": {
        "colab": {
          "base_uri": "https://localhost:8080/"
        },
        "id": "gR26gOJxB2DI",
        "outputId": "283e52f7-36aa-49b6-ef76-7e59b754ec17"
      },
      "source": [
        "#A23\n",
        "brand_list = ['커피빈', '투썸플레이스', '탐앤탐스']\n",
        "brand = input(\"브랜드를 입력하세요: \")\n",
        "if brand in brand_list:\n",
        "  print(\"이미 존재합니다\")\n",
        "else:\n",
        "  brand_list.append(brand)\n",
        "  print(\"{}를 추가하였습니다\".format(brand))\n",
        "  print(brand_list)"
      ],
      "execution_count": 70,
      "outputs": [
        {
          "output_type": "stream",
          "name": "stdout",
          "text": [
            "브랜드를 입력하세요: 커피빈\n",
            "이미 존재합니다\n"
          ]
        }
      ]
    },
    {
      "cell_type": "code",
      "metadata": {
        "colab": {
          "base_uri": "https://localhost:8080/"
        },
        "id": "9zaVJot8DK2U",
        "outputId": "626573ab-c18b-4a99-f815-0c5f6e6f5dcc"
      },
      "source": [
        "#A24\n",
        "def operator(x,y):\n",
        "  print('{} + {} = {}'.format(x,y,x+y))\n",
        "  print('{} - {} = {}'.format(x,y,x-y))\n",
        "  print('{} * {} = {}'.format(x,y,x*y))\n",
        "  print('{} / {} = {}'.format(x,y,x/y))\n",
        "operator(4,5)"
      ],
      "execution_count": 71,
      "outputs": [
        {
          "output_type": "stream",
          "name": "stdout",
          "text": [
            "4 + 5 = 9\n",
            "4 - 5 = -1\n",
            "4 * 5 = 20\n",
            "4 / 5 = 0.8\n"
          ]
        }
      ]
    },
    {
      "cell_type": "code",
      "metadata": {
        "colab": {
          "base_uri": "https://localhost:8080/"
        },
        "id": "hzSwZ15xDsKL",
        "outputId": "8b0fdfbb-8a7b-4ce6-93a9-8a785e7a0321"
      },
      "source": [
        "#A25\n",
        "menu = {'아메리카노':2000, '카페라떼':2500, '밀크티':3000, '카푸치노':3500, \n",
        "        '아이스티':2500, '연유라떼':2500, '바닐라라떼':3500, '카페모카':3500,\n",
        "        '카라멜마끼아또':4000, '레몬에이드':3000, '자몽에이드':3000}\n",
        "def order(*args):\n",
        "  for i in args:\n",
        "    if i in menu.keys():\n",
        "      print(\"{}는 {}원입니다.\".format(i,menu[i]))\n",
        "    else:\n",
        "      print(\"{}는 판매하지 않습니다.\".format(i))\n",
        "order('아메리카노', '카페라떼', '아포가토', '카푸치노')"
      ],
      "execution_count": 73,
      "outputs": [
        {
          "output_type": "stream",
          "name": "stdout",
          "text": [
            "아메리카노는 2000원입니다.\n",
            "카페라떼는 2500원입니다.\n",
            "아포가토는 판매하지 않습니다.\n",
            "카푸치노는 3500원입니다.\n"
          ]
        }
      ]
    }
  ]
}