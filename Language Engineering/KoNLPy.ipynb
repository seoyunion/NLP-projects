{
 "cells": [
  {
   "cell_type": "code",
   "execution_count": 18,
   "id": "cb733552",
   "metadata": {},
   "outputs": [],
   "source": [
    "from konlpy.tag import Kkma, Hannanum, Komoran, Okt"
   ]
  },
  {
   "cell_type": "code",
   "execution_count": 19,
   "id": "eb285102",
   "metadata": {},
   "outputs": [],
   "source": [
    "kkma = Kkma()\n",
    "hannanum = Hannanum()\n",
    "komoran = Komoran()\n",
    "okt = Okt()"
   ]
  },
  {
   "cell_type": "code",
   "execution_count": 13,
   "id": "abc1798a",
   "metadata": {},
   "outputs": [],
   "source": [
    "text = \"안녕하세요 제 이름은 김뫄뫄입니다.\""
   ]
  },
  {
   "cell_type": "code",
   "execution_count": 14,
   "id": "92d525d0",
   "metadata": {},
   "outputs": [
    {
     "name": "stdout",
     "output_type": "stream",
     "text": [
      "['안녕', '하', '세요', '저', '의', '이름', '은', '김', '모', '아', '모', '아', '일', 'ㅂ니다', '.']\n"
     ]
    }
   ],
   "source": [
    "print(kkma.morphs(text)) #분리만 해줌"
   ]
  },
  {
   "cell_type": "code",
   "execution_count": 16,
   "id": "00bef940",
   "metadata": {},
   "outputs": [
    {
     "name": "stdout",
     "output_type": "stream",
     "text": [
      "[('안녕', 'NNG'), ('하', 'XSV'), ('세요', 'EFN'), ('저', 'NP'), ('의', 'JKG'), ('이름', 'NNG'), ('은', 'JX'), ('김', 'NNG'), ('모', 'VV'), ('아', 'ECS'), ('모', 'VV'), ('아', 'ECS'), ('일', 'VV'), ('ㅂ니다', 'EFN'), ('.', 'SF')]\n"
     ]
    }
   ],
   "source": [
    "print(kkma.pos(text)) #분리 + 품사 태깅"
   ]
  },
  {
   "cell_type": "code",
   "execution_count": 11,
   "id": "5c3a2ff3",
   "metadata": {},
   "outputs": [
    {
     "name": "stdout",
     "output_type": "stream",
     "text": [
      "{'EC': '연결 어미', 'ECD': '의존적 연결 어미', 'ECE': '대등 연결 어미', 'ECS': '보조적 연결 어미', 'EF': '종결 어미', 'EFA': '청유형 종결 어미', 'EFI': '감탄형 종결 어미', 'EFN': '평서형 종결 어미', 'EFO': '명령형 종결 어미', 'EFQ': '의문형 종결 어미', 'EFR': '존칭형 종결 어미', 'EP': '선어말 어미', 'EPH': '존칭 선어말 어미', 'EPP': '공손 선어말 어미', 'EPT': '시제 선어말 어미', 'ET': '전성 어미', 'ETD': '관형형 전성 어미', 'ETN': '명사형 전성 어미', 'IC': '감탄사', 'JC': '접속 조사', 'JK': '조사', 'JKC': '보격 조사', 'JKG': '관형격 조사', 'JKI': '호격 조사', 'JKM': '부사격 조사', 'JKO': '목적격 조사', 'JKQ': '인용격 조사', 'JKS': '주격 조사', 'JX': '보조사', 'MA': '부사', 'MAC': '접속 부사', 'MAG': '일반 부사', 'MD': '관형사', 'MDN': '수 관형사', 'MDT': '일반 관형사', 'NN': '명사', 'NNB': '일반 의존 명사', 'NNG': '보통명사', 'NNM': '단위 의존 명사', 'NNP': '고유명사', 'NP': '대명사', 'NR': '수사', 'OH': '한자', 'OL': '외국어', 'ON': '숫자', 'SE': '줄임표', 'SF': '마침표, 물음표, 느낌표', 'SO': '붙임표(물결,숨김,빠짐)', 'SP': '쉼표,가운뎃점,콜론,빗금', 'SS': '따옴표,괄호표,줄표', 'SW': '기타기호 (논리수학기호,화폐기호)', 'UN': '명사추정범주', 'VA': '형용사', 'VC': '지정사', 'VCN': \"부정 지정사, 형용사 '아니다'\", 'VCP': \"긍정 지정사, 서술격 조사 '이다'\", 'VV': '동사', 'VX': '보조 용언', 'VXA': '보조 형용사', 'VXV': '보조 동사', 'XP': '접두사', 'XPN': '체언 접두사', 'XPV': '용언 접두사', 'XR': '어근', 'XSA': '형용사 파생 접미사', 'XSN': '명사파생 접미사', 'XSV': '동사 파생 접미사'}\n"
     ]
    }
   ],
   "source": [
    "print(kkma.tagset) #품사 태깅 유형 확인"
   ]
  },
  {
   "cell_type": "code",
   "execution_count": 20,
   "id": "f3fc48a4",
   "metadata": {},
   "outputs": [
    {
     "name": "stdout",
     "output_type": "stream",
     "text": [
      "['안녕', '저', '이름', '김']\n"
     ]
    }
   ],
   "source": [
    "print(kkma.nouns(text))"
   ]
  },
  {
   "cell_type": "code",
   "execution_count": 21,
   "id": "75bcaf95",
   "metadata": {},
   "outputs": [
    {
     "name": "stdout",
     "output_type": "stream",
     "text": [
      "['안녕', '하', '세', '요', '저', '의', '이름', '은', '김뫄뫄입니', '이', '다', '.']\n"
     ]
    }
   ],
   "source": [
    "print(hannanum.morphs(text))"
   ]
  },
  {
   "cell_type": "code",
   "execution_count": 22,
   "id": "208c5c72",
   "metadata": {},
   "outputs": [
    {
     "name": "stdout",
     "output_type": "stream",
     "text": [
      "['안녕하세요', '제', '이름', '은', '김뫄뫄입니다.']\n"
     ]
    }
   ],
   "source": [
    "print(komoran.morphs(text))"
   ]
  },
  {
   "cell_type": "code",
   "execution_count": 25,
   "id": "63bd2129",
   "metadata": {},
   "outputs": [
    {
     "name": "stdout",
     "output_type": "stream",
     "text": [
      "['안녕하세요', '제', '이름', '은', '김', '뫄뫄', '입니다', '.']\n"
     ]
    }
   ],
   "source": [
    "print(okt.morphs(text))"
   ]
  }
 ],
 "metadata": {
  "kernelspec": {
   "display_name": "Python 3",
   "language": "python",
   "name": "python3"
  },
  "language_info": {
   "codemirror_mode": {
    "name": "ipython",
    "version": 3
   },
   "file_extension": ".py",
   "mimetype": "text/x-python",
   "name": "python",
   "nbconvert_exporter": "python",
   "pygments_lexer": "ipython3",
   "version": "3.8.8"
  }
 },
 "nbformat": 4,
 "nbformat_minor": 5
}
