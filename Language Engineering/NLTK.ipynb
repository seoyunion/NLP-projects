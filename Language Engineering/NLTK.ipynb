{
 "cells": [
  {
   "cell_type": "markdown",
   "id": "7fed8725",
   "metadata": {},
   "source": [
    "# NLTK"
   ]
  },
  {
   "cell_type": "code",
   "execution_count": 1,
   "id": "7891acc1",
   "metadata": {},
   "outputs": [
    {
     "name": "stdout",
     "output_type": "stream",
     "text": [
      "Requirement already satisfied: nltk in c:\\users\\user\\anaconda3\\lib\\site-packages (3.6.1)\n",
      "Requirement already satisfied: joblib in c:\\users\\user\\anaconda3\\lib\\site-packages (from nltk) (1.0.1)\n",
      "Requirement already satisfied: tqdm in c:\\users\\user\\anaconda3\\lib\\site-packages (from nltk) (4.59.0)\n",
      "Requirement already satisfied: click in c:\\users\\user\\anaconda3\\lib\\site-packages (from nltk) (7.1.2)\n",
      "Requirement already satisfied: regex in c:\\users\\user\\anaconda3\\lib\\site-packages (from nltk) (2021.4.4)\n"
     ]
    }
   ],
   "source": [
    "#! pip install nltk"
   ]
  },
  {
   "cell_type": "code",
   "execution_count": 1,
   "id": "6b29a45b",
   "metadata": {},
   "outputs": [],
   "source": [
    "import nltk"
   ]
  },
  {
   "cell_type": "code",
   "execution_count": null,
   "id": "5ad401b2",
   "metadata": {},
   "outputs": [
    {
     "name": "stdout",
     "output_type": "stream",
     "text": [
      "showing info https://raw.githubusercontent.com/nltk/nltk_data/gh-pages/index.xml\n"
     ]
    }
   ],
   "source": [
    "#nltk.download('all')"
   ]
  },
  {
   "cell_type": "markdown",
   "id": "459372ce",
   "metadata": {},
   "source": [
    "## Corpus\n",
    "- NLTK 내에 있는 코퍼스를 다룰 수 있음."
   ]
  },
  {
   "cell_type": "code",
   "execution_count": 3,
   "id": "04e7b854",
   "metadata": {},
   "outputs": [],
   "source": [
    "from nltk.corpus import *"
   ]
  },
  {
   "cell_type": "code",
   "execution_count": 4,
   "id": "c7da7925",
   "metadata": {},
   "outputs": [],
   "source": [
    "files = gutenberg.fileids()"
   ]
  },
  {
   "cell_type": "code",
   "execution_count": 5,
   "id": "aaeb182c",
   "metadata": {},
   "outputs": [
    {
     "name": "stdout",
     "output_type": "stream",
     "text": [
      "['austen-emma.txt', 'austen-persuasion.txt', 'austen-sense.txt', 'bible-kjv.txt', 'blake-poems.txt', 'bryant-stories.txt', 'burgess-busterbrown.txt', 'carroll-alice.txt', 'chesterton-ball.txt', 'chesterton-brown.txt', 'chesterton-thursday.txt', 'edgeworth-parents.txt', 'melville-moby_dick.txt', 'milton-paradise.txt', 'shakespeare-caesar.txt', 'shakespeare-hamlet.txt', 'shakespeare-macbeth.txt', 'whitman-leaves.txt']\n"
     ]
    }
   ],
   "source": [
    "print(files)"
   ]
  },
  {
   "cell_type": "code",
   "execution_count": 6,
   "id": "8442c390",
   "metadata": {},
   "outputs": [],
   "source": [
    "corpus1 = gutenberg.open(\"austen-emma.txt\").read()"
   ]
  },
  {
   "cell_type": "code",
   "execution_count": 8,
   "id": "5878e7bc",
   "metadata": {},
   "outputs": [],
   "source": [
    "corpus2 = gutenberg.raw(\"austen-sense.txt\")"
   ]
  },
  {
   "cell_type": "code",
   "execution_count": 9,
   "id": "fe6b06d2",
   "metadata": {},
   "outputs": [
    {
     "data": {
      "text/plain": [
       "str"
      ]
     },
     "execution_count": 9,
     "metadata": {},
     "output_type": "execute_result"
    }
   ],
   "source": [
    "type(corpus1)"
   ]
  },
  {
   "cell_type": "markdown",
   "id": "09683697",
   "metadata": {},
   "source": [
    "## Tokenization\n",
    "- 자연어 분석을 위해 우선 긴 문자열을 작은 단위(토큰, Token)로 쪼개는 작업\n",
    "* 문장 단위 -> sentence tokenize\n",
    "* 단어 단위 -> word tokenize"
   ]
  },
  {
   "cell_type": "code",
   "execution_count": 10,
   "id": "3d9d9a14",
   "metadata": {},
   "outputs": [],
   "source": [
    "text = \"Hello everyone! Roday we will learn Python. Shall we start?\""
   ]
  },
  {
   "cell_type": "code",
   "execution_count": 11,
   "id": "7041093c",
   "metadata": {},
   "outputs": [],
   "source": [
    "from nltk.tokenize import sent_tokenize #문장단위 분할"
   ]
  },
  {
   "cell_type": "code",
   "execution_count": 12,
   "id": "84115fe6",
   "metadata": {},
   "outputs": [
    {
     "name": "stdout",
     "output_type": "stream",
     "text": [
      "['Hello everyone!', 'Roday we will learn Python.', 'Shall we start?']\n"
     ]
    }
   ],
   "source": [
    "print(sent_tokenize(text))"
   ]
  },
  {
   "cell_type": "code",
   "execution_count": 13,
   "id": "ba10efc4",
   "metadata": {},
   "outputs": [],
   "source": [
    "from nltk.tokenize import word_tokenize #단어단위 분할"
   ]
  },
  {
   "cell_type": "code",
   "execution_count": 14,
   "id": "b8504b2c",
   "metadata": {},
   "outputs": [
    {
     "name": "stdout",
     "output_type": "stream",
     "text": [
      "['Hello', 'everyone', '!', 'Roday', 'we', 'will', 'learn', 'Python', '.', 'Shall', 'we', 'start', '?']\n"
     ]
    }
   ],
   "source": [
    "print(word_tokenize(text))"
   ]
  },
  {
   "cell_type": "markdown",
   "id": "740cf5c0",
   "metadata": {},
   "source": [
    "#### 다양한 Tokenization"
   ]
  },
  {
   "cell_type": "code",
   "execution_count": 15,
   "id": "b9dc6964",
   "metadata": {},
   "outputs": [],
   "source": [
    "text = \"He's my father-in-law\""
   ]
  },
  {
   "cell_type": "code",
   "execution_count": 17,
   "id": "21233cbe",
   "metadata": {},
   "outputs": [
    {
     "data": {
      "text/plain": [
       "['He', \"'s\", 'my', 'father-in-law']"
      ]
     },
     "execution_count": 17,
     "metadata": {},
     "output_type": "execute_result"
    }
   ],
   "source": [
    "from nltk.tokenize import TreebankWordTokenizer #Penn Treebank 기반. 하이픈 분리 X\n",
    "tbt = TreebankWordTokenizer()\n",
    "tbt.tokenize(text)"
   ]
  },
  {
   "cell_type": "code",
   "execution_count": 19,
   "id": "e02c4e6b",
   "metadata": {},
   "outputs": [
    {
     "data": {
      "text/plain": [
       "['He', \"'\", 's', 'my', 'father', '-', 'in', '-', 'law']"
      ]
     },
     "execution_count": 19,
     "metadata": {},
     "output_type": "execute_result"
    }
   ],
   "source": [
    "from nltk.tokenize import WordPunctTokenizer #모든 구두점으로 분리\n",
    "tbt = WordPunctTokenizer()\n",
    "tbt.tokenize(text)"
   ]
  },
  {
   "cell_type": "code",
   "execution_count": 21,
   "id": "84d82048",
   "metadata": {},
   "outputs": [
    {
     "data": {
      "text/plain": [
       "[\"He's\", 'my', 'father', 'in', 'law']"
      ]
     },
     "execution_count": 21,
     "metadata": {},
     "output_type": "execute_result"
    }
   ],
   "source": [
    "from nltk.tokenize import RegexpTokenizer #정규표현식 이용해 분리\n",
    "tbt = RegexpTokenizer(\"[\\w']+\")\n",
    "tbt.tokenize(text)"
   ]
  },
  {
   "cell_type": "code",
   "execution_count": 22,
   "id": "ee5a443c",
   "metadata": {},
   "outputs": [
    {
     "data": {
      "text/plain": [
       "[\"He's\", 'my', 'father-in-law']"
      ]
     },
     "execution_count": 22,
     "metadata": {},
     "output_type": "execute_result"
    }
   ],
   "source": [
    "from nltk.tokenize import WhitespaceTokenizer #공백을 이용해 분리\n",
    "tbt = WhitespaceTokenizer()\n",
    "tbt.tokenize(text)"
   ]
  },
  {
   "cell_type": "markdown",
   "id": "4df01f5d",
   "metadata": {},
   "source": [
    "### 형태소: 의미를 갖는 가장 작은 단위\n",
    "### 형태소 분석\n",
    "* 어간 추출\n",
    "* 원형 복원\n",
    "* 품사 태깅"
   ]
  },
  {
   "cell_type": "markdown",
   "id": "78c8d0e9",
   "metadata": {},
   "source": [
    "## Stemming & Lemmatizing"
   ]
  },
  {
   "cell_type": "markdown",
   "id": "2b2b9153",
   "metadata": {},
   "source": [
    "### Stemming: 어간 추출\n",
    "- 변화된 단어의 접미사나 어미를 제거하여, 같은 의미를 가지는 형태소의 기본형을 찾는 작업\n",
    "* Porterstemmer\n",
    "* LancasterStemmer\n",
    "* RegexpStemmer\n",
    "* SnowballStemmer (German)"
   ]
  },
  {
   "cell_type": "code",
   "execution_count": 23,
   "id": "6414dbb8",
   "metadata": {},
   "outputs": [
    {
     "name": "stdout",
     "output_type": "stream",
     "text": [
      "wait\n",
      "wait\n",
      "wait\n",
      "wait\n"
     ]
    }
   ],
   "source": [
    "words = ['wait', 'waiting', 'waited', 'waits']\n",
    "from nltk.stem import PorterStemmer\n",
    "ps = PorterStemmer()\n",
    "for word in words:\n",
    "    word_stemmed = ps.stem(word)\n",
    "    print(word_stemmed)"
   ]
  },
  {
   "cell_type": "code",
   "execution_count": 25,
   "id": "ce6931aa",
   "metadata": {},
   "outputs": [
    {
     "name": "stdout",
     "output_type": "stream",
     "text": [
      "appl watch seri 6 improv perform through redesign hargwar that pack even more featur and power into the same imposs small design . \n"
     ]
    }
   ],
   "source": [
    "sent = \"Apple Watch Series 6 improves performance through redesigned hargware that packs even more features and power into the same impossively small design.\"\n",
    "from nltk.stem import PorterStemmer\n",
    "ps = PorterStemmer()\n",
    "sent_stemmed = \"\"\n",
    "words = word_tokenize(sent)\n",
    "for word in words:\n",
    "    word_stemmed = ps.stem(word)\n",
    "    sent_stemmed += word_stemmed + \" \"\n",
    "print(sent_stemmed)"
   ]
  },
  {
   "cell_type": "markdown",
   "id": "ef18b622",
   "metadata": {},
   "source": [
    "### Lemmatizing: 원형 복원\n",
    "- 같은 의미를 가지는 여러 단어를 사전형(Lemma)으로 통일하는 작업\n",
    "* WordNetLemmatizer"
   ]
  },
  {
   "cell_type": "code",
   "execution_count": 27,
   "id": "594df45e",
   "metadata": {},
   "outputs": [
    {
     "name": "stdout",
     "output_type": "stream",
     "text": [
      "studying\n",
      "study\n",
      "cry\n",
      "cry\n"
     ]
    }
   ],
   "source": [
    "words = ['studying', 'studies', 'crying', 'cries']\n",
    "from nltk.stem import WordNetLemmatizer\n",
    "wnl = WordNetLemmatizer()\n",
    "for word in words:\n",
    "    word_lemmatized = wnl.lemmatize(word)\n",
    "    print(word_lemmatized)"
   ]
  },
  {
   "cell_type": "code",
   "execution_count": 28,
   "id": "ce1fda9a",
   "metadata": {},
   "outputs": [
    {
     "name": "stdout",
     "output_type": "stream",
     "text": [
      "Apple Watch Series 6 improves performance through redesigned hargware that pack even more feature and power into the same impossively small design . \n"
     ]
    }
   ],
   "source": [
    "sent = \"Apple Watch Series 6 improves performance through redesigned hargware that packs even more features and power into the same impossively small design.\"\n",
    "from nltk.stem import WordNetLemmatizer\n",
    "wnl = WordNetLemmatizer()\n",
    "sent_lemmatized = \"\"\n",
    "words = word_tokenize(sent)\n",
    "for word in words:\n",
    "    word_lemmatized = wnl.lemmatize(word)\n",
    "    sent_lemmatized += word_lemmatized + \" \"\n",
    "print(sent_lemmatized)"
   ]
  },
  {
   "cell_type": "markdown",
   "id": "bdedeb0e",
   "metadata": {},
   "source": [
    "## POS Tagging\n",
    "- 낱말을 문법적인 기능이나 형태, 뜻에 따라 구분\n",
    "- 품사의 구분은 언어/연구자/분석기마다 다름(NLTK는 Penn Treebank Tagset 이용)\n",
    "- 태그셋에 대한 자세한 설명 확인 가능"
   ]
  },
  {
   "cell_type": "code",
   "execution_count": 29,
   "id": "d82469fc",
   "metadata": {},
   "outputs": [
    {
     "name": "stdout",
     "output_type": "stream",
     "text": [
      "$: dollar\n",
      "    $ -$ --$ A$ C$ HK$ M$ NZ$ S$ U.S.$ US$\n",
      "'': closing quotation mark\n",
      "    ' ''\n",
      "(: opening parenthesis\n",
      "    ( [ {\n",
      "): closing parenthesis\n",
      "    ) ] }\n",
      ",: comma\n",
      "    ,\n",
      "--: dash\n",
      "    --\n",
      ".: sentence terminator\n",
      "    . ! ?\n",
      ":: colon or ellipsis\n",
      "    : ; ...\n",
      "CC: conjunction, coordinating\n",
      "    & 'n and both but either et for less minus neither nor or plus so\n",
      "    therefore times v. versus vs. whether yet\n",
      "CD: numeral, cardinal\n",
      "    mid-1890 nine-thirty forty-two one-tenth ten million 0.5 one forty-\n",
      "    seven 1987 twenty '79 zero two 78-degrees eighty-four IX '60s .025\n",
      "    fifteen 271,124 dozen quintillion DM2,000 ...\n",
      "DT: determiner\n",
      "    all an another any both del each either every half la many much nary\n",
      "    neither no some such that the them these this those\n",
      "EX: existential there\n",
      "    there\n",
      "FW: foreign word\n",
      "    gemeinschaft hund ich jeux habeas Haementeria Herr K'ang-si vous\n",
      "    lutihaw alai je jour objets salutaris fille quibusdam pas trop Monte\n",
      "    terram fiche oui corporis ...\n",
      "IN: preposition or conjunction, subordinating\n",
      "    astride among uppon whether out inside pro despite on by throughout\n",
      "    below within for towards near behind atop around if like until below\n",
      "    next into if beside ...\n",
      "JJ: adjective or numeral, ordinal\n",
      "    third ill-mannered pre-war regrettable oiled calamitous first separable\n",
      "    ectoplasmic battery-powered participatory fourth still-to-be-named\n",
      "    multilingual multi-disciplinary ...\n",
      "JJR: adjective, comparative\n",
      "    bleaker braver breezier briefer brighter brisker broader bumper busier\n",
      "    calmer cheaper choosier cleaner clearer closer colder commoner costlier\n",
      "    cozier creamier crunchier cuter ...\n",
      "JJS: adjective, superlative\n",
      "    calmest cheapest choicest classiest cleanest clearest closest commonest\n",
      "    corniest costliest crassest creepiest crudest cutest darkest deadliest\n",
      "    dearest deepest densest dinkiest ...\n",
      "LS: list item marker\n",
      "    A A. B B. C C. D E F First G H I J K One SP-44001 SP-44002 SP-44005\n",
      "    SP-44007 Second Third Three Two * a b c d first five four one six three\n",
      "    two\n",
      "MD: modal auxiliary\n",
      "    can cannot could couldn't dare may might must need ought shall should\n",
      "    shouldn't will would\n",
      "NN: noun, common, singular or mass\n",
      "    common-carrier cabbage knuckle-duster Casino afghan shed thermostat\n",
      "    investment slide humour falloff slick wind hyena override subhumanity\n",
      "    machinist ...\n",
      "NNP: noun, proper, singular\n",
      "    Motown Venneboerger Czestochwa Ranzer Conchita Trumplane Christos\n",
      "    Oceanside Escobar Kreisler Sawyer Cougar Yvette Ervin ODI Darryl CTCA\n",
      "    Shannon A.K.C. Meltex Liverpool ...\n",
      "NNPS: noun, proper, plural\n",
      "    Americans Americas Amharas Amityvilles Amusements Anarcho-Syndicalists\n",
      "    Andalusians Andes Andruses Angels Animals Anthony Antilles Antiques\n",
      "    Apache Apaches Apocrypha ...\n",
      "NNS: noun, common, plural\n",
      "    undergraduates scotches bric-a-brac products bodyguards facets coasts\n",
      "    divestitures storehouses designs clubs fragrances averages\n",
      "    subjectivists apprehensions muses factory-jobs ...\n",
      "PDT: pre-determiner\n",
      "    all both half many quite such sure this\n",
      "POS: genitive marker\n",
      "    ' 's\n",
      "PRP: pronoun, personal\n",
      "    hers herself him himself hisself it itself me myself one oneself ours\n",
      "    ourselves ownself self she thee theirs them themselves they thou thy us\n",
      "PRP$: pronoun, possessive\n",
      "    her his mine my our ours their thy your\n",
      "RB: adverb\n",
      "    occasionally unabatingly maddeningly adventurously professedly\n",
      "    stirringly prominently technologically magisterially predominately\n",
      "    swiftly fiscally pitilessly ...\n",
      "RBR: adverb, comparative\n",
      "    further gloomier grander graver greater grimmer harder harsher\n",
      "    healthier heavier higher however larger later leaner lengthier less-\n",
      "    perfectly lesser lonelier longer louder lower more ...\n",
      "RBS: adverb, superlative\n",
      "    best biggest bluntest earliest farthest first furthest hardest\n",
      "    heartiest highest largest least less most nearest second tightest worst\n",
      "RP: particle\n",
      "    aboard about across along apart around aside at away back before behind\n",
      "    by crop down ever fast for forth from go high i.e. in into just later\n",
      "    low more off on open out over per pie raising start teeth that through\n",
      "    under unto up up-pp upon whole with you\n",
      "SYM: symbol\n",
      "    % & ' '' ''. ) ). * + ,. < = > @ A[fj] U.S U.S.S.R * ** ***\n",
      "TO: \"to\" as preposition or infinitive marker\n",
      "    to\n",
      "UH: interjection\n",
      "    Goodbye Goody Gosh Wow Jeepers Jee-sus Hubba Hey Kee-reist Oops amen\n",
      "    huh howdy uh dammit whammo shucks heck anyways whodunnit honey golly\n",
      "    man baby diddle hush sonuvabitch ...\n",
      "VB: verb, base form\n",
      "    ask assemble assess assign assume atone attention avoid bake balkanize\n",
      "    bank begin behold believe bend benefit bevel beware bless boil bomb\n",
      "    boost brace break bring broil brush build ...\n",
      "VBD: verb, past tense\n",
      "    dipped pleaded swiped regummed soaked tidied convened halted registered\n",
      "    cushioned exacted snubbed strode aimed adopted belied figgered\n",
      "    speculated wore appreciated contemplated ...\n",
      "VBG: verb, present participle or gerund\n",
      "    telegraphing stirring focusing angering judging stalling lactating\n",
      "    hankerin' alleging veering capping approaching traveling besieging\n",
      "    encrypting interrupting erasing wincing ...\n",
      "VBN: verb, past participle\n",
      "    multihulled dilapidated aerosolized chaired languished panelized used\n",
      "    experimented flourished imitated reunifed factored condensed sheared\n",
      "    unsettled primed dubbed desired ...\n",
      "VBP: verb, present tense, not 3rd person singular\n",
      "    predominate wrap resort sue twist spill cure lengthen brush terminate\n",
      "    appear tend stray glisten obtain comprise detest tease attract\n",
      "    emphasize mold postpone sever return wag ...\n",
      "VBZ: verb, present tense, 3rd person singular\n",
      "    bases reconstructs marks mixes displeases seals carps weaves snatches\n",
      "    slumps stretches authorizes smolders pictures emerges stockpiles\n",
      "    seduces fizzes uses bolsters slaps speaks pleads ...\n",
      "WDT: WH-determiner\n",
      "    that what whatever which whichever\n",
      "WP: WH-pronoun\n",
      "    that what whatever whatsoever which who whom whosoever\n",
      "WP$: WH-pronoun, possessive\n",
      "    whose\n",
      "WRB: Wh-adverb\n",
      "    how however whence whenever where whereby whereever wherein whereof why\n",
      "``: opening quotation mark\n",
      "    ` ``\n"
     ]
    }
   ],
   "source": [
    "nltk.help.upenn_tagset()"
   ]
  },
  {
   "cell_type": "code",
   "execution_count": 30,
   "id": "15b8ceaa",
   "metadata": {},
   "outputs": [
    {
     "name": "stdout",
     "output_type": "stream",
     "text": [
      "VB: verb, base form\n",
      "    ask assemble assess assign assume atone attention avoid bake balkanize\n",
      "    bank begin behold believe bend benefit bevel beware bless boil bomb\n",
      "    boost brace break bring broil brush build ...\n"
     ]
    }
   ],
   "source": [
    "nltk.help.upenn_tagset(\"VB\")"
   ]
  },
  {
   "cell_type": "code",
   "execution_count": 34,
   "id": "2294144b",
   "metadata": {},
   "outputs": [
    {
     "name": "stdout",
     "output_type": "stream",
     "text": [
      "[('Emma', 'NNP'), ('refused', 'VBD'), ('to', 'TO'), ('permit', 'VB'), ('us', 'PRP'), ('to', 'TO'), ('obtain', 'VB'), ('the', 'DT'), ('permit', 'NN')]\n"
     ]
    }
   ],
   "source": [
    "from nltk import pos_tag\n",
    "sent = \"Emma refused to permit us to obtain the permit\"\n",
    "words = word_tokenize(sent)\n",
    "words_pos = pos_tag(words)\n",
    "print(words_pos)"
   ]
  },
  {
   "cell_type": "code",
   "execution_count": 37,
   "id": "f6b570ba",
   "metadata": {},
   "outputs": [
    {
     "name": "stdout",
     "output_type": "stream",
     "text": [
      "('permit', 'VB')\n",
      "('obtain', 'VB')\n"
     ]
    }
   ],
   "source": [
    "from nltk import pos_tag\n",
    "sent = \"Emma refused to permit us to obtain the permit\"\n",
    "words = word_tokenize(sent)\n",
    "words_pos = pos_tag(words)\n",
    "for word_pos in words_pos:\n",
    "    if \"VB\" in word_pos:\n",
    "        print(word_pos)"
   ]
  },
  {
   "cell_type": "markdown",
   "id": "d3d20cd8",
   "metadata": {},
   "source": [
    "### Stopwords: 불용어 제거\n",
    "- 자주 등장하지만 문장 분석에는 큰 도움이 되지 않는 단어들\n",
    "- 불용어 리스트를 만들어 사용하는 경우가 많음"
   ]
  },
  {
   "cell_type": "code",
   "execution_count": 40,
   "id": "5c7ab783",
   "metadata": {},
   "outputs": [
    {
     "name": "stdout",
     "output_type": "stream",
     "text": [
      "['I', 'looked', 'mirror', 'every', 'morning', 'asked']\n"
     ]
    }
   ],
   "source": [
    "from nltk.corpus import stopwords\n",
    "sent = \"I looked in the mirror every morning and asked myself\"\n",
    "stop_words = stopwords.words('english')\n",
    "words = word_tokenize(sent)\n",
    "result = []\n",
    "for word in words:\n",
    "    if word not in stop_words:\n",
    "        result.append(word)\n",
    "print(result)"
   ]
  }
 ],
 "metadata": {
  "kernelspec": {
   "display_name": "Python 3",
   "language": "python",
   "name": "python3"
  },
  "language_info": {
   "codemirror_mode": {
    "name": "ipython",
    "version": 3
   },
   "file_extension": ".py",
   "mimetype": "text/x-python",
   "name": "python",
   "nbconvert_exporter": "python",
   "pygments_lexer": "ipython3",
   "version": "3.8.8"
  }
 },
 "nbformat": 4,
 "nbformat_minor": 5
}
